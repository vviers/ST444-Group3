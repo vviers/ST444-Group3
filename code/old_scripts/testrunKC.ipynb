{
 "cells": [
  {
   "cell_type": "code",
   "execution_count": 1,
   "metadata": {},
   "outputs": [],
   "source": [
    "from trial1 import Particle, PSO"
   ]
  },
  {
   "cell_type": "code",
   "execution_count": null,
   "metadata": {},
   "outputs": [],
   "source": [
    "from functions import *"
   ]
  },
  {
   "cell_type": "code",
   "execution_count": null,
   "metadata": {},
   "outputs": [],
   "source": [
    "def schaffer_f6(x):\n",
    "    return .5 + ((np.sin(np.sqrt(x[0]**2 + x[1]**2))**2) - .5)/((1 + 0.001*(x[0]**2 + x[1]**2))**2)"
   ]
  },
  {
   "cell_type": "code",
   "execution_count": null,
   "metadata": {},
   "outputs": [],
   "source": [
    "%%time\n",
    "pso_s = PSO(30, schaffer_f6, 200, 2, parallel=False, asy_parallel=True)\n",
    "pso_s.asy_run()"
   ]
  },
  {
   "cell_type": "code",
   "execution_count": null,
   "metadata": {},
   "outputs": [],
   "source": [
    "%%time\n",
    "pso = PSO(30, schaffer_f6, 200, 2, parallel=False, asy_parallel=False)\n",
    "pso.run()"
   ]
  },
  {
   "cell_type": "code",
   "execution_count": 10,
   "metadata": {},
   "outputs": [],
   "source": [
    "import numpy as np\n",
    "def griewank(x):\n",
    "    return 1 + (1/4000) * sum([xi**2 for xi in x]) - np.product([np.cos(x[i]/np.sqrt(i+1))\n",
    "                                                                     for i in range(len(x))])"
   ]
  },
  {
   "cell_type": "code",
   "execution_count": 11,
   "metadata": {},
   "outputs": [
    {
     "name": "stdout",
     "output_type": "stream",
     "text": [
      "Running the PSO algorithm in parallel with 100 particles, for 400 iterations.\n",
      "\n",
      "Iteration number 0\n",
      "Current best fitness: 0.021305799044669116\n",
      "\n",
      "\n",
      "Iteration number 50\n",
      "Current best fitness: 0.007396040334120335\n",
      "\n",
      "\n",
      "Iteration number 100\n",
      "Current best fitness: 0.007396040334114895\n",
      "\n",
      "\n",
      "Iteration number 150\n",
      "Current best fitness: 0.007396040334114895\n",
      "\n",
      "\n",
      "Iteration number 200\n",
      "Current best fitness: 0.007396040334114895\n",
      "\n",
      "\n",
      "Iteration number 250\n",
      "Current best fitness: 0.007396040334114895\n",
      "\n",
      "\n",
      "Iteration number 300\n",
      "Current best fitness: 0.007396040334114895\n",
      "\n",
      "\n",
      "Iteration number 350\n",
      "Current best fitness: 0.007396040334114895\n",
      "\n",
      "\n",
      "Found minimum at [-3.14002263  4.43844447] with value 0.007396040334114895.\n"
     ]
    },
    {
     "data": {
      "text/plain": [
       "array([-3.14002263,  4.43844447])"
      ]
     },
     "execution_count": 11,
     "metadata": {},
     "output_type": "execute_result"
    }
   ],
   "source": [
    "pso = PSO(100, griewank, 400, 2, parallel=True)\n",
    "pso.run()"
   ]
  },
  {
   "cell_type": "code",
   "execution_count": 12,
   "metadata": {},
   "outputs": [
    {
     "data": {
      "text/plain": [
       "0.0"
      ]
     },
     "execution_count": 12,
     "metadata": {},
     "output_type": "execute_result"
    }
   ],
   "source": [
    "griewank([0, 0])"
   ]
  },
  {
   "cell_type": "code",
   "execution_count": 3,
   "metadata": {},
   "outputs": [
    {
     "data": {
      "text/plain": [
       "False"
      ]
     },
     "execution_count": 3,
     "metadata": {},
     "output_type": "execute_result"
    }
   ],
   "source": [
    "1==1 and not 1==1"
   ]
  },
  {
   "cell_type": "code",
   "execution_count": null,
   "metadata": {},
   "outputs": [],
   "source": []
  }
 ],
 "metadata": {
  "kernelspec": {
   "display_name": "Python 3",
   "language": "python",
   "name": "python3"
  },
  "language_info": {
   "codemirror_mode": {
    "name": "ipython",
    "version": 3
   },
   "file_extension": ".py",
   "mimetype": "text/x-python",
   "name": "python",
   "nbconvert_exporter": "python",
   "pygments_lexer": "ipython3",
   "version": "3.7.1"
  }
 },
 "nbformat": 4,
 "nbformat_minor": 2
}
