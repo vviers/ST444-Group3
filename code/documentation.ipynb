{
 "cells": [
  {
   "cell_type": "markdown",
   "metadata": {},
   "source": [
    "# Particle Swarm Optimization Code Documentation"
   ]
  },
  {
   "cell_type": "markdown",
   "metadata": {},
   "source": [
    "Our implementation of PSO relies on two fundamental abstractions (a _solver_ objet which manipulates a collection of _particles_) which are particularly suited to the Object-Oriented Programing (OOP) paradigm.\n",
    "\n",
    "We implement the folowing architecture in the `PSO` module (see the `PSO.py` file):\n",
    "\n",
    "![title](PSO API Doc.jpg)\n",
    "\n",
    "Here is an overview of the classes we implemented. The code in PSO.py and every function is properly documented.\n",
    "\n",
    "## The `Particle` class\n",
    "\n",
    "### Attributes\n",
    "We implement a Particle as having the following __attributes__:\n",
    "\n",
    "- a `position`: the current position of the particle. Initiated uniformly at random in the hypercube $[\\texttt{lower}, \\texttt{upper}]^{\\texttt{ndim}}$ where `lower`, `upper`, and `ndim` are provided by the user during class instantation. Implemented as a `numpy` array.\n",
    "\n",
    "- a `velocity`: the current velocity of the particle. Initiated as a random requence of -1s and 1s accross `ndim` dimensions. Implemented as a `numpy` array.\n",
    "\n",
    "- a `personal_best_position` and associated `personal_best_fitness` to keep track of a particle best known position and fitness/error (essentially the particle's memory). Initiated to the particle's original (random) position with an error of positive infinity.\n",
    "\n",
    "- `c1 = 1.49618`, `c2 = 1.49618`, `w = 0.7298`: the cognitive, social, and inertia parameters. User-provided, with defaults values picked following Van den Bergh and Engelbrecht (2006).\n",
    "\n",
    "\n",
    "### Methods\n",
    "\n",
    "A Particle has the following __methods__:\n",
    "\n",
    "- `update_velocity(self, global_best)`: given the global best known position, update the particle's velocity according to the PSO rule.\n",
    "\n",
    "- `move(self)`: move the particle to a new position using the update rule $position_{t+1} = position_{t} + velocity_{t}$. By default, the particles are allowed to explore the search space beyond the initialisation boundaries. To avoid this behaviour, the user should adapt the target function by setting out-of-bound values to positive infinity (the induced discontinuity will not affect the algorithm's performance as it is derivative-free)"
   ]
  },
  {
   "cell_type": "markdown",
   "metadata": {},
   "source": [
    "## The `PSO` base class\n",
    "\n",
    "A `PSO` object is a solver that implements the PSO algorithm to minimize a given function. It is instantiated as follows:\n",
    "\n",
    "```python\n",
    "PSO(num_particles, function, n_iter, ndim, lower = -10, upper = 10,\n",
    "    c1 = 1.49618, c2 = 1.49618, w = 0.7298, epsilon = 10e-7)\n",
    "```\n",
    "\n",
    "\n",
    "### Attributes\n",
    "\n",
    "- `particles`: a `list` of `Particle` objects initiated as described above. There are `num_particles` particles.\n",
    "\n",
    "- `fitnesses`: a `num_particles`-dimensional array containing the current fitness (aka value) of each of the particles (This does not exist for Asynchronous Parallel PSO)\n",
    "\n",
    "- `global_best` and associated `global_best_fitness`: the global best known position along with the function value at that point.\n",
    "\n",
    "- `function`: the function to be optimised. Of the form `f(Array:x) => Float:y`.\n",
    "\n",
    "- `n_iter`: the number of iterations to run the PSO algorithm for. Since this number doesn't really make sense in the asynchronous case, we use a `n_func_eva` attribute instead which is computer as `num_particles * n_iter`.\n",
    "\n",
    "- `epsilon`: defines convergence. If an update between two consecutive global best values is smaller than `epsilon` then the algorithm is said to have converged. This is not implemented for the Asynchronous case.\n",
    "\n",
    "### Methods\n",
    "\n",
    "- `__init__` and `__str__` to instatiate and print a PSO object.\n",
    "\n",
    "- `get_fitnesses(self)`: evaluate all particle's fitnesses. It is done differently depending on whether the algorithm runs in parallel or not.\n",
    "\n",
    "- `update_particles(self)`: updates each particle's best known position if it's current fitness is better than its previous best.\n",
    "\n",
    "- `update_best(self)`: get new best position and associated fitness, if applicable.\n",
    "\n",
    "- `move_particles(self)`: run one iteration of the PSO algorithm. Update particles' velocities and makes them move.\n",
    "\n",
    "- `run(self, verbose=True)`: runs the algorithm for a prespecified number of steps, or until a convergence criterion is reached. Returns the algorithm's global best position. The `verbose` argument makes the output a little bit more informative."
   ]
  },
  {
   "cell_type": "markdown",
   "metadata": {},
   "source": [
    "## The PSO_synchron class\n",
    "\n",
    "This solver is derived from the base PSO class and additionally has a `pooler` attribute which is how the `multiprocessing` library implements a CPU cluster for (synchronous) parallel computing. The number of CPUs used is set to the number of CPUs on your machine minus 1.\n",
    "\n",
    "The `get_fitnesses` method is implemented so as to make use of the pooler and thus run in parallel."
   ]
  },
  {
   "cell_type": "markdown",
   "metadata": {},
   "source": [
    "## The PSO_asynchron class\n",
    "\n",
    "This solver is derived from the base PSO class with several major differences.\n",
    "\n",
    "- TOBECOMPLETED\n",
    "\n",
    "The asynchronous parallelism is based on a `Queue` "
   ]
  },
  {
   "cell_type": "code",
   "execution_count": null,
   "metadata": {},
   "outputs": [],
   "source": [
    "        # Create shared memory array for storing global best position\n",
    "        self.global_best = Array('d', ndim)\n",
    "        # Create shared memory Value for global best fitness\n",
    "        self.global_best_fitness = Value('d', np.inf)\n",
    "        # Shared counter (to count the number of function evaluations)\n",
    "        self.count = Value('i', 0)\n",
    "        # How many time should we evaluate the function?\n",
    "        self.n_func_eva = n_iter * num_particles\n",
    "        self.stop_queuing = self.n_func_eva - num_particles\n",
    "    "
   ]
  },
  {
   "cell_type": "markdown",
   "metadata": {},
   "source": [
    "### Example Use\n",
    "\n",
    "IN:\n",
    "```python\n",
    "from PSO import Particle, PSO, PSO_synchron, PSO_asynchon\n",
    "from functions import quad_function\n",
    "\n",
    "# instantiate the solver\n",
    "solver_basic = PSO(num_particles = 20, function = quad_function, n_iter = 200, ndim = 2,\n",
    "             lower = -10, upper = 10, epsilon = 0)\n",
    "solver_basic.run()\n",
    "```\n",
    "----\n",
    "OUT:\n",
    "\n",
    "\n",
    "```\n",
    "Running the PSO algorithm with 20 particles, for at most 200 iterations.\n",
    "\n",
    "After 200 iterations,\n",
    "Found minimum at [2.  0.5] with value 1.684771319605328e-19.\n",
    "array([2. , 0.5])\n",
    "```"
   ]
  },
  {
   "cell_type": "code",
   "execution_count": null,
   "metadata": {},
   "outputs": [],
   "source": []
  }
 ],
 "metadata": {
  "kernelspec": {
   "display_name": "Python 3",
   "language": "python",
   "name": "python3"
  },
  "language_info": {
   "codemirror_mode": {
    "name": "ipython",
    "version": 3
   },
   "file_extension": ".py",
   "mimetype": "text/x-python",
   "name": "python",
   "nbconvert_exporter": "python",
   "pygments_lexer": "ipython3",
   "version": "3.7.1"
  }
 },
 "nbformat": 4,
 "nbformat_minor": 2
}
