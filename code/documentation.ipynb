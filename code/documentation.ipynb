{
 "cells": [
  {
   "cell_type": "markdown",
   "metadata": {},
   "source": [
    "# Particle Swarm Optimization Code Documentation"
   ]
  },
  {
   "cell_type": "markdown",
   "metadata": {},
   "source": [
    "Our implementation of PSO relies on two fundamental abstractions (a _solver_ objet which manipulates a collection of _particles_) which are particularly suited to the Object-Oriented Programing (OOP) paradigm.\n",
    "\n",
    "We therefore implement two python classes which can be imported from the `PSPSO` module (for Parallel Synchronous Particle Swarm Optimization).\n",
    "\n",
    "## The `Particle` class\n",
    "\n",
    "### Attributes\n",
    "We implement a Particle as having the following __attributes__:\n",
    "\n",
    "- a `position`: the current position of the particle. Initiated uniformly at random in the hypercube $[\\texttt{lower}, \\texttt{upper}]^{\\texttt{ndim}}$ where `lower`, `upper`, and `ndim` are provided by the user during class instantation. Implemented as a `numpy` array.\n",
    "\n",
    "- a `velocity`: the current velocity of the particle. Initiated as a random requence of -1s and 1s accross `ndim` dimensions. Implemented as a `numpy` array.\n",
    "\n",
    "- a `personal_best_position` and associated `personal_best_fitness` to keep track of a particle best known position and fitness/error (essentially the particle's memory). Initiated to the particle's original (random) position with an error of positive infinity.\n",
    "\n",
    "- `c1`, `c2`, `w`: the cognitive, social, and inertia parameters. User-provided, with defaults 1, 2, and .5 respectively.\n",
    "\n",
    "\n",
    "### Methods\n",
    "\n",
    "A Particle has the following __methods__:\n",
    "\n",
    "- `update_velocity(self, global_best)`: given the global best known position, update the particle's velocity according to the PSO rule.\n",
    "\n",
    "- `move(self)`: move the particle to a new position using the update rule $position_{t+1} = position_{t} + velocity_{t}$. By default, the particles are allowed to explore the search space beyond the initialisation boundaries. To avoid this behaviour, the user should adapt the target function by setting out-of-bound values to positive infinity (the induced discontinuity will not affect the algorithm's performance as it is derivative-free)"
   ]
  },
  {
   "cell_type": "markdown",
   "metadata": {},
   "source": [
    "## The `PSO` class\n",
    "\n",
    "A `PSO` object is a solver that implements the PSO algorithm to minimize a given function. It is instantiated as follows:\n",
    "\n",
    "```python\n",
    "PSO(num_particles, function, n_iter,\n",
    "    ndim, lower = -10, upper = 10,\n",
    "    c1 = 1, c2 = 2, w = .5,\n",
    "    parallel = False, threadpool = True, epsilon = 10e-7)\n",
    "```\n",
    "\n",
    "\n",
    "\n",
    "### Attributes\n",
    "\n",
    "- `particles`: a `list` of `Particle` objects initiated as described above. There are `num_particles` particles.\n",
    "\n",
    "- `fitnesses`: an `num_particles`-dimensional array containing the current fitness (aka value) of each of the particles.\n",
    "\n",
    "- `global_best` and associated `global_best_fitness`: the global best known position along with the function value at that point.\n",
    "\n",
    "- `function`: the function to be optimised. Has to be written such that it takes a list of positions and returns an array of fitnesses.\n",
    "\n",
    "- `n_iter`: the number of iterations to run the PSO algorithm for.\n",
    "\n",
    "- `parallel`: a `True/False` value indicating whether to run the PSO algorithm in Parallel. If `True`, a `pooler` attribute is also created which contains a `Pool` object from the `multiprocessing` module which pools together all your available CPUs at the exception of one.\n",
    "\n",
    "- `threadpool`: should the parallelization in fact be multi-threading (i.e. different threads with shared memory)? This is typically much more efficient than creating separate processes but isn't really running 'in parallel' because of cPython's Global Interpreter Lock (GIL).\n",
    "\n",
    "- `epsilon`: defines convergence. If an update between two consecutive global best values is smaller than `epsilon` then the algorithm is said to have converged.\n",
    "\n",
    "### Methods\n",
    "\n",
    "- `__init__` and `__str__` to instatiate and print a PSO object.\n",
    "\n",
    "- `get_fitnesses(self)`: evaluate all particle's fitnesses. It is done in parallel if the `parallel` attribute is set to `True`. Returns a n array of fitnesses.\n",
    "\n",
    "- `update_particles(self)`: updates each particle's best known position if it's current fitness is better than its previous best.\n",
    "\n",
    "- `update_best(self)`: get new best position and associated fitness, if applicable.\n",
    "\n",
    "- `move_particles(self)`: run one iteration of the PSO algorithm. Update particles' velocities and makes them move.\n",
    "\n",
    "- `run(self, verbose=True)`: runs the algorithm for a prespecified number of steps, or until a convergence criterion is reached. By default, prints the current state of the algorithm every 50 iterations. Returns the algorithm's global best position."
   ]
  },
  {
   "cell_type": "markdown",
   "metadata": {},
   "source": [
    "### Example Use\n",
    "\n",
    "IN:\n",
    "```python\n",
    "from PSPSO import Particle, PSO\n",
    "from functions import quad_function\n",
    "\n",
    "# Instantiate PSO solver\n",
    "pso = PSO(num_particles = 20, function = quad_function, n_iter = 100, ndim = 2)\n",
    "\n",
    "# run the solver\n",
    "pso.run()\n",
    "```\n",
    "----\n",
    "OUT:\n",
    "\n",
    "\n",
    "```\n",
    "Running the PSO algorithm in parallel with 20 particles, for 100 iterations.\n",
    "\n",
    "Iteration number 0\n",
    "Current best error: 18.166881777526612\n",
    "\n",
    "Iteration number 50\n",
    "Current best error: 3.727553918035805e-12\n",
    "\n",
    "Found minimum at [2.  0.5] with value 8.0667327796468e-23.\n",
    "array([2. , 0.5])\n",
    "```"
   ]
  },
  {
   "cell_type": "code",
   "execution_count": 1,
   "metadata": {},
   "outputs": [],
   "source": [
    "from PSO import PSO, PSO_synchron, PSO_asynchron\n",
    "from functions import high_dim_rosenbrock"
   ]
  },
  {
   "cell_type": "code",
   "execution_count": 2,
   "metadata": {},
   "outputs": [
    {
     "name": "stdout",
     "output_type": "stream",
     "text": [
      "Running the PSO algorithm with 20 particles, for at most 200 iterations.\n",
      "\n",
      "After 155 iterations,\n",
      "Found minimum at [1.00000303 1.000006   1.00001197] with value 4.557863161978244e-11.\n"
     ]
    },
    {
     "data": {
      "text/plain": [
       "array([1.00000303, 1.000006  , 1.00001197])"
      ]
     },
     "execution_count": 2,
     "metadata": {},
     "output_type": "execute_result"
    }
   ],
   "source": [
    "basic = PSO(20, high_dim_rosenbrock, 200, ndim = 3, epsilon = 10e-12)\n",
    "basic.run()"
   ]
  },
  {
   "cell_type": "code",
   "execution_count": 3,
   "metadata": {},
   "outputs": [
    {
     "name": "stdout",
     "output_type": "stream",
     "text": [
      "Running the PSO algorithm with 20 particles, for at most 200 iterations.\n",
      "\n",
      "After 166 iterations,\n",
      "Found minimum at [0.99999823 0.99999531 0.99999494] with value 2.029337665174713e-09.\n"
     ]
    },
    {
     "data": {
      "text/plain": [
       "array([0.99999823, 0.99999531, 0.99999494])"
      ]
     },
     "execution_count": 3,
     "metadata": {},
     "output_type": "execute_result"
    }
   ],
   "source": [
    "basic = PSO_synchron(20, high_dim_rosenbrock, 200, ndim = 3, epsilon = 10e-12)\n",
    "basic.run()"
   ]
  },
  {
   "cell_type": "code",
   "execution_count": 5,
   "metadata": {},
   "outputs": [
    {
     "name": "stdout",
     "output_type": "stream",
     "text": [
      "Running the PSO algorithm asynchronously with 20 particles, for at most 4000 function evaluations.\n",
      "\n",
      "After 4000 function evaluations,\n",
      "Found minimum at [1.0000008138131307, 1.0000016227776098, 1.0000032251198856] with value 3.339821618840673e-12.\n"
     ]
    },
    {
     "data": {
      "text/plain": [
       "[1.0000008138131307, 1.0000016227776098, 1.0000032251198856]"
      ]
     },
     "execution_count": 5,
     "metadata": {},
     "output_type": "execute_result"
    }
   ],
   "source": [
    "asynch = PSO_asynchron(20, high_dim_rosenbrock, 200, ndim = 3, epsilon = 10e-12)\n",
    "asynch.run()"
   ]
  },
  {
   "cell_type": "code",
   "execution_count": null,
   "metadata": {},
   "outputs": [],
   "source": []
  }
 ],
 "metadata": {
  "kernelspec": {
   "display_name": "Python 3",
   "language": "python",
   "name": "python3"
  },
  "language_info": {
   "codemirror_mode": {
    "name": "ipython",
    "version": 3
   },
   "file_extension": ".py",
   "mimetype": "text/x-python",
   "name": "python",
   "nbconvert_exporter": "python",
   "pygments_lexer": "ipython3",
   "version": "3.7.1"
  }
 },
 "nbformat": 4,
 "nbformat_minor": 2
}
