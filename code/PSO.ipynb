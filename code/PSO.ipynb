{
 "cells": [
  {
   "cell_type": "markdown",
   "metadata": {},
   "source": [
    "# Particle Swarm Optimization\n",
    "\n",
    "Sources:\n",
    "- http://www.swarmintelligence.org/tutorials.php\n",
    "- https://github.com/tisimst/pyswarm/blob/master/pyswarm/pso.py"
   ]
  },
  {
   "cell_type": "markdown",
   "metadata": {},
   "source": [
    "At iteration $k$, particle $i$ has posistion $x^i_k$ defined recursively as:\n",
    "\n",
    "$$x^i_{k+1} = x^i_k + v^i_{k+1}$$\n",
    "\n",
    "where $v$ is its velocity defined as follows:\n",
    "\n",
    "$$ v^i_{k+1} = w_k \\cdot v^i_{k} + c_1 r_1 (p^i_k - x^i_k) + c_2 r_2 (p^g_k - x^i_k)$$\n",
    "\n",
    "Where:\n",
    "\n",
    "- $p^i_k$ is the particle's best known position\n",
    "- $p^g_k$ is the global (all particles) best known position\n",
    "- $w_k$ is an inertia parameter\n",
    "- $c_1$ is the cognitive parameter\n",
    "- $c_2$ is the social parameter\n",
    "- $r_1, r_2$ are random numbers in $(0, 1)$\n",
    "\n",
    "In plain English, the velocity update is defined as:\n",
    "\n",
    "new_velocity = (inertia * previous_velocity) + (move in the direction of the personal best) + (move in the direction of the global best)"
   ]
  },
  {
   "cell_type": "markdown",
   "metadata": {},
   "source": [
    "## PSO"
   ]
  },
  {
   "cell_type": "code",
   "execution_count": 2,
   "metadata": {},
   "outputs": [],
   "source": [
    "import numpy as np\n",
    "import random\n",
    "import multiprocessing"
   ]
  },
  {
   "cell_type": "code",
   "execution_count": 3,
   "metadata": {},
   "outputs": [
    {
     "data": {
      "text/plain": [
       "4"
      ]
     },
     "execution_count": 3,
     "metadata": {},
     "output_type": "execute_result"
    }
   ],
   "source": [
    "multiprocessing.cpu_count()"
   ]
  },
  {
   "cell_type": "markdown",
   "metadata": {},
   "source": [
    "The `Particle` class doesn't change, it only looses the capacity to evaluate its own fitness."
   ]
  },
  {
   "cell_type": "code",
   "execution_count": 4,
   "metadata": {},
   "outputs": [],
   "source": [
    "# -- Particle Class\n",
    "\n",
    "class Particle:\n",
    "    \"\"\"A Python Class for a simple particle.\"\"\"\n",
    "    \n",
    "    def __init__(self, upper, lower, ndim, c1 = 1, c2 = 2, w = .5):\n",
    "        '''Initiate a Particle with an upper and lower bound, and a number of dimensions.'''\n",
    "        # Initiate position and velocity randomly\n",
    "        self.position = np.array([random.uniform(lower, upper) for _ in range(ndim)])\n",
    "        self.velocity = np.array([random.uniform(-1, 1) for _ in range(ndim)])\n",
    "        # These attributes are here to store the \"memory\" of the function\n",
    "        self.personal_best_position = self.position # initial position\n",
    "        self.personal_best_error = np.inf # infinity\n",
    "        self.c1 = c1\n",
    "        self.c2 = c2\n",
    "        self.w = w\n",
    "    \n",
    "    \n",
    "    def __str__(self):\n",
    "        '''what will be called when you print a Particle instance, could be useful for debugging.'''\n",
    "        return(\"I am a particle with best position {},\\ncurrent position {},\\nand velocity {}.\\n\"\n",
    "               .format(self.personal_best_position, self.position, self.velocity))\n",
    "    \n",
    "    \n",
    "    def update_velocity(self, global_best):\n",
    "        '''update a particle's velocity'''\n",
    "        # two random coefficients in uniform([0, 1])\n",
    "        r1 = random.random()\n",
    "        r2 = random.random()\n",
    "        self.velocity = (self.w*self.velocity + # inertia\n",
    "                         self.c1*r1*(self.personal_best_position - self.position) + # cognitive term\n",
    "                         self.c2*r2*(global_best - self.position)) # social term\n",
    "        \n",
    "            \n",
    "    def move(self):\n",
    "        '''Moves a Particle at a new iteration. Deals with out-of-bound cases (are they ok or not?)'''\n",
    "        self.position = self.position + self.velocity\n",
    "        # need to deal with when the particle goes out of bound..."
   ]
  },
  {
   "cell_type": "code",
   "execution_count": null,
   "metadata": {},
   "outputs": [],
   "source": []
  },
  {
   "cell_type": "code",
   "execution_count": 5,
   "metadata": {},
   "outputs": [],
   "source": [
    "# --- Solver Class\n",
    "class PSO:\n",
    "    \"\"\"\n",
    "    +----------------------------------------------------------+\n",
    "    + Parallel Solver instance for Particle Swarm Optimizer.   +\n",
    "    + (Basically the mastermind which commands the Particles.) +\n",
    "    +----------------------------------------------------------+\n",
    "    \n",
    "    Instantiated with:\n",
    "    -----------------\n",
    "    - num_particles: how many particles to use?\n",
    "    \n",
    "    - function: function to minimize. IT MUST BE of the form:\n",
    "                function np.array[coordinates] --- f() ---> [list] (or np.array)\n",
    "                typically, the function returns a list comprehension.\n",
    "                \n",
    "    - n_iter: number of iterations to be performed. To be replaced/completed with convergence criterions.\n",
    "    \n",
    "    - ndim: dimensionality of the search space.\n",
    "    \n",
    "    - lower, upper: lower and upper bounds for the search space\n",
    "    (for now, it's a box i.e. they are the same accross all dimensions.)\n",
    "    \n",
    "    - c1, c2, w: cognitive, social, and inertia parameters. To be tuned to the specific problem.\n",
    "    \n",
    "    - parallel: whether to evaluate the fitness of particles in parallel. `False` by default as a speed-boost is\n",
    "    unlikely in most simple settings.\n",
    "    \"\"\"\n",
    "    \n",
    "    def __init__(self, num_particles, function, n_iter, ndim, lower = -10, upper = 10,\n",
    "                 c1 = 1, c2 = 2, w = .5, parallel = False):\n",
    "        '''Initiate the solver'''\n",
    "        # create all the Particles, stored in a list.\n",
    "        self.particles = [Particle(lower, upper, ndim, c1, c2, w) for _ in range(num_particles)]\n",
    "        self.fitnesses = np.array([])\n",
    "        # store global best and associated error\n",
    "        self.global_best = np.array([])\n",
    "        self.global_best_error = np.inf # infinity\n",
    "        self.function = function # function to be optimised\n",
    "        self.n_iter = n_iter # num of iterations\n",
    "        self.parallel = parallel\n",
    "        if parallel:\n",
    "            self.pooler = Pool(multiprocessing.cpu_count() - 1)\n",
    "        \n",
    "    def get_fitnesses(self):\n",
    "        # Evaluate all fitnesses in parallel, or not.\n",
    "        if self.parallel:\n",
    "            fitnesses = self.pooler.apply(self.function, [[part.position for part in self.particles]])\n",
    "            self.fitnesses = np.array(fitnesses)\n",
    "            \n",
    "        else :\n",
    "            fitnesses = self.function([part.position for part in self.particles])\n",
    "            self.fitnesses = np.array(fitnesses)\n",
    "    \n",
    "    def update_particles(self):\n",
    "        '''update particle best known personal position'''\n",
    "        for i in range(len(self.fitnesses)):\n",
    "            if self.fitnesses[i] < self.particles[i].personal_best_error:\n",
    "                self.particles[i].personal_best_error = self.fitnesses[i]\n",
    "                self.particles[i].personal_best_position = self.particles[i].position          \n",
    "        \n",
    "    def update_best(self):\n",
    "        '''Find the new best global position and update it.'''\n",
    "        if np.any(self.fitnesses < self.global_best_error):\n",
    "            self.global_best_error = np.min(self.fitnesses)\n",
    "            self.global_best = self.particles[np.argmin(self.fitnesses)].position\n",
    "                      \n",
    "    def move_particles(self):\n",
    "        '''Run one iteration of the algorithm. Update particles velocity and move them.'''\n",
    "        for particle in self.particles:\n",
    "            particle.update_velocity(self.global_best)\n",
    "            particle.move()\n",
    "    \n",
    "    def __str__(self):\n",
    "        '''Print best global position when calling `print(pso instance)`'''\n",
    "        return \"\"\"Current best position: {}\n",
    "        With error: {}\"\"\".format(self.global_best, self.global_best_error)\n",
    "    \n",
    "    def run(self, verbose = True):\n",
    "        '''Run the algorithm and print the result. By default, update us every 50 iterations.'''\n",
    "        \n",
    "        if verbose:\n",
    "            print(\"Running the PSO algorithm in parallel with {} particles, for {} iterations.\\n\".\n",
    "                  format(len(self.particles), self.n_iter))\n",
    "        \n",
    "        for iteration in range(self.n_iter):\n",
    "            # this happens in parallel (synchronous only rn)\n",
    "            self.get_fitnesses()\n",
    "            # this doesn't\n",
    "            self.update_particles()\n",
    "            self.update_best()\n",
    "            self.move_particles()\n",
    "            \n",
    "            if (iteration % 50 == 0) & verbose==True:\n",
    "                print(\"Iteration number \" + str(iteration))\n",
    "                print(\"Current best error: \" + str(self.global_best_error))\n",
    "                print(\"\\n\")\n",
    "                \n",
    "        if verbose:\n",
    "            print(\"Found minimum at {} with value {}.\".format(self.global_best, self.global_best_error))\n",
    "            \n",
    "        return(self.global_best)"
   ]
  },
  {
   "cell_type": "markdown",
   "metadata": {},
   "source": [
    "## Tests and benchmarks"
   ]
  },
  {
   "cell_type": "code",
   "execution_count": 6,
   "metadata": {},
   "outputs": [],
   "source": [
    "# This function is cheap to evaluate\n",
    "def quad_function(li):\n",
    "    return [(x[0] + 2*x[1] - 3)**2 + (x[0] - 2)**2 for x in li]\n",
    "from multiprocessing import Pool"
   ]
  },
  {
   "cell_type": "code",
   "execution_count": 7,
   "metadata": {},
   "outputs": [
    {
     "name": "stdout",
     "output_type": "stream",
     "text": [
      "Running the PSO algorithm in parallel with 20 particles, for 100 iterations.\n",
      "\n",
      "Iteration number 0\n",
      "Current best error: 6.710500951250321\n",
      "\n",
      "\n",
      "Iteration number 50\n",
      "Current best error: 1.259071556239094e-13\n",
      "\n",
      "\n",
      "Found minimum at [2.  0.5] with value 1.0853776030652965e-22.\n"
     ]
    },
    {
     "data": {
      "text/plain": [
       "array([2. , 0.5])"
      ]
     },
     "execution_count": 7,
     "metadata": {},
     "output_type": "execute_result"
    }
   ],
   "source": [
    "pso = PSO(20, quad_function, 100, 2)\n",
    "pso.run()"
   ]
  },
  {
   "cell_type": "markdown",
   "metadata": {},
   "source": [
    "The [Rosenbrock Function](https://en.wikipedia.org/wiki/Rosenbrock_function)\n",
    "\n",
    "$f(x,y)=(1-x)^{2}+100(y-x^{2})^{2}$"
   ]
  },
  {
   "cell_type": "code",
   "execution_count": 8,
   "metadata": {},
   "outputs": [],
   "source": [
    "def rosenbrock(li):\n",
    "    def f(x):\n",
    "        return (1-x[0])**2 + 100*(x[1] - x[0]**2)**2\n",
    "    return [f(x) for x in li]"
   ]
  },
  {
   "cell_type": "code",
   "execution_count": 9,
   "metadata": {},
   "outputs": [
    {
     "name": "stdout",
     "output_type": "stream",
     "text": [
      "Running the PSO algorithm in parallel with 20 particles, for 100 iterations.\n",
      "\n",
      "Iteration number 0\n",
      "Current best error: 793.1763569363916\n",
      "\n",
      "\n",
      "Iteration number 50\n",
      "Current best error: 0.2364910306654901\n",
      "\n",
      "\n",
      "Found minimum at [0.99999995 0.9999999 ] with value 3.597231035066068e-15.\n"
     ]
    },
    {
     "data": {
      "text/plain": [
       "array([0.99999995, 0.9999999 ])"
      ]
     },
     "execution_count": 9,
     "metadata": {},
     "output_type": "execute_result"
    }
   ],
   "source": [
    "pso = PSO(20, rosenbrock, 100, ndim = 2)\n",
    "pso.run()"
   ]
  },
  {
   "cell_type": "markdown",
   "metadata": {},
   "source": [
    "High dimensional Rosenbrock\n",
    "\n",
    "${\\displaystyle f(\\mathbf {x} )=\\sum _{i=1}^{N-1}[100(x_{i+1}-x_{i}^{2})^{2}+(1-x_{i})^{2}]\\quad {\\mbox{where}}\\quad \\mathbf {x} =[x_{1},\\ldots ,x_{N}]\\in \\mathbb {R} ^{N}.}$"
   ]
  },
  {
   "cell_type": "code",
   "execution_count": 10,
   "metadata": {},
   "outputs": [],
   "source": [
    "def high_dim_rosenbrock(li):\n",
    "    def f(x):\n",
    "        return sum([(1-x[i])**2 + 100*(x[i+1] - x[i]**2)**2 for i in range(len(x) - 1)])\n",
    "    return [f(x) for x in li]"
   ]
  },
  {
   "cell_type": "code",
   "execution_count": 11,
   "metadata": {},
   "outputs": [
    {
     "data": {
      "text/plain": [
       "[2, 0]"
      ]
     },
     "execution_count": 11,
     "metadata": {},
     "output_type": "execute_result"
    }
   ],
   "source": [
    "high_dim_rosenbrock([np.array([0, 0, 0]), np.array([1, 1, 1])])"
   ]
  },
  {
   "cell_type": "code",
   "execution_count": 32,
   "metadata": {},
   "outputs": [
    {
     "name": "stdout",
     "output_type": "stream",
     "text": [
      "Running the PSO algorithm in parallel with 100 particles, for 100 iterations.\n",
      "\n",
      "Iteration number 0\n",
      "Current best error: 23500.485110354603\n",
      "\n",
      "\n",
      "Iteration number 50\n",
      "Current best error: 2.6552350773821664e-05\n",
      "\n",
      "\n",
      "Found minimum at [1.         1.00000001 1.00000001 1.00000002 1.00000005] with value 2.1480739759907733e-15.\n"
     ]
    }
   ],
   "source": [
    "pso = PSO(100, high_dim_rosenbrock, 100, ndim = 5)\n",
    "sol = pso.run()"
   ]
  },
  {
   "cell_type": "markdown",
   "metadata": {},
   "source": [
    "## Griewank function\n",
    "\n",
    "$$f(x) = 1+{\\frac  {1}{4000}}\\sum _{{i=1}}^{n}x_{i}^{2}-\\prod _{{i=1}}^{n}\\cos \\left({\\frac  {x_{i}}{{\\sqrt  {i}}}}\\right)$$"
   ]
  },
  {
   "cell_type": "code",
   "execution_count": 14,
   "metadata": {},
   "outputs": [],
   "source": [
    "def griewank(li):\n",
    "    def f(x):\n",
    "        return 1 + (1/4000) * sum([xi**2 for xi in x]) - np.product([np.cos(x[i]/np.sqrt(i+1)) for i in range(len(x))])\n",
    "    return [f(x) for x in li]"
   ]
  },
  {
   "cell_type": "code",
   "execution_count": 26,
   "metadata": {},
   "outputs": [
    {
     "name": "stdout",
     "output_type": "stream",
     "text": [
      "Running the PSO algorithm in parallel with 500 particles, for 100 iterations.\n",
      "\n",
      "Iteration number 0\n",
      "Current best error: 0.0793802308709628\n",
      "\n",
      "\n",
      "Iteration number 50\n",
      "Current best error: 0.007396040384200164\n",
      "\n",
      "\n",
      "Found minimum at [-0.00229361 -0.00068673 -0.00784785] with value 1.3029783071272227e-05.\n"
     ]
    },
    {
     "data": {
      "text/plain": [
       "array([-0.00229361, -0.00068673, -0.00784785])"
      ]
     },
     "execution_count": 26,
     "metadata": {},
     "output_type": "execute_result"
    }
   ],
   "source": [
    "pso = PSO(500, griewank, 100, ndim = 3, parallel=False, c1 = 3, c2 = .5)\n",
    "pso.run()"
   ]
  },
  {
   "cell_type": "markdown",
   "metadata": {},
   "source": [
    "For this function, hyperparameter tuning matters a lot!\n",
    "(here, high c1 to let particles explore more!)"
   ]
  },
  {
   "cell_type": "markdown",
   "metadata": {},
   "source": [
    "## Schaffer's F6\n",
    "\n",
    "$$f(x)=0.5+\\frac{sin^2(\\sqrt{x_1^2 + x_2^2})-0.5}{[1+0.001 \\cdot (x_1^2 + x_2^2)]^2}$$"
   ]
  },
  {
   "cell_type": "code",
   "execution_count": 33,
   "metadata": {},
   "outputs": [],
   "source": [
    "def schaffer_f6(li):\n",
    "    def f(x):\n",
    "        return .5 + ((np.sin(np.sqrt(x[0]**2 + x[1]**2))**2) - .5)/((1 + 0.001*(x[0]**2 + x[1]**2))**2)\n",
    "    return [f(x) for x in li]"
   ]
  },
  {
   "cell_type": "code",
   "execution_count": 36,
   "metadata": {},
   "outputs": [
    {
     "data": {
      "text/plain": [
       "[0.0, 0.7076578948260244, 0.9737845308015942]"
      ]
     },
     "execution_count": 36,
     "metadata": {},
     "output_type": "execute_result"
    }
   ],
   "source": [
    "schaffer_f6([[0, 0], [1, 0], [1, 1]])"
   ]
  },
  {
   "cell_type": "code",
   "execution_count": 38,
   "metadata": {},
   "outputs": [
    {
     "name": "stdout",
     "output_type": "stream",
     "text": [
      "Running the PSO algorithm in parallel with 100 particles, for 100 iterations.\n",
      "\n",
      "Iteration number 0\n",
      "Current best error: 0.010156177211700756\n",
      "\n",
      "\n",
      "Iteration number 50\n",
      "Current best error: 8.05111532997671e-12\n",
      "\n",
      "\n",
      "Found minimum at [3.86153945e-09 2.74571391e-09] with value 0.0.\n"
     ]
    },
    {
     "data": {
      "text/plain": [
       "array([3.86153945e-09, 2.74571391e-09])"
      ]
     },
     "execution_count": 38,
     "metadata": {},
     "output_type": "execute_result"
    }
   ],
   "source": [
    "pso = PSO(100, schaffer_f6, 100, 2)\n",
    "pso.run()"
   ]
  },
  {
   "cell_type": "markdown",
   "metadata": {},
   "source": [
    "# Solver is in the `PSPSO.py` module !"
   ]
  },
  {
   "cell_type": "code",
   "execution_count": 27,
   "metadata": {},
   "outputs": [],
   "source": [
    "from PSPSO import Particle, PSO"
   ]
  },
  {
   "cell_type": "code",
   "execution_count": 28,
   "metadata": {},
   "outputs": [],
   "source": [
    "pso = PSO(100, rosenbrock, 100, ndim = 2)"
   ]
  },
  {
   "cell_type": "code",
   "execution_count": 29,
   "metadata": {},
   "outputs": [
    {
     "name": "stdout",
     "output_type": "stream",
     "text": [
      "Running the PSO algorithm in parallel with 100 particles, for 100 iterations.\n",
      "\n",
      "Iteration number 0\n",
      "Current best error: 8.40742499797306\n",
      "\n",
      "\n",
      "Iteration number 50\n",
      "Current best error: 4.005769522933947e-12\n",
      "\n",
      "\n",
      "Found minimum at [1. 1.] with value 9.393428282096142e-25.\n"
     ]
    },
    {
     "data": {
      "text/plain": [
       "array([1., 1.])"
      ]
     },
     "execution_count": 29,
     "metadata": {},
     "output_type": "execute_result"
    }
   ],
   "source": [
    "pso.run()"
   ]
  },
  {
   "cell_type": "code",
   "execution_count": null,
   "metadata": {},
   "outputs": [],
   "source": []
  }
 ],
 "metadata": {
  "kernelspec": {
   "display_name": "Python 3",
   "language": "python",
   "name": "python3"
  },
  "language_info": {
   "codemirror_mode": {
    "name": "ipython",
    "version": 3
   },
   "file_extension": ".py",
   "mimetype": "text/x-python",
   "name": "python",
   "nbconvert_exporter": "python",
   "pygments_lexer": "ipython3",
   "version": "3.7.1"
  }
 },
 "nbformat": 4,
 "nbformat_minor": 2
}
