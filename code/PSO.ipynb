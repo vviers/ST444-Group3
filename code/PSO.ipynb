{
 "cells": [
  {
   "cell_type": "markdown",
   "metadata": {},
   "source": [
    "# Particle Swarm Optimization\n",
    "\n",
    "Sources:\n",
    "- http://www.swarmintelligence.org/tutorials.php\n",
    "- https://github.com/tisimst/pyswarm/blob/master/pyswarm/pso.py"
   ]
  },
  {
   "cell_type": "markdown",
   "metadata": {},
   "source": [
    "At iteration $k$, particle $i$ has posistion $x^i_k$ defined recursively as:\n",
    "\n",
    "$$x^i_{k+1} = x^i_k + v^i_{k+1}$$\n",
    "\n",
    "where $v$ is its velocity defined as follows:\n",
    "\n",
    "$$ v^i_{k+1} = w_k \\cdot v^i_{k} + c_1 r_1 (p^i_k - x^i_k) + c_2 r_2 (p^g_k - x^i_k)$$\n",
    "\n",
    "Where:\n",
    "\n",
    "- $p^i_k$ is the particle's best known position\n",
    "- $p^g_k$ is the global (all particles) best known position\n",
    "- $w_k$ is an inertia parameter\n",
    "- $c_1$ is the cognitive parameter\n",
    "- $c_2$ is the social parameter\n",
    "- $r_1, r_2$ are random numbers in $(0, 1)$\n",
    "\n",
    "In plain English, the velocity update is defined as:\n",
    "\n",
    "new_velocity = (inertia * previous_velocity) + (move in the direction of the personal best) + (move in the direction of the global best)"
   ]
  },
  {
   "cell_type": "code",
   "execution_count": 5,
   "metadata": {},
   "outputs": [],
   "source": [
    "# import two useful libraries/modules\n",
    "import numpy as np\n",
    "import random"
   ]
  },
  {
   "cell_type": "code",
   "execution_count": 16,
   "metadata": {},
   "outputs": [],
   "source": [
    "# -- global parameters\n",
    "c1 = 1 # cognitive parameter\n",
    "c2 = 2 # social parameter\n",
    "w = .5 # inertia\n",
    "\n",
    "# -- Particle Class\n",
    "\n",
    "class Particle:\n",
    "    \"\"\"A Python Class for a simple particle.\"\"\"\n",
    "    \n",
    "    def __init__(self, upper, lower, ndim):\n",
    "        '''Initiate a Particle with an upper and lower bound, and a number of dimensions.'''\n",
    "        # Initiate position and velocity randomly\n",
    "        self.position = np.array([random.uniform(lower, upper) for _ in range(ndim)])\n",
    "        self.velocity = np.array([random.uniform(-1, 1) for _ in range(ndim)])\n",
    "        # These attributes are here to store the \"memory\" of the function\n",
    "        self.personal_best_position = self.position # initial position\n",
    "        self.personal_best_error = np.inf # infinity\n",
    "    \n",
    "    def __str__(self):\n",
    "        '''what will be called when you print a Particle instance, could be useful for debugging.'''\n",
    "        return(\"I am a particle with best position {},\\ncurrent position {},\\nand velocity {}.\\n\"\n",
    "               .format(self.personal_best_position, self.position, self.velocity))       \n",
    "    \n",
    "    def current_error(self, function):\n",
    "        '''Compute the current \"fitness\" value of a particle, given a function. Updates it if needed.'''\n",
    "        current_fitness = function(self.position)\n",
    "        if current_fitness < self.personal_best_error:\n",
    "            self.personal_best_error = current_fitness\n",
    "            self.personal_best_position = self.position\n",
    "        return current_fitness\n",
    "    \n",
    "    def update_velocity(self, global_best):\n",
    "        '''update a particle's velocity'''\n",
    "        # two random coefficients in uniform([0, 1])\n",
    "        r1 = random.random()\n",
    "        r2 = random.random()\n",
    "        self.velocity = (w*self.velocity + # inertia\n",
    "                         c1*r1*(self.personal_best_position - self.position) + # cognitive term\n",
    "                         c2*r2*(global_best - self.position)) # social term\n",
    "            \n",
    "    def move(self):\n",
    "        '''Moves a Particle at a new iteration. Deals with out-of-bound cases (are they ok or not?)'''\n",
    "        self.position = self.position + self.velocity\n",
    "        # need to deal with when the particle goes out of bound..."
   ]
  },
  {
   "cell_type": "code",
   "execution_count": 17,
   "metadata": {},
   "outputs": [],
   "source": [
    "# --- Solver Class\n",
    "class PSO:    \n",
    "    \"\"\"Solver instance for Particle Swarm Optimizer. (Basically the mastermind which commands the Particles.)\n",
    "    Initiated with:\n",
    "    - num_particles: how many particles to use?\n",
    "    - function: function to optimize.\n",
    "    - n_iter: number of iterations to be performed.\n",
    "    - lower, upper: lower and upper bounds for the search space (for now, a box i.e. they are the same accross all dimensions.\n",
    "    - ndim: dimensionality of the search space.)\"\"\"\n",
    "    \n",
    "    def __init__(self, num_particles, function, n_iter, lower = -10, upper = 10, ndim = 3):\n",
    "        '''Initiate the solver'''\n",
    "        # create all the Particles, stored in a list.\n",
    "        self.particles = [Particle(lower, upper, ndim) for _ in range(num_particles)]\n",
    "        # store global best and associated error\n",
    "        self.global_best = np.array([])\n",
    "        self.global_best_error = np.inf # infinity\n",
    "        self.function = function # function to be optimised\n",
    "        self.n_iter = n_iter # num of iterations\n",
    "        \n",
    "    def update_best(self):\n",
    "        '''Find the new best global position and update it.'''\n",
    "        for particle in self.particles:\n",
    "            # ask all particles for their current error. If better than current global best, update.\n",
    "            if particle.current_error(self.function) < self.global_best_error:\n",
    "                self.global_best = particle.position\n",
    "                self.global_best_error = particle.current_error(self.function)\n",
    "                \n",
    "    def move_particles(self):\n",
    "        '''Run one iteration of the algorithm. Update particles velocity and move them.'''\n",
    "        for particle in self.particles:\n",
    "            particle.update_velocity(self.global_best)\n",
    "            particle.move()\n",
    "    \n",
    "    def __str__(self):\n",
    "        '''Print best global position when calling `print(pso instance)`'''\n",
    "        return \"\"\"Current best position: {}\n",
    "        With error: {}\"\"\".format(self.global_best, self.global_best_error)\n",
    "    \n",
    "    def go(self):\n",
    "        '''Run the algorithm and print the result. By default, update us every 50 iterations.'''\n",
    "        print(\"Running the PSO algorithm with {} particles, for {} iterations.\\n\".\n",
    "              format(len(self.particles), self.n_iter))\n",
    "        \n",
    "        for iteration in range(self.n_iter):\n",
    "            pso.update_best()\n",
    "            pso.move_particles()\n",
    "            if iteration % 50 == 0:\n",
    "                print(\"Iteration number \" + str(iteration))\n",
    "                print(\"Current best error: \" + str(self.global_best_error))\n",
    "                print(\"\\n\")\n",
    "                \n",
    "        print(\"Found minimum at {} with value {}.\".format(self.global_best, self.global_best_error))"
   ]
  },
  {
   "cell_type": "markdown",
   "metadata": {},
   "source": [
    "### Tests"
   ]
  },
  {
   "cell_type": "code",
   "execution_count": 18,
   "metadata": {},
   "outputs": [],
   "source": [
    "def sumsquares(x):\n",
    "    return(sum([i**2 for i in x]))"
   ]
  },
  {
   "cell_type": "code",
   "execution_count": 19,
   "metadata": {},
   "outputs": [
    {
     "name": "stdout",
     "output_type": "stream",
     "text": [
      "Running the PSO algorithm with 100 particles, for 100 iterations.\n",
      "\n",
      "Iteration number 0\n",
      "Current best error: 4.594739406432228\n",
      "\n",
      "\n",
      "Iteration number 50\n",
      "Current best error: 7.316314611802258e-13\n",
      "\n",
      "\n",
      "Found minimum at [9.84812004e-14 2.01980195e-12 1.37353660e-12] with value 5.975901241199298e-24.\n"
     ]
    }
   ],
   "source": [
    "pso = PSO(100, sumsquares, n_iter = 100)\n",
    "pso.go()"
   ]
  },
  {
   "cell_type": "code",
   "execution_count": 20,
   "metadata": {},
   "outputs": [
    {
     "name": "stdout",
     "output_type": "stream",
     "text": [
      "I am a particle with best position [4.77976268e-11 1.99249431e-11 1.70834536e-11],\n",
      "current position [4.31224300e-11 2.45946751e-11 4.32396093e-12],\n",
      "and velocity [-4.67519678e-12  4.66973196e-12 -1.27594927e-11].\n",
      "\n",
      "I am a particle with best position [-3.92321597e-11  3.25889909e-11 -1.50936246e-10],\n",
      "current position [-5.41697865e-11  4.04284939e-11 -2.13038411e-10],\n",
      "and velocity [-1.03450363e-10  7.27683625e-11 -4.09235647e-10].\n",
      "\n",
      "I am a particle with best position [-1.08947212e-10  1.22262911e-10  1.98455429e-11],\n",
      "current position [ 1.20091006e-10 -1.32812557e-10 -1.49164228e-11],\n",
      "and velocity [ 4.20799832e-10 -4.77166174e-10 -5.01952244e-11].\n",
      "\n",
      "I am a particle with best position [-4.81829864e-11 -9.39308042e-11 -9.63501046e-11],\n",
      "current position [4.39943953e-10 4.00417610e-10 4.70771021e-11],\n",
      "and velocity [6.49810137e-10 6.06588357e-10 1.05572238e-10].\n",
      "\n",
      "I am a particle with best position [-2.60173804e-12  3.03944571e-12  3.21151772e-12],\n",
      "current position [2.25182308e-11 1.87218555e-11 1.45230017e-11],\n",
      "and velocity [4.57641224e-11 3.29928410e-11 2.55994436e-11].\n",
      "\n",
      "I am a particle with best position [ 5.01028462e-08 -6.51242615e-08 -2.17839855e-08],\n",
      "current position [ 9.82572411e-08 -1.27547287e-07 -4.26922444e-08],\n",
      "and velocity [ 1.82086604e-08 -2.37030549e-08 -7.92137322e-09].\n",
      "\n",
      "I am a particle with best position [-8.21747349e-11 -9.08836727e-11  1.26551172e-10],\n",
      "current position [ 1.13181086e-10  1.99546660e-10 -2.35263000e-10],\n",
      "and velocity [ 4.57756510e-12 -1.25903095e-13 -2.06788314e-12].\n",
      "\n",
      "I am a particle with best position [1.68592815e-09 1.38717733e-09 3.03305498e-10],\n",
      "current position [-9.90135700e-10 -8.13187093e-10 -1.76873410e-10],\n",
      "and velocity [1.53440230e-09 1.24844090e-09 2.81322061e-10].\n",
      "\n",
      "I am a particle with best position [-1.40088749e-09  2.24349417e-11 -1.47461078e-09],\n",
      "current position [-6.41765471e-10 -6.35507738e-10  1.84648865e-09],\n",
      "and velocity [-9.17923439e-10 -1.68698256e-09  5.64881845e-09].\n",
      "\n",
      "I am a particle with best position [-4.20827166e-14  1.01743047e-11  6.93756535e-11],\n",
      "current position [6.39370494e-12 4.32444439e-11 2.36717013e-10],\n",
      "and velocity [1.62541064e-12 3.31542694e-12 2.67468956e-11].\n",
      "\n"
     ]
    }
   ],
   "source": [
    "for p in pso.particles[0:10]:\n",
    "    print(p)"
   ]
  },
  {
   "cell_type": "code",
   "execution_count": 21,
   "metadata": {},
   "outputs": [],
   "source": [
    "def shiftedsumsquares(x):\n",
    "    return(sum([(i+2)**2 for i in x])) # minimum should be all -2"
   ]
  },
  {
   "cell_type": "code",
   "execution_count": 22,
   "metadata": {
    "scrolled": true
   },
   "outputs": [
    {
     "name": "stdout",
     "output_type": "stream",
     "text": [
      "Running the PSO algorithm with 20 particles, for 100 iterations.\n",
      "\n",
      "Iteration number 0\n",
      "Current best error: 5.1675198989926985\n",
      "\n",
      "\n",
      "Iteration number 50\n",
      "Current best error: 7.310353009112931e-12\n",
      "\n",
      "\n",
      "Found minimum at [-2. -2. -2.] with value 3.390667823852566e-20.\n"
     ]
    }
   ],
   "source": [
    "pso = PSO(20, shiftedsumsquares, n_iter = 100) # works well even with 20 swarms!\n",
    "pso.go()"
   ]
  },
  {
   "cell_type": "markdown",
   "metadata": {},
   "source": [
    "Trying the function $f(x) := f(x_1, x_2) = (x_1 + 2 x_2 − 3)^2 + (x_1 − 2)^2$"
   ]
  },
  {
   "cell_type": "code",
   "execution_count": 24,
   "metadata": {},
   "outputs": [],
   "source": [
    "def newfunct(x):\n",
    "    return (x[0] + 2*x[1] - 3)**2 + (x[0] - 2)**2"
   ]
  },
  {
   "cell_type": "code",
   "execution_count": 25,
   "metadata": {},
   "outputs": [
    {
     "name": "stdout",
     "output_type": "stream",
     "text": [
      "Running the PSO algorithm with 100 particles, for 100 iterations.\n",
      "\n",
      "Iteration number 0\n",
      "Current best error: 0.5812078181485358\n",
      "\n",
      "\n",
      "Iteration number 50\n",
      "Current best error: 5.601709483878306e-17\n",
      "\n",
      "\n",
      "Found minimum at [2.  0.5] with value 3.743144995273701e-26.\n"
     ]
    }
   ],
   "source": [
    "pso = PSO(100, newfunct, 100, ndim=2)\n",
    "pso.go()"
   ]
  },
  {
   "cell_type": "markdown",
   "metadata": {},
   "source": [
    "## Parallelizing"
   ]
  },
  {
   "cell_type": "code",
   "execution_count": null,
   "metadata": {},
   "outputs": [],
   "source": [
    "#..."
   ]
  }
 ],
 "metadata": {
  "kernelspec": {
   "display_name": "Python 3",
   "language": "python",
   "name": "python3"
  },
  "language_info": {
   "codemirror_mode": {
    "name": "ipython",
    "version": 3
   },
   "file_extension": ".py",
   "mimetype": "text/x-python",
   "name": "python",
   "nbconvert_exporter": "python",
   "pygments_lexer": "ipython3",
   "version": "3.7.1"
  }
 },
 "nbformat": 4,
 "nbformat_minor": 2
}
