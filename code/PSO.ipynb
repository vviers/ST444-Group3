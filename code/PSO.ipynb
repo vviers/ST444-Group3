{
 "cells": [
  {
   "cell_type": "markdown",
   "metadata": {},
   "source": [
    "# Particle Swarm Optimization\n",
    "\n",
    "Sources:\n",
    "- http://www.swarmintelligence.org/tutorials.php\n",
    "- https://github.com/tisimst/pyswarm/blob/master/pyswarm/pso.py"
   ]
  },
  {
   "cell_type": "markdown",
   "metadata": {},
   "source": [
    "At iteration $k$, particle $i$ has posistion $x^i_k$ defined recursively as:\n",
    "\n",
    "$$x^i_{k+1} = x^i_k + v^i_{k+1}$$\n",
    "\n",
    "where $v$ is its velocity defined as follows:\n",
    "\n",
    "$$ v^i_{k+1} = w_k \\cdot v^i_{k} + c_1 r_1 (p^i_k - x^i_k) + c_2 r_2 (p^g_k - x^i_k)$$\n",
    "\n",
    "Where:\n",
    "\n",
    "- $p^i_k$ is the particle's best known position\n",
    "- $p^g_k$ is the global (all particles) best known position\n",
    "- $w_k$ is an inertia parameter\n",
    "- $c_1$ is the cognitive parameter\n",
    "- $c_2$ is the social parameter\n",
    "- $r_1, r_2$ are random numbers in $(0, 1)$\n",
    "\n",
    "In plain English, the velocity update is defined as:\n",
    "\n",
    "new_velocity = (inertia * previous_velocity) + (move in the direction of the personal best) + (move in the direction of the global best)"
   ]
  },
  {
   "cell_type": "markdown",
   "metadata": {},
   "source": [
    "## Code"
   ]
  },
  {
   "cell_type": "code",
   "execution_count": 1,
   "metadata": {},
   "outputs": [],
   "source": [
    "# import two useful libraries/modules\n",
    "import numpy as np\n",
    "import random\n",
    "import multiprocessing\n",
    "from multiprocessing import Pool\n",
    "\n",
    "#--------------------------------------------------------------------------------------------------------\n",
    "class Particle:\n",
    "    \"\"\"A Python Class for a simple particle.\"\"\"\n",
    "    \n",
    "    def __init__(self, upper, lower, ndim,\n",
    "                 c1 = 1, c2 = 2, w = .5):\n",
    "        '''Initiate a Particle with an upper and lower bound, and a number of dimensions.'''\n",
    "        # Initiate position and velocity randomly\n",
    "        self.position = np.array([random.uniform(lower, upper) for _ in range(ndim)])\n",
    "        self.velocity = np.array([random.uniform(-1, 1) for _ in range(ndim)])\n",
    "        # These attributes are here to store the \"memory\" of the function\n",
    "        self.personal_best_position = self.position # initial position\n",
    "        self.personal_best_fitness = np.inf # infinity\n",
    "        self.c1 = c1\n",
    "        self.c2 = c2\n",
    "        self.w = w\n",
    "    \n",
    "    \n",
    "    def __str__(self):\n",
    "        '''what will be called when you print a Particle instance, could be useful for debugging.'''\n",
    "        return(\"I am a particle with best position {},\\ncurrent position {},\\nand velocity {}.\\n\"\n",
    "               .format(self.personal_best_position, self.position, self.velocity))\n",
    "    \n",
    "    \n",
    "    def update_velocity(self, global_best):\n",
    "        '''update a particle's velocity'''\n",
    "        # two random coefficients in uniform([0, 1])\n",
    "        r1 = random.random()\n",
    "        r2 = random.random()\n",
    "        self.velocity = (self.w*self.velocity + # inertia\n",
    "                         self.c1*r1*(self.personal_best_position - self.position) + # cognitive term\n",
    "                         self.c2*r2*(global_best - self.position)) # social term\n",
    "        \n",
    "            \n",
    "    def move(self):\n",
    "        '''Moves a Particle at a new iteration. Deals with out-of-bound cases (We assume they are ok.)'''\n",
    "        self.position = self.position + self.velocity\n",
    "        # need to deal with when the particle goes out of bound? Not here.\n",
    "\n",
    "# ----------------------------------------------------------------------------------------------------------------\n",
    "class PSO:\n",
    "    \"\"\"\n",
    "    +----------------------------------------------------------+\n",
    "    + Parallel Solver instance for Particle Swarm Optimizer.   +\n",
    "    + (Basically the mastermind which commands the Particles.) +\n",
    "    +----------------------------------------------------------+\n",
    "    \n",
    "    Instantiated with:\n",
    "    -----------------\n",
    "    - num_particles: how many particles to use?\n",
    "    \n",
    "    - function: function to minimize. IT MUST BE of the form:\n",
    "                function np.array[coordinates] --- f() ---> [list] (or np.array)\n",
    "                typically, the function returns a list comprehension.\n",
    "                \n",
    "    - n_iter: number of iterations to be performed. To be replaced/completed with convergence criterions.\n",
    "    \n",
    "    - ndim: dimensionality of the search space.\n",
    "    \n",
    "    - lower, upper: lower and upper bounds for the search space\n",
    "    (for now, it's a box i.e. they are the same accross all dimensions.)\n",
    "    \n",
    "    - c1, c2, w: cognitive, social, and inertia parameters. To be tuned to the specific problem.\n",
    "    \n",
    "    - parallel: whether to evaluate the fitness of particles in parallel. `False` by default as a speed-boost is\n",
    "    unlikely in most simple settings.\n",
    "    \n",
    "    - epsilon: defines convergence. If an update to the global best is smaller than epsilon, then the algorithm\n",
    "               has converged.\n",
    "    \n",
    "    \"\"\"\n",
    "    \n",
    "    def __init__(self, num_particles, function, n_iter, ndim, lower = -10, upper = 10,\n",
    "                 c1 = 1, c2 = 2, w = .5, parallel = False, epsilon = 10e-7):\n",
    "        '''Initiate the solver'''\n",
    "        # create all the Particles, stored in a list.\n",
    "        self.particles = [Particle(lower, upper, ndim, c1, c2, w) for _ in range(num_particles)]\n",
    "        self.fitnesses = np.array([])\n",
    "        # store global best and associated fitness\n",
    "        self.global_best = np.array([])\n",
    "        self.global_best_fitness = np.inf # infinity\n",
    "        self.function = function # function to be optimised\n",
    "        self.n_iter = n_iter # num of iterations\n",
    "        self.parallel = parallel\n",
    "        self.epsilon = epsilon\n",
    "        self.hasConverged = False\n",
    "        if parallel:\n",
    "            self.pooler = Pool(multiprocessing.cpu_count() - 1)\n",
    "        \n",
    "    def get_fitnesses(self):\n",
    "        \"\"\"Evaluate all fitnesses (in parallel is self.parallel is True.)\"\"\"\n",
    "        if self.parallel:\n",
    "            fitnesses = self.pooler.apply(self.function, [[part.position for part in self.particles]])\n",
    "            self.fitnesses = np.array(fitnesses)\n",
    "            \n",
    "        else :\n",
    "            fitnesses = self.function([part.position for part in self.particles])\n",
    "            self.fitnesses = np.array(fitnesses)\n",
    "    \n",
    "    def update_particles(self):\n",
    "        '''update particle best known personal position'''\n",
    "        for i in range(len(self.fitnesses)):\n",
    "            if self.fitnesses[i] < self.particles[i].personal_best_fitness:\n",
    "                self.particles[i].personal_best_fitness = self.fitnesses[i]\n",
    "                self.particles[i].personal_best_position = self.particles[i].position          \n",
    "        \n",
    "    def update_best(self):\n",
    "        '''Find the new best global position and update it.\n",
    "        Additionally check for convergence.'''\n",
    "        if np.any(self.fitnesses < self.global_best_fitness):\n",
    "            fit_before = self.global_best_fitness\n",
    "            self.global_best_fitness = np.min(self.fitnesses)\n",
    "            self.global_best = self.particles[np.argmin(self.fitnesses)].position\n",
    "            \n",
    "            #check convergence\n",
    "            if abs(fit_before - self.global_best_fitness) < self.epsilon:\n",
    "                self.hasConverged = True\n",
    "                      \n",
    "    def move_particles(self):\n",
    "        '''Run one iteration of the algorithm. Update particles velocity and move them.'''\n",
    "        for particle in self.particles:\n",
    "            particle.update_velocity(self.global_best)\n",
    "            particle.move()\n",
    "    \n",
    "    def __str__(self):\n",
    "        '''Print best global position when calling `print(pso instance)`'''\n",
    "        return \"\"\"Current best position: {}\n",
    "        With fitness: {}\"\"\".format(self.global_best, self.global_best_fitness)\n",
    "    \n",
    "    def run(self, verbose = True):\n",
    "        '''Run the algorithm and print the result. By default, update us every 50 iterations.'''\n",
    "        \n",
    "        if verbose:\n",
    "            print(\"Running the PSO algorithm in parallel with {} particles, for {} iterations.\\n\".\n",
    "                  format(len(self.particles), self.n_iter))\n",
    "        \n",
    "        for iteration in range(self.n_iter):\n",
    "            # this happens in parallel (synchronous only rn)\n",
    "            self.get_fitnesses()\n",
    "            # this doesn't\n",
    "            self.update_particles()\n",
    "            self.update_best()\n",
    "            self.move_particles()\n",
    "            \n",
    "            if (iteration % 50 == 0) & verbose==True:\n",
    "                print(\"Iteration number \" + str(iteration))\n",
    "                print(\"Current best fitness: \" + str(self.global_best_fitness))\n",
    "                print(\"\\n\")\n",
    "                \n",
    "            if self.hasConverged == True:\n",
    "                break\n",
    "                \n",
    "        if verbose:\n",
    "            print(\"Found minimum at {} with value {}.\".format(self.global_best, self.global_best_fitness))\n",
    "            \n",
    "        return(self.global_best)"
   ]
  },
  {
   "cell_type": "markdown",
   "metadata": {},
   "source": [
    "## Tests and benchmarks"
   ]
  },
  {
   "cell_type": "code",
   "execution_count": 2,
   "metadata": {},
   "outputs": [],
   "source": [
    "# This function is cheap to evaluate\n",
    "def quad_function(li):\n",
    "    return [(x[0] + 2*x[1] - 3)**2 + (x[0] - 2)**2 for x in li]"
   ]
  },
  {
   "cell_type": "code",
   "execution_count": 3,
   "metadata": {},
   "outputs": [
    {
     "name": "stdout",
     "output_type": "stream",
     "text": [
      "Running the PSO algorithm in parallel with 20 particles, for 100 iterations.\n",
      "\n",
      "Iteration number 0\n",
      "Current best fitness: 34.38796482594808\n",
      "\n",
      "\n",
      "Found minimum at [1.99990182 0.50026676] with value 1.991711886426238e-07.\n"
     ]
    },
    {
     "data": {
      "text/plain": [
       "array([1.99990182, 0.50026676])"
      ]
     },
     "execution_count": 3,
     "metadata": {},
     "output_type": "execute_result"
    }
   ],
   "source": [
    "pso = PSO(20, quad_function, 100, 2)\n",
    "pso.run()"
   ]
  },
  {
   "cell_type": "markdown",
   "metadata": {},
   "source": [
    "The [Rosenbrock Function](https://en.wikipedia.org/wiki/Rosenbrock_function)\n",
    "\n",
    "$f(x,y)=(1-x)^{2}+100(y-x^{2})^{2}$"
   ]
  },
  {
   "cell_type": "code",
   "execution_count": 4,
   "metadata": {},
   "outputs": [],
   "source": [
    "def rosenbrock(li):\n",
    "    def f(x):\n",
    "        return (1-x[0])**2 + 100*(x[1] - x[0]**2)**2\n",
    "    return [f(x) for x in li]"
   ]
  },
  {
   "cell_type": "code",
   "execution_count": 5,
   "metadata": {},
   "outputs": [
    {
     "name": "stdout",
     "output_type": "stream",
     "text": [
      "Running the PSO algorithm in parallel with 20 particles, for 100 iterations.\n",
      "\n",
      "Iteration number 0\n",
      "Current best fitness: 132.43694620701896\n",
      "\n",
      "\n",
      "Found minimum at [1.00038968 1.00080949] with value 2.4174906789499275e-07.\n"
     ]
    },
    {
     "data": {
      "text/plain": [
       "array([1.00038968, 1.00080949])"
      ]
     },
     "execution_count": 5,
     "metadata": {},
     "output_type": "execute_result"
    }
   ],
   "source": [
    "pso = PSO(20, rosenbrock, 100, ndim = 2)\n",
    "pso.run()"
   ]
  },
  {
   "cell_type": "markdown",
   "metadata": {},
   "source": [
    "High dimensional Rosenbrock\n",
    "\n",
    "${\\displaystyle f(\\mathbf {x} )=\\sum _{i=1}^{N-1}[100(x_{i+1}-x_{i}^{2})^{2}+(1-x_{i})^{2}]\\quad {\\mbox{where}}\\quad \\mathbf {x} =[x_{1},\\ldots ,x_{N}]\\in \\mathbb {R} ^{N}.}$"
   ]
  },
  {
   "cell_type": "code",
   "execution_count": null,
   "metadata": {},
   "outputs": [],
   "source": [
    "def high_dim_rosenbrock(li):\n",
    "    def f(x):\n",
    "        return sum([(1-x[i])**2 + 100*(x[i+1] - x[i]**2)**2 for i in range(len(x) - 1)])\n",
    "    return [f(x) for x in li]"
   ]
  },
  {
   "cell_type": "code",
   "execution_count": null,
   "metadata": {},
   "outputs": [],
   "source": [
    "high_dim_rosenbrock([np.array([0, 0, 0]), np.array([1, 1, 1])])"
   ]
  },
  {
   "cell_type": "code",
   "execution_count": null,
   "metadata": {},
   "outputs": [],
   "source": [
    "pso = PSO(100, high_dim_rosenbrock, 100, ndim = 5)\n",
    "sol = pso.run()"
   ]
  },
  {
   "cell_type": "markdown",
   "metadata": {},
   "source": [
    "## Griewank function\n",
    "\n",
    "$$f(x) = 1+{\\frac  {1}{4000}}\\sum _{{i=1}}^{n}x_{i}^{2}-\\prod _{{i=1}}^{n}\\cos \\left({\\frac  {x_{i}}{{\\sqrt  {i}}}}\\right)$$"
   ]
  },
  {
   "cell_type": "code",
   "execution_count": null,
   "metadata": {},
   "outputs": [],
   "source": [
    "def griewank(li):\n",
    "    def f(x):\n",
    "        return 1 + (1/4000) * sum([xi**2 for xi in x]) - np.product([np.cos(x[i]/np.sqrt(i+1)) for i in range(len(x))])\n",
    "    return [f(x) for x in li]"
   ]
  },
  {
   "cell_type": "code",
   "execution_count": null,
   "metadata": {},
   "outputs": [],
   "source": [
    "pso = PSO(500, griewank, 100, ndim = 3, parallel=False, c1 = 3, c2 = .5)\n",
    "pso.run()"
   ]
  },
  {
   "cell_type": "markdown",
   "metadata": {},
   "source": [
    "For this function, hyperparameter tuning matters a lot!\n",
    "(here, high c1 to let particles explore more!)"
   ]
  },
  {
   "cell_type": "markdown",
   "metadata": {},
   "source": [
    "## Schaffer's F6\n",
    "\n",
    "$$f(x)=0.5+\\frac{sin^2(\\sqrt{x_1^2 + x_2^2})-0.5}{[1+0.001 \\cdot (x_1^2 + x_2^2)]^2}$$"
   ]
  },
  {
   "cell_type": "code",
   "execution_count": null,
   "metadata": {},
   "outputs": [],
   "source": [
    "def schaffer_f6(li):\n",
    "    def f(x):\n",
    "        return .5 + ((np.sin(np.sqrt(x[0]**2 + x[1]**2))**2) - .5)/((1 + 0.001*(x[0]**2 + x[1]**2))**2)\n",
    "    return [f(x) for x in li]"
   ]
  },
  {
   "cell_type": "code",
   "execution_count": null,
   "metadata": {},
   "outputs": [],
   "source": [
    "schaffer_f6([[0, 0], [1, 0], [1, 1]])"
   ]
  },
  {
   "cell_type": "code",
   "execution_count": null,
   "metadata": {},
   "outputs": [],
   "source": [
    "pso = PSO(100, schaffer_f6, 100, 2)\n",
    "pso.run()"
   ]
  },
  {
   "cell_type": "markdown",
   "metadata": {},
   "source": [
    "## Rastrigin function\n",
    "\n",
    "$$f(\\mathbf {x} )=An+\\sum _{i=1}^{n}\\left[x_{i}^{2}-A\\cos(2\\pi x_{i})\\right]$$\n",
    "\n",
    "where $ A=10 $ and $x_{i}\\in [-5.12,5.12]$."
   ]
  },
  {
   "cell_type": "code",
   "execution_count": null,
   "metadata": {},
   "outputs": [],
   "source": [
    "def rastrigin(li):\n",
    "    def f(x):\n",
    "        return 10*len(x) + sum([xi**2 - 10 * np.cos(2*np.pi*xi) for xi in x])\n",
    "    return [f(x) for x in li]\n",
    "\n",
    "rastrigin([[0, 0, 0, 0, 0], [1, 1], [1, 2, 3, 4]])"
   ]
  },
  {
   "cell_type": "markdown",
   "metadata": {},
   "source": [
    "# Solver is in the `PSPSO.py` module !"
   ]
  },
  {
   "cell_type": "code",
   "execution_count": 2,
   "metadata": {},
   "outputs": [
    {
     "name": "stdout",
     "output_type": "stream",
     "text": [
      "Running the PSO algorithm in parallel with 20 particles, for 100 iterations.\n",
      "\n",
      "Iteration number 0\n",
      "Current best error: 18.166881777526612\n",
      "\n",
      "\n",
      "Iteration number 50\n",
      "Current best error: 3.727553918035805e-12\n",
      "\n",
      "\n",
      "Found minimum at [2.  0.5] with value 8.0667327796468e-23.\n"
     ]
    },
    {
     "data": {
      "text/plain": [
       "array([2. , 0.5])"
      ]
     },
     "execution_count": 2,
     "metadata": {},
     "output_type": "execute_result"
    }
   ],
   "source": [
    "from PSPSO import Particle, PSO\n",
    "from functions import quad_function\n",
    "\n",
    "# Instantiate PSO solver\n",
    "pso = PSO(num_particles = 20, function = quad_function, n_iter = 100, ndim = 2)\n",
    "\n",
    "pso.run()"
   ]
  },
  {
   "cell_type": "code",
   "execution_count": null,
   "metadata": {},
   "outputs": [],
   "source": [
    "pso_par = PSO(10000, rastrigin, 10, ndim = 30,\n",
    "          lower = -5.12, upper = 5.12, c1 = 2, c2 = .33,\n",
    "          parallel=True)"
   ]
  },
  {
   "cell_type": "code",
   "execution_count": null,
   "metadata": {},
   "outputs": [],
   "source": [
    "%%time\n",
    "pso_par.run(verbose = True)"
   ]
  },
  {
   "cell_type": "code",
   "execution_count": null,
   "metadata": {},
   "outputs": [],
   "source": [
    "pso_nonpar = PSO(10000, rastrigin, 10, ndim = 30,\n",
    "          lower = -5.12, upper = 5.12, c1 = 2, c2 = .33,\n",
    "          parallel=False)"
   ]
  },
  {
   "cell_type": "code",
   "execution_count": null,
   "metadata": {},
   "outputs": [],
   "source": [
    "pso.parallel"
   ]
  },
  {
   "cell_type": "code",
   "execution_count": null,
   "metadata": {},
   "outputs": [],
   "source": [
    "%%time\n",
    "pso.run()"
   ]
  },
  {
   "cell_type": "code",
   "execution_count": null,
   "metadata": {},
   "outputs": [],
   "source": []
  }
 ],
 "metadata": {
  "kernelspec": {
   "display_name": "Python 3",
   "language": "python",
   "name": "python3"
  },
  "language_info": {
   "codemirror_mode": {
    "name": "ipython",
    "version": 3
   },
   "file_extension": ".py",
   "mimetype": "text/x-python",
   "name": "python",
   "nbconvert_exporter": "python",
   "pygments_lexer": "ipython3",
   "version": "3.7.1"
  }
 },
 "nbformat": 4,
 "nbformat_minor": 2
}
