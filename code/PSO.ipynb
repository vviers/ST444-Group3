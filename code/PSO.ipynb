{
 "cells": [
  {
   "cell_type": "markdown",
   "metadata": {},
   "source": [
    "# Particle Swarm Optimization\n",
    "\n",
    "Sources:\n",
    "- http://www.swarmintelligence.org/tutorials.php\n",
    "- https://github.com/tisimst/pyswarm/blob/master/pyswarm/pso.py"
   ]
  },
  {
   "cell_type": "markdown",
   "metadata": {},
   "source": [
    "At iteration $k$, particle $i$ has posistion $x^i_k$ defined recursively as:\n",
    "\n",
    "$$x^i_{k+1} = x^i_k + v^i_{k+1}$$\n",
    "\n",
    "where $v$ is its velocity defined as follows:\n",
    "\n",
    "$$ v^i_{k+1} = w_k \\cdot v^i_{k} + c_1 r_1 (p^i_k - x^i_k) + c_2 r_2 (p^g_k - x^i_k)$$\n",
    "\n",
    "Where:\n",
    "\n",
    "- $p^i_k$ is the particle's best known position\n",
    "- $p^g_k$ is the global (all particles) best known position\n",
    "- $w_k$ is an inertia parameter\n",
    "- $c_1$ is the cognitive parameter\n",
    "- $c_2$ is the social parameter\n",
    "- $r_1, r_2$ are random numbers in $(0, 1)$\n",
    "\n",
    "In plain English, the velocity update is defined as:\n",
    "\n",
    "new_velocity = (inertia * previous_velocity) + (move in the direction of the personal best) + (move in the direction of the global best)"
   ]
  },
  {
   "cell_type": "code",
   "execution_count": 1,
   "metadata": {},
   "outputs": [],
   "source": [
    "# import two useful libraries/modules\n",
    "import numpy as np\n",
    "import random"
   ]
  },
  {
   "cell_type": "code",
   "execution_count": 2,
   "metadata": {},
   "outputs": [],
   "source": [
    "# -- global parameters\n",
    "c1 = 1 # cognitive parameter\n",
    "c2 = 2 # social parameter\n",
    "w = .5 # inertia\n",
    "\n",
    "# -- Particle Class\n",
    "\n",
    "class Particle:\n",
    "    \"\"\"A Python Class for a simple particle.\"\"\"\n",
    "    \n",
    "    def __init__(self, upper, lower, ndim):\n",
    "        '''Initiate a Particle with an upper and lower bound, and a number of dimensions.'''\n",
    "        # Initiate position and velocity randomly\n",
    "        self.position = np.array([random.uniform(lower, upper) for _ in range(ndim)])\n",
    "        self.velocity = np.array([random.uniform(-1, 1) for _ in range(ndim)])\n",
    "        # These attributes are here to store the \"memory\" of the function\n",
    "        self.personal_best_position = self.position # initial position\n",
    "        self.personal_best_error = np.inf # infinity\n",
    "    \n",
    "    def __str__(self):\n",
    "        '''what will be called when you print a Particle instance, could be useful for debugging.'''\n",
    "        return(\"I am a particle with best position {},\\ncurrent position {},\\nand velocity {}.\\n\"\n",
    "               .format(self.personal_best_position, self.position, self.velocity))       \n",
    "    \n",
    "    def current_error(self, function):\n",
    "        '''Compute the current \"fitness\" value of a particle, given a function. Updates it if needed.'''\n",
    "        current_fitness = function(self.position)\n",
    "        if current_fitness < self.personal_best_error:\n",
    "            self.personal_best_error = current_fitness\n",
    "            self.personal_best_position = self.position\n",
    "        return current_fitness\n",
    "    \n",
    "    def update_velocity(self, global_best):\n",
    "        '''update a particle's velocity'''\n",
    "        # two random coefficients in uniform([0, 1])\n",
    "        r1 = random.random()\n",
    "        r2 = random.random()\n",
    "        self.velocity = (w*self.velocity + # inertia\n",
    "                         c1*r1*(self.personal_best_position - self.position) + # cognitive term\n",
    "                         c2*r2*(global_best - self.position)) # social term\n",
    "            \n",
    "    def move(self):\n",
    "        '''Moves a Particle at a new iteration. Deals with out-of-bound cases (are they ok or not?)'''\n",
    "        self.position = self.position + self.velocity\n",
    "        # need to deal with when the particle goes out of bound..."
   ]
  },
  {
   "cell_type": "code",
   "execution_count": 3,
   "metadata": {},
   "outputs": [],
   "source": [
    "# --- Solver Class\n",
    "class PSO:    \n",
    "    \"\"\"Solver instance for Particle Swarm Optimizer. (Basically the mastermind which commands the Particles.)\n",
    "    Initiated with:\n",
    "    - num_particles: how many particles to use?\n",
    "    - function: function to optimize.\n",
    "    - n_iter: number of iterations to be performed.\n",
    "    - lower, upper: lower and upper bounds for the search space (for now, a box i.e. they are the same accross all dimensions.\n",
    "    - ndim: dimensionality of the search space.)\"\"\"\n",
    "    \n",
    "    def __init__(self, num_particles, function, n_iter, lower = -10, upper = 10, ndim = 3):\n",
    "        '''Initiate the solver'''\n",
    "        # create all the Particles, stored in a list.\n",
    "        self.particles = [Particle(lower, upper, ndim) for _ in range(num_particles)]\n",
    "        # store global best and associated error\n",
    "        self.global_best = np.array([])\n",
    "        self.global_best_error = np.inf # infinity\n",
    "        self.function = function # function to be optimised\n",
    "        self.n_iter = n_iter # num of iterations\n",
    "        \n",
    "    def update_best(self):\n",
    "        '''Find the new best global position and update it.'''\n",
    "        for particle in self.particles:\n",
    "            # ask all particles for their current error. If better than current global best, update.\n",
    "            if particle.current_error(self.function) < self.global_best_error:\n",
    "                self.global_best = particle.position\n",
    "                self.global_best_error = particle.current_error(self.function)\n",
    "                \n",
    "    def move_particles(self):\n",
    "        '''Run one iteration of the algorithm. Update particles velocity and move them.'''\n",
    "        for particle in self.particles:\n",
    "            particle.update_velocity(self.global_best)\n",
    "            particle.move()\n",
    "    \n",
    "    def __str__(self):\n",
    "        '''Print best global position when calling `print(pso instance)`'''\n",
    "        return \"\"\"Current best position: {}\n",
    "        With error: {}\"\"\".format(self.global_best, self.global_best_error)\n",
    "    \n",
    "    def go(self):\n",
    "        '''Run the algorithm and print the result. By default, update us every 50 iterations.'''\n",
    "        print(\"Running the PSO algorithm with {} particles, for {} iterations.\\n\".\n",
    "              format(len(self.particles), self.n_iter))\n",
    "        \n",
    "        for iteration in range(self.n_iter):\n",
    "            pso.update_best()\n",
    "            pso.move_particles()\n",
    "            if iteration % 50 == 0:\n",
    "                print(\"Iteration number \" + str(iteration))\n",
    "                print(\"Current best error: \" + str(self.global_best_error))\n",
    "                print(\"\\n\")\n",
    "                \n",
    "        print(\"Found minimum at {} with value {}.\".format(self.global_best, self.global_best_error))"
   ]
  },
  {
   "cell_type": "markdown",
   "metadata": {},
   "source": [
    "### Tests"
   ]
  },
  {
   "cell_type": "code",
   "execution_count": 4,
   "metadata": {},
   "outputs": [],
   "source": [
    "def sumsquares(x):\n",
    "    return(sum([i**2 for i in x]))"
   ]
  },
  {
   "cell_type": "code",
   "execution_count": 5,
   "metadata": {},
   "outputs": [
    {
     "name": "stdout",
     "output_type": "stream",
     "text": [
      "Running the PSO algorithm with 100 particles, for 100 iterations.\n",
      "\n",
      "Iteration number 0\n",
      "Current best error: 7.039413281416003\n",
      "\n",
      "\n",
      "Iteration number 50\n",
      "Current best error: 1.4139136619277234e-12\n",
      "\n",
      "\n",
      "Found minimum at [-4.26200021e-12 -1.13753191e-13  8.08718842e-13] with value 1.883161172002509e-23.\n"
     ]
    }
   ],
   "source": [
    "pso = PSO(100, sumsquares, n_iter = 100)\n",
    "pso.go()"
   ]
  },
  {
   "cell_type": "code",
   "execution_count": 6,
   "metadata": {},
   "outputs": [
    {
     "name": "stdout",
     "output_type": "stream",
     "text": [
      "I am a particle with best position [-1.17159549e-11  8.20983373e-12  5.28377803e-12],\n",
      "current position [-8.10226662e-13 -3.63584802e-12  8.29115500e-13],\n",
      "and velocity [ 1.50918761e-11 -1.56615401e-11 -1.56165611e-12].\n",
      "\n",
      "I am a particle with best position [-1.94576623e-11 -6.24669435e-11  2.88031832e-11],\n",
      "current position [-6.04107974e-12 -4.02168039e-11  2.56716782e-11],\n",
      "and velocity [-1.48302893e-10 -5.38950144e-11 -9.37037028e-11].\n",
      "\n",
      "I am a particle with best position [-4.40151894e-12  5.15370495e-13  4.02127937e-13],\n",
      "current position [-5.27921596e-12  1.40904307e-14 -1.84909775e-12],\n",
      "and velocity [-8.77697022e-13 -5.01280064e-13 -2.25122569e-12].\n",
      "\n",
      "I am a particle with best position [-2.56046520e-10 -1.59195313e-10 -2.79638538e-10],\n",
      "current position [-3.95637138e-10 -2.54973461e-10 -2.52775706e-10],\n",
      "and velocity [1.03135796e-10 6.80574218e-11 4.52686729e-11].\n",
      "\n",
      "I am a particle with best position [-2.15269402e-11  6.49931577e-12  7.81400051e-12],\n",
      "current position [ 7.15337902e-11 -2.74401581e-11 -2.19146507e-11],\n",
      "and velocity [ 2.21552387e-11 -7.77243733e-12 -5.62942687e-12].\n",
      "\n",
      "I am a particle with best position [-2.35664929e-11  1.74616887e-10  2.85807485e-10],\n",
      "current position [-1.28777483e-11  1.01941180e-10  1.74854103e-10],\n",
      "and velocity [ 1.06887446e-11 -7.26757061e-11 -1.10953383e-10].\n",
      "\n",
      "I am a particle with best position [-3.25808108e-11 -5.93955389e-10  2.85636879e-10],\n",
      "current position [-2.69682858e-11 -4.92656849e-10  2.35922913e-10],\n",
      "and velocity [-9.29117494e-11 -2.43825867e-09  1.13578752e-09].\n",
      "\n",
      "I am a particle with best position [-4.02528961e-12  7.40976090e-12 -6.84826649e-12],\n",
      "current position [ 7.48346188e-12 -4.72224233e-12  1.96219574e-11],\n",
      "and velocity [ 1.15087515e-11 -1.21320032e-11  2.64702239e-11].\n",
      "\n",
      "I am a particle with best position [5.12514154e-10 1.83924914e-10 8.15929788e-10],\n",
      "current position [1.42104789e-10 5.11077680e-11 2.32140276e-10],\n",
      "and velocity [-5.55111445e-10 -1.90671366e-10 -8.79194557e-10].\n",
      "\n",
      "I am a particle with best position [ 1.74558651e-10  4.92394410e-11 -1.10337294e-09],\n",
      "current position [-1.50716911e-10 -2.45902574e-11  3.47772705e-09],\n",
      "and velocity [ 2.22940704e-10  5.90878186e-11 -2.22552274e-09].\n",
      "\n"
     ]
    }
   ],
   "source": [
    "for p in pso.particles[0:10]:\n",
    "    print(p)"
   ]
  },
  {
   "cell_type": "code",
   "execution_count": 7,
   "metadata": {},
   "outputs": [],
   "source": [
    "def shiftedsumsquares(x):\n",
    "    return(sum([(i+2)**2 for i in x])) # minimum should be all -2"
   ]
  },
  {
   "cell_type": "code",
   "execution_count": 8,
   "metadata": {
    "scrolled": true
   },
   "outputs": [
    {
     "name": "stdout",
     "output_type": "stream",
     "text": [
      "Running the PSO algorithm with 20 particles, for 100 iterations.\n",
      "\n",
      "Iteration number 0\n",
      "Current best error: 60.16864684165179\n",
      "\n",
      "\n",
      "Iteration number 50\n",
      "Current best error: 5.3556877410235333e-11\n",
      "\n",
      "\n",
      "Found minimum at [-2. -2. -2.] with value 5.643551190973464e-20.\n"
     ]
    }
   ],
   "source": [
    "pso = PSO(20, shiftedsumsquares, n_iter = 100) # works well even with 20 swarms!\n",
    "pso.go()"
   ]
  },
  {
   "cell_type": "markdown",
   "metadata": {},
   "source": [
    "Trying the function $f(x) := f(x_1, x_2) = (x_1 + 2 x_2 − 3)^2 + (x_1 − 2)^2$"
   ]
  },
  {
   "cell_type": "code",
   "execution_count": 9,
   "metadata": {},
   "outputs": [],
   "source": [
    "def newfunct(x):\n",
    "    return (x[0] + 2*x[1] - 3)**2 + (x[0] - 2)**2"
   ]
  },
  {
   "cell_type": "code",
   "execution_count": 10,
   "metadata": {},
   "outputs": [
    {
     "name": "stdout",
     "output_type": "stream",
     "text": [
      "Running the PSO algorithm with 100 particles, for 100 iterations.\n",
      "\n",
      "Iteration number 0\n",
      "Current best error: 5.666555777980033\n",
      "\n",
      "\n",
      "Iteration number 50\n",
      "Current best error: 2.9611769525075824e-14\n",
      "\n",
      "\n",
      "Found minimum at [2.  0.5] with value 6.542437638973092e-26.\n"
     ]
    }
   ],
   "source": [
    "pso = PSO(100, newfunct, 100, ndim=2)\n",
    "pso.go()\n",
    "# hello"
   ]
  },
  {
   "cell_type": "markdown",
   "metadata": {},
   "source": [
    "## Parallelizing"
   ]
  },
  {
   "cell_type": "code",
   "execution_count": null,
   "metadata": {},
   "outputs": [],
   "source": [
    "#..."
   ]
  }
 ],
 "metadata": {
  "kernelspec": {
   "display_name": "Python 3",
   "language": "python",
   "name": "python3"
  },
  "language_info": {
   "codemirror_mode": {
    "name": "ipython",
    "version": 3
   },
   "file_extension": ".py",
   "mimetype": "text/x-python",
   "name": "python",
   "nbconvert_exporter": "python",
   "pygments_lexer": "ipython3",
   "version": "3.7.0"
  }
 },
 "nbformat": 4,
 "nbformat_minor": 2
}
