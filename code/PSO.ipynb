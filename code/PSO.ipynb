{
 "cells": [
  {
   "cell_type": "markdown",
   "metadata": {},
   "source": [
    "# Particle Swarm Optimization\n",
    "\n",
    "Sources:\n",
    "- http://www.swarmintelligence.org/tutorials.php\n",
    "- https://github.com/tisimst/pyswarm/blob/master/pyswarm/pso.py"
   ]
  },
  {
   "cell_type": "markdown",
   "metadata": {},
   "source": [
    "At iteration $k$, particle $i$ has posistion $x^i_k$ defined recursively as:\n",
    "\n",
    "$$x^i_{k+1} = x^i_k + v^i_{k+1}$$\n",
    "\n",
    "where $v$ is its velocity defined as follows:\n",
    "\n",
    "$$ v^i_{k+1} = w_k \\cdot v^i_{k} + c_1 r_1 (p^i_k - x^i_k) + c_2 r_2 (p^g_k - x^i_k)$$\n",
    "\n",
    "Where:\n",
    "\n",
    "- $p^i_k$ is the particle's best known position\n",
    "- $p^g_k$ is the global (all particles) best known position\n",
    "- $w_k$ is an inertia parameter\n",
    "- $c_1$ is the cognitive parameter\n",
    "- $c_2$ is the social parameter\n",
    "- $r_1, r_2$ are random numbers in $(0, 1)$\n",
    "\n",
    "In plain English, the velocity update is defined as:\n",
    "\n",
    "new_velocity = (inertia * previous_velocity) + (move in the direction of the personal best) + (move in the direction of the global best)"
   ]
  },
  {
   "cell_type": "code",
   "execution_count": 2,
   "metadata": {},
   "outputs": [],
   "source": [
    "import numpy as np\n",
    "import random"
   ]
  },
  {
   "cell_type": "code",
   "execution_count": 134,
   "metadata": {},
   "outputs": [],
   "source": [
    "# -- global parameters\n",
    "c1 = 1\n",
    "c2 = 2\n",
    "w = .5\n",
    "\n",
    "# -- Particle Class\n",
    "\n",
    "class Particle:\n",
    "    \"\"\"A Python Class for a simple particle.\"\"\"\n",
    "    \n",
    "    def __init__(self, upper, lower, ndim):\n",
    "        self.position = np.array([random.uniform(lower, upper) for _ in range(ndim)])\n",
    "        self.velocity = np.array([random.uniform(-1, 1) for _ in range(ndim)])\n",
    "        self.personal_best_position = self.position\n",
    "        self.personal_best_error = np.inf\n",
    "    \n",
    "    def __str__(self):\n",
    "        #return(\"I am a particle with best position {},\\ncurrent position {},\\nand velocity {}.\\n\"\n",
    "        #       .format(self.personal_best_position, self.position, self.velocity))\n",
    "        return str(self.position)\n",
    "    \n",
    "    def current_error(self, function):\n",
    "        return function(self.position)\n",
    "    \n",
    "    def update_velocity(self, global_best):\n",
    "        r1 = random.random()\n",
    "        r2 = random.random()\n",
    "        self.velocity = w*self.velocity + c1*r1*(self.personal_best_position - self.position) + c2*r2*(global_best - self.position)\n",
    "            \n",
    "    def move(self):\n",
    "        self.position = self.position + self.velocity\n",
    "        # need to deal with when the particle goes out of bound..."
   ]
  },
  {
   "cell_type": "code",
   "execution_count": 162,
   "metadata": {},
   "outputs": [],
   "source": [
    "# --- Solver Class\n",
    "class PSO:\n",
    "    \n",
    "    \"\"\"Solver instance for Particle Swarm Optimization.\"\"\"\n",
    "    \n",
    "    def __init__(self, num_particles, function, n_iter, lower = -10, upper = 10, ndim = 3):\n",
    "        self.particles = [Particle(lower, upper, ndim) for _ in range(num_particles)]\n",
    "        self.global_best = np.array([])\n",
    "        self.global_best_error = np.inf\n",
    "        self.function = function\n",
    "        self.n_iter = n_iter\n",
    "        \n",
    "    def update_best(self):\n",
    "        for particle in self.particles:\n",
    "            if particle.current_error(self.function) < self.global_best_error:\n",
    "                self.global_best = particle.position\n",
    "                self.global_best_error = particle.current_error(self.function)\n",
    "                \n",
    "    def move_particles(self):\n",
    "        for particle in self.particles:\n",
    "            particle.update_velocity(self.global_best)\n",
    "            particle.move()\n",
    "    \n",
    "    def __str__(self):\n",
    "        return \"\"\"Current best position: {}\n",
    "        With error: {}\"\"\".format(self.global_best, self.global_best_error)\n",
    "    \n",
    "    def go(self):\n",
    "        \n",
    "        for _ in range(self.n_iter):\n",
    "            pso.update_best()\n",
    "            pso.move_particles()\n",
    "            if _ % 50 == 0:\n",
    "                print(_)\n",
    "                print(self.global_best_error)\n",
    "                print(\"\\n\")\n",
    "        print(\"Found minimum at {} with value {}.\".format(self.global_best, self.global_best_error))"
   ]
  },
  {
   "cell_type": "markdown",
   "metadata": {},
   "source": [
    "### Tests"
   ]
  },
  {
   "cell_type": "code",
   "execution_count": 163,
   "metadata": {},
   "outputs": [],
   "source": [
    "def sumsquares(x):\n",
    "    return(sum([i**2 for i in x]))"
   ]
  },
  {
   "cell_type": "code",
   "execution_count": 164,
   "metadata": {},
   "outputs": [
    {
     "name": "stdout",
     "output_type": "stream",
     "text": [
      "0\n",
      "6.946184086267664\n",
      "\n",
      "\n",
      "50\n",
      "0.0004253457305378732\n",
      "\n",
      "\n",
      "Found minimum at [0.00607099 0.00245675 0.00296391] with value 5.167731710142975e-05.\n"
     ]
    }
   ],
   "source": [
    "pso = PSO(100, sumsquares, n_iter = 100)\n",
    "pso.go()"
   ]
  },
  {
   "cell_type": "code",
   "execution_count": 167,
   "metadata": {},
   "outputs": [],
   "source": [
    "def shiftedsumsquares(x):\n",
    "    return(sum([(i+2)**2 for i in x])) # minimum should be all -2"
   ]
  },
  {
   "cell_type": "code",
   "execution_count": 171,
   "metadata": {},
   "outputs": [
    {
     "name": "stdout",
     "output_type": "stream",
     "text": [
      "0\n",
      "19.417415544303\n",
      "\n",
      "\n",
      "50\n",
      "0.0020972420741141033\n",
      "\n",
      "\n",
      "Found minimum at [-2.00410702 -2.0122623  -2.01415294] with value 0.0003675372419485579.\n"
     ]
    }
   ],
   "source": [
    "pso = PSO(20, shiftedsumsquares, n_iter = 100) # works well even with 20 swarms!\n",
    "pso.go()"
   ]
  },
  {
   "cell_type": "markdown",
   "metadata": {},
   "source": [
    "## Parallelizing"
   ]
  },
  {
   "cell_type": "code",
   "execution_count": null,
   "metadata": {},
   "outputs": [],
   "source": [
    "#..."
   ]
  }
 ],
 "metadata": {
  "kernelspec": {
   "display_name": "Python 3",
   "language": "python",
   "name": "python3"
  },
  "language_info": {
   "codemirror_mode": {
    "name": "ipython",
    "version": 3
   },
   "file_extension": ".py",
   "mimetype": "text/x-python",
   "name": "python",
   "nbconvert_exporter": "python",
   "pygments_lexer": "ipython3",
   "version": "3.7.1"
  }
 },
 "nbformat": 4,
 "nbformat_minor": 2
}
