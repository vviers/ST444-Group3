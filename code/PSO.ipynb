{
 "cells": [
  {
   "cell_type": "markdown",
   "metadata": {},
   "source": [
    "# Particle Swarm Optimization\n",
    "\n",
    "Sources:\n",
    "- http://www.swarmintelligence.org/tutorials.php\n",
    "- https://github.com/tisimst/pyswarm/blob/master/pyswarm/pso.py"
   ]
  },
  {
   "cell_type": "markdown",
   "metadata": {},
   "source": [
    "At iteration $k$, particle $i$ has posistion $x^i_k$ defined recursively as:\n",
    "\n",
    "$$x^i_{k+1} = x^i_k + v^i_{k+1}$$\n",
    "\n",
    "where $v$ is its velocity defined as follows:\n",
    "\n",
    "$$ v^i_{k+1} = w_k \\cdot v^i_{k} + c_1 r_1 (p^i_k - x^i_k) + c_2 r_2 (p^g_k - x^i_k)$$\n",
    "\n",
    "Where:\n",
    "\n",
    "- $p^i_k$ is the particle's best known position\n",
    "- $p^g_k$ is the global (all particles) best known position\n",
    "- $w_k$ is an inertia parameter\n",
    "- $c_1$ is the cognitive parameter\n",
    "- $c_2$ is the social parameter\n",
    "- $r_1, r_2$ are random numbers in $(0, 1)$\n",
    "\n",
    "In plain English, the velocity update is defined as:\n",
    "\n",
    "new_velocity = (inertia * previous_velocity) + (move in the direction of the personal best) + (move in the direction of the global best)"
   ]
  },
  {
   "cell_type": "code",
   "execution_count": 26,
   "metadata": {},
   "outputs": [],
   "source": [
    "# import two useful libraries/modules\n",
    "import numpy as np\n",
    "import random"
   ]
  },
  {
   "cell_type": "code",
   "execution_count": 27,
   "metadata": {},
   "outputs": [],
   "source": [
    "# -- global parameters\n",
    "c1 = 1 # cognitive parameter\n",
    "c2 = 2 # social parameter\n",
    "w = .5 # inertia\n",
    "\n",
    "# -- Particle Class\n",
    "\n",
    "class Particle:\n",
    "    \"\"\"A Python Class for a simple particle.\"\"\"\n",
    "    \n",
    "    def __init__(self, upper, lower, ndim):\n",
    "        '''Initiate a Particle with an upper and lower bound, and a number of dimensions.'''\n",
    "        # Initiate position and velocity randomly\n",
    "        self.position = np.array([random.uniform(lower, upper) for _ in range(ndim)])\n",
    "        self.velocity = np.array([random.uniform(-1, 1) for _ in range(ndim)])\n",
    "        # These attributes are here to store the \"memory\" of the function\n",
    "        self.personal_best_position = self.position # initial position\n",
    "        self.personal_best_error = np.inf # infinity\n",
    "    \n",
    "    def __str__(self):\n",
    "        '''what will be called when you print a Particle instance, could be useful for debugging.'''\n",
    "        return(\"I am a particle with best position {},\\ncurrent position {},\\nand velocity {}.\\n\"\n",
    "               .format(self.personal_best_position, self.position, self.velocity))       \n",
    "    \n",
    "    def current_error(self, function):\n",
    "        '''Compute the current \"fitness\" value of a particle, given a function. Updates it if needed.'''\n",
    "        current_fitness = function(self.position)\n",
    "        if current_fitness < self.personal_best_error:\n",
    "            self.personal_best_error = current_fitness\n",
    "            self.personal_best_position = self.position\n",
    "        return current_fitness\n",
    "    \n",
    "    def update_velocity(self, global_best):\n",
    "        '''update a particle's velocity'''\n",
    "        # two random coefficients in uniform([0, 1])\n",
    "        r1 = random.random()\n",
    "        r2 = random.random()\n",
    "        self.velocity = (w*self.velocity + # inertia\n",
    "                         c1*r1*(self.personal_best_position - self.position) + # cognitive term\n",
    "                         c2*r2*(global_best - self.position)) # social term\n",
    "            \n",
    "    def move(self):\n",
    "        '''Moves a Particle at a new iteration. Deals with out-of-bound cases (are they ok or not?)'''\n",
    "        self.position = self.position + self.velocity\n",
    "        # need to deal with when the particle goes out of bound..."
   ]
  },
  {
   "cell_type": "code",
   "execution_count": 28,
   "metadata": {},
   "outputs": [],
   "source": [
    "# --- Solver Class\n",
    "class PSO:    \n",
    "    \"\"\"Solver instance for Particle Swarm Optimizer. (Basically the mastermind which commands the Particles.)\n",
    "    Initiated with:\n",
    "    - num_particles: how many particles to use?\n",
    "    - function: function to optimize.\n",
    "    - n_iter: number of iterations to be performed.\n",
    "    - lower, upper: lower and upper bounds for the search space (for now, a box i.e. they are the same accross all dimensions.\n",
    "    - ndim: dimensionality of the search space.)\"\"\"\n",
    "    \n",
    "    def __init__(self, num_particles, function, n_iter, lower = -10, upper = 10, ndim = 3):\n",
    "        '''Initiate the solver'''\n",
    "        # create all the Particles, stored in a list.\n",
    "        self.particles = [Particle(lower, upper, ndim) for _ in range(num_particles)]\n",
    "        # store global best and associated error\n",
    "        self.global_best = np.array([])\n",
    "        self.global_best_error = np.inf # infinity\n",
    "        self.function = function # function to be optimised\n",
    "        self.n_iter = n_iter # num of iterations\n",
    "        \n",
    "    def update_best(self):\n",
    "        '''Find the new best global position and update it.'''\n",
    "        for particle in self.particles:\n",
    "            # ask all particles for their current error. If better than current global best, update.\n",
    "            if particle.current_error(self.function) < self.global_best_error:\n",
    "                self.global_best = particle.position\n",
    "                self.global_best_error = particle.current_error(self.function)\n",
    "                \n",
    "    def move_particles(self):\n",
    "        '''Run one iteration of the algorithm. Update particles velocity and move them.'''\n",
    "        for particle in self.particles:\n",
    "            particle.update_velocity(self.global_best)\n",
    "            particle.move()\n",
    "    \n",
    "    def __str__(self):\n",
    "        '''Print best global position when calling `print(pso instance)`'''\n",
    "        return \"\"\"Current best position: {}\n",
    "        With error: {}\"\"\".format(self.global_best, self.global_best_error)\n",
    "    \n",
    "    def go(self):\n",
    "        '''Run the algorithm and print the result. By default, update us every 50 iterations.'''\n",
    "        print(\"Running the PSO algorithm with {} particles, for {} iterations.\\n\".\n",
    "              format(len(self.particles), self.n_iter))\n",
    "        \n",
    "        for iteration in range(self.n_iter):\n",
    "            pso.update_best()\n",
    "            pso.move_particles()\n",
    "            if iteration % 50 == 0:\n",
    "                print(\"Iteration number \" + str(iteration))\n",
    "                print(\"Current best error: \" + str(self.global_best_error))\n",
    "                print(\"\\n\")\n",
    "                \n",
    "        print(\"Found minimum at {} with value {}.\".format(self.global_best, self.global_best_error))"
   ]
  },
  {
   "cell_type": "markdown",
   "metadata": {},
   "source": [
    "### Tests"
   ]
  },
  {
   "cell_type": "code",
   "execution_count": 29,
   "metadata": {},
   "outputs": [],
   "source": [
    "def sumsquares(x):\n",
    "    return(sum([i**2 for i in x]))"
   ]
  },
  {
   "cell_type": "code",
   "execution_count": 30,
   "metadata": {},
   "outputs": [
    {
     "name": "stdout",
     "output_type": "stream",
     "text": [
      "Running the PSO algorithm with 100 particles, for 100 iterations.\n",
      "\n",
      "Iteration number 0\n",
      "Current best error: 5.619899086578133\n",
      "\n",
      "\n",
      "Iteration number 50\n",
      "Current best error: 1.7969898089191873e-12\n",
      "\n",
      "\n",
      "Found minimum at [ 2.01899636e-12 -4.35193294e-12  1.16510133e-13] with value 2.3029241223003995e-23.\n"
     ]
    }
   ],
   "source": [
    "pso = PSO(100, sumsquares, n_iter = 100)\n",
    "pso.go()"
   ]
  },
  {
   "cell_type": "code",
   "execution_count": 31,
   "metadata": {},
   "outputs": [
    {
     "name": "stdout",
     "output_type": "stream",
     "text": [
      "I am a particle with best position [-9.75184831e-11  6.61503035e-11  1.75815876e-11],\n",
      "current position [-1.16017622e-10  8.95958046e-11  3.11275389e-11],\n",
      "and velocity [ 5.59408038e-11 -4.07808321e-11 -1.37623533e-11].\n",
      "\n",
      "I am a particle with best position [-7.64955764e-10 -4.82993613e-10 -1.54311291e-09],\n",
      "current position [4.27991163e-10 2.79270711e-10 8.52435784e-10],\n",
      "and velocity [-1.43434432e-09 -9.55538073e-10 -2.86954432e-09].\n",
      "\n",
      "I am a particle with best position [-1.43681788e-11  1.06918633e-11  1.81087704e-12],\n",
      "current position [-1.12582475e-12 -2.11197967e-12  2.19176212e-13],\n",
      "and velocity [ 2.49676882e-11 -1.43487084e-11  3.66028704e-13].\n",
      "\n",
      "I am a particle with best position [ 4.37016889e-11 -1.60472420e-11  7.60520756e-12],\n",
      "current position [ 3.38230078e-11 -2.96598996e-11  3.09576684e-12],\n",
      "and velocity [-9.87868111e-12 -1.36126576e-11 -4.50944072e-12].\n",
      "\n",
      "I am a particle with best position [ 3.06388629e-11 -1.31495045e-11  3.53845094e-11],\n",
      "current position [-2.08074033e-11  9.73940276e-12 -3.08701999e-11],\n",
      "and velocity [-7.99459143e-11  4.25746025e-11 -1.05787975e-10].\n",
      "\n",
      "I am a particle with best position [1.36605773e-09 3.87849742e-09 4.65884153e-09],\n",
      "current position [5.41582000e-09 1.54772561e-08 1.85631223e-08],\n",
      "and velocity [9.3759694e-09 2.6826619e-08 3.2163591e-08].\n",
      "\n",
      "I am a particle with best position [1.63600329e-09 1.34651338e-09 5.33213577e-10],\n",
      "current position [ 4.87244269e-09  6.42009685e-10 -1.00368445e-09],\n",
      "and velocity [ 3.23643940e-09 -7.04503699e-10 -1.53689803e-09].\n",
      "\n",
      "I am a particle with best position [3.76380126e-11 4.06105564e-11 1.73283094e-11],\n",
      "current position [ 5.54709294e-11 -4.54765699e-11  2.71077985e-11],\n",
      "and velocity [ 1.78329168e-11 -8.60871263e-11  9.77948903e-12].\n",
      "\n",
      "I am a particle with best position [ 1.25711095e-10 -6.42951007e-10 -1.39494573e-10],\n",
      "current position [ 1.53867084e-10 -6.78251812e-10 -3.43215235e-11],\n",
      "and velocity [-2.69919625e-11  7.93007560e-11 -4.42595145e-11].\n",
      "\n",
      "I am a particle with best position [ 1.22037191e-10  1.55454471e-09 -5.40000069e-10],\n",
      "current position [ 2.04142369e-10  2.57225259e-09 -8.79982731e-10],\n",
      "and velocity [ 8.21051785e-11  1.01770787e-09 -3.39982661e-10].\n",
      "\n"
     ]
    }
   ],
   "source": [
    "for p in pso.particles[0:10]:\n",
    "    print(p)"
   ]
  },
  {
   "cell_type": "code",
   "execution_count": 32,
   "metadata": {},
   "outputs": [],
   "source": [
    "def shiftedsumsquares(x):\n",
    "    return(sum([(i+2)**2 for i in x])) # minimum should be all -2"
   ]
  },
  {
   "cell_type": "code",
   "execution_count": 33,
   "metadata": {
    "scrolled": true
   },
   "outputs": [
    {
     "name": "stdout",
     "output_type": "stream",
     "text": [
      "Running the PSO algorithm with 20 particles, for 100 iterations.\n",
      "\n",
      "Iteration number 0\n",
      "Current best error: 37.24166594162803\n",
      "\n",
      "\n",
      "Iteration number 50\n",
      "Current best error: 1.9526498191581535e-10\n",
      "\n",
      "\n",
      "Found minimum at [-2. -2. -2.] with value 1.473166819228445e-20.\n"
     ]
    }
   ],
   "source": [
    "pso = PSO(20, shiftedsumsquares, n_iter = 100) # works well even with 20 swarms!\n",
    "pso.go()"
   ]
  },
  {
   "cell_type": "markdown",
   "metadata": {},
   "source": [
    "Trying the function $f(x) := f(x_1, x_2) = (x_1 + 2 x_2 − 3)^2 + (x_1 − 2)^2$"
   ]
  },
  {
   "cell_type": "code",
   "execution_count": 67,
   "metadata": {},
   "outputs": [],
   "source": [
    "def newfunct(x):\n",
    "    return (x[0] + 2*x[1] - 3)**2 + (x[0] - 2)**2"
   ]
  },
  {
   "cell_type": "code",
   "execution_count": 36,
   "metadata": {},
   "outputs": [
    {
     "name": "stdout",
     "output_type": "stream",
     "text": [
      "Running the PSO algorithm with 10 particles, for 100 iterations.\n",
      "\n",
      "Iteration number 0\n",
      "Current best error: 16.522265434700614\n",
      "\n",
      "\n",
      "Iteration number 50\n",
      "Current best error: 2.194751676599588e-11\n",
      "\n",
      "\n",
      "Found minimum at [2.  0.5] with value 9.836307962347878e-22.\n"
     ]
    }
   ],
   "source": [
    "pso = PSO(10, newfunct, 100, ndim=2)\n",
    "pso.go()"
   ]
  },
  {
   "cell_type": "markdown",
   "metadata": {},
   "source": [
    "## Parallelizing"
   ]
  },
  {
   "cell_type": "code",
   "execution_count": 1,
   "metadata": {},
   "outputs": [],
   "source": [
    "import multiprocessing"
   ]
  },
  {
   "cell_type": "code",
   "execution_count": 2,
   "metadata": {},
   "outputs": [
    {
     "data": {
      "text/plain": [
       "4"
      ]
     },
     "execution_count": 2,
     "metadata": {},
     "output_type": "execute_result"
    }
   ],
   "source": [
    "multiprocessing.cpu_count()"
   ]
  },
  {
   "cell_type": "markdown",
   "metadata": {},
   "source": [
    "The `Particle` class doesn't change, it only looses the capacity to evaluate its own fitness."
   ]
  },
  {
   "cell_type": "code",
   "execution_count": null,
   "metadata": {},
   "outputs": [],
   "source": [
    "# -- global parameters\n",
    "c1 = 1 # cognitive parameter\n",
    "c2 = 2 # social parameter\n",
    "w = .5 # inertia\n",
    "\n",
    "# -- Particle Class\n",
    "\n",
    "class Particle:\n",
    "    \"\"\"A Python Class for a simple particle.\"\"\"\n",
    "    \n",
    "    def __init__(self, upper, lower, ndim):\n",
    "        '''Initiate a Particle with an upper and lower bound, and a number of dimensions.'''\n",
    "        # Initiate position and velocity randomly\n",
    "        self.position = np.array([random.uniform(lower, upper) for _ in range(ndim)])\n",
    "        self.velocity = np.array([random.uniform(-1, 1) for _ in range(ndim)])\n",
    "        # These attributes are here to store the \"memory\" of the function\n",
    "        self.personal_best_position = self.position # initial position\n",
    "        self.personal_best_error = np.inf # infinity\n",
    "    \n",
    "    def __str__(self):\n",
    "        '''what will be called when you print a Particle instance, could be useful for debugging.'''\n",
    "        return(\"I am a particle with best position {},\\ncurrent position {},\\nand velocity {}.\\n\"\n",
    "               .format(self.personal_best_position, self.position, self.velocity))       \n",
    "    \n",
    "    def update_velocity(self, global_best):\n",
    "        '''update a particle's velocity'''\n",
    "        # two random coefficients in uniform([0, 1])\n",
    "        r1 = random.random()\n",
    "        r2 = random.random()\n",
    "        self.velocity = (w*self.velocity + # inertia\n",
    "                         c1*r1*(self.personal_best_position - self.position) + # cognitive term\n",
    "                         c2*r2*(global_best - self.position)) # social term\n",
    "            \n",
    "    def move(self):\n",
    "        '''Moves a Particle at a new iteration. Deals with out-of-bound cases (are they ok or not?)'''\n",
    "        self.position = self.position + self.velocity\n",
    "        # need to deal with when the particle goes out of bound..."
   ]
  },
  {
   "cell_type": "code",
   "execution_count": null,
   "metadata": {},
   "outputs": [],
   "source": []
  },
  {
   "cell_type": "code",
   "execution_count": 150,
   "metadata": {},
   "outputs": [],
   "source": [
    "# --- Solver Class\n",
    "class PSO_parallel:    \n",
    "    \"\"\"Parallel Solver instance for Particle Swarm Optimizer. (Basically the mastermind which commands the Particles.)\n",
    "    Initiated with:\n",
    "    - num_particles: how many particles to use?\n",
    "    - function: function to optimize.\n",
    "    - n_iter: number of iterations to be performed.\n",
    "    - lower, upper: lower and upper bounds for the search space (for now, a box i.e. they are the same accross all dimensions.\n",
    "    - ndim: dimensionality of the search space.)\"\"\"\n",
    "    \n",
    "    def __init__(self, num_particles, function, n_iter, lower = -10, upper = 10, ndim = 3):\n",
    "        '''Initiate the solver'''\n",
    "        # create all the Particles, stored in a list.\n",
    "        self.particles = [Particle(lower, upper, ndim) for _ in range(num_particles)]\n",
    "        self.fitnesses = np.array([])\n",
    "        # store global best and associated error\n",
    "        self.global_best = np.array([])\n",
    "        self.global_best_error = np.inf # infinity\n",
    "        self.function = function # function to be optimised\n",
    "        self.n_iter = n_iter # num of iterations\n",
    "        \n",
    "    def get_fitnesses(self):\n",
    "        with Pool(2) as p:\n",
    "            fitnesses = p.apply(self.function, [[part.position for part in self.particles]])\n",
    "        self.fitnesses = np.array(fitnesses)\n",
    "    \n",
    "    def update_particles(self):\n",
    "        '''update particle best known personal position'''\n",
    "        for i in range(len(self.fitnesses)):\n",
    "            if self.fitnesses[i] < self.particles[i].personal_best_error:\n",
    "                self.particles[i].personal_best_error = self.fitnesses[i]\n",
    "                self.particles[i].personal_best_position = self.particles[i].position          \n",
    "        \n",
    "    def update_best(self):\n",
    "        '''Find the new best global position and update it.'''\n",
    "        if np.any(self.fitnesses < self.global_best_error):\n",
    "            self.global_best_error = np.min(self.fitnesses)\n",
    "            self.global_best = self.particles[np.argmin(self.fitnesses)].position\n",
    "                      \n",
    "    def move_particles(self):\n",
    "        '''Run one iteration of the algorithm. Update particles velocity and move them.'''\n",
    "        for particle in self.particles:\n",
    "            particle.update_velocity(self.global_best)\n",
    "            particle.move()\n",
    "    \n",
    "    def __str__(self):\n",
    "        '''Print best global position when calling `print(pso instance)`'''\n",
    "        return \"\"\"Current best position: {}\n",
    "        With error: {}\"\"\".format(self.global_best, self.global_best_error)\n",
    "    \n",
    "    def go(self):\n",
    "        '''Run the algorithm and print the result. By default, update us every 50 iterations.'''\n",
    "        print(\"Running the PSO algorithm in parallel with {} particles, for {} iterations.\\n\".\n",
    "              format(len(self.particles), self.n_iter))\n",
    "        \n",
    "        for iteration in range(self.n_iter):\n",
    "            # this happens in parallel (synchronous only rn)\n",
    "            pso.get_fitnesses()\n",
    "            # this doesn't\n",
    "            pso.update_particles()\n",
    "            pso.update_best()\n",
    "            pso.move_particles()\n",
    "            \n",
    "            if iteration % 50 == 0:\n",
    "                print(\"Iteration number \" + str(iteration))\n",
    "                print(\"Current best error: \" + str(self.global_best_error))\n",
    "                print(\"\\n\")\n",
    "                \n",
    "        print(\"Found minimum at {} with value {}.\".format(self.global_best, self.global_best_error))"
   ]
  },
  {
   "cell_type": "markdown",
   "metadata": {},
   "source": [
    "Let's try the parallelised code... Note that we need a function that takes a list and returns a list.\n",
    "\n",
    "\n",
    "Also note that this is slower... Not worth parallelizing for very small number of particles and when the function is cheap to evaluate."
   ]
  },
  {
   "cell_type": "code",
   "execution_count": 151,
   "metadata": {},
   "outputs": [],
   "source": [
    "def newfunctpar(li):\n",
    "    return [(x[0] + 2*x[1] - 3)**2 + (x[0] - 2)**2 for x in li]"
   ]
  },
  {
   "cell_type": "code",
   "execution_count": 152,
   "metadata": {},
   "outputs": [
    {
     "name": "stdout",
     "output_type": "stream",
     "text": [
      "Running the PSO algorithm with 10 particles, for 100 iterations.\n",
      "\n",
      "Iteration number 0\n",
      "Current best error: 44.04145948086628\n",
      "\n",
      "\n",
      "Iteration number 50\n",
      "Current best error: 1.2456344231397302e-11\n",
      "\n",
      "\n",
      "Found minimum at [2.  0.5] with value 3.624670362823355e-21.\n"
     ]
    }
   ],
   "source": [
    "pso = PSO_parallel(10, newfunctpar, 100, ndim=2)\n",
    "pso.go()"
   ]
  }
 ],
 "metadata": {
  "kernelspec": {
   "display_name": "Python 3",
   "language": "python",
   "name": "python3"
  },
  "language_info": {
   "codemirror_mode": {
    "name": "ipython",
    "version": 3
   },
   "file_extension": ".py",
   "mimetype": "text/x-python",
   "name": "python",
   "nbconvert_exporter": "python",
   "pygments_lexer": "ipython3",
   "version": "3.7.1"
  }
 },
 "nbformat": 4,
 "nbformat_minor": 2
}
