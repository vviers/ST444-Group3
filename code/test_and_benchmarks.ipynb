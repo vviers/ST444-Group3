{
 "cells": [
  {
   "cell_type": "markdown",
   "metadata": {},
   "source": [
    "## Tests and Benchmarks\n",
    "\n",
    "For each function in the `functions` module, run the Particle Swarm Optimisation (PSO) Algorithm:\n",
    "\n",
    "- Using the simple algorithm (`PSO()`)\n",
    "- Synchronous parallel (`PSO_synchron()`)\n",
    "- Asynchronous parallel (`PSO_asynchron()`)\n",
    "    "
   ]
  },
  {
   "cell_type": "markdown",
   "metadata": {},
   "source": [
    "### A simple quadratic function\n",
    "\n",
    "$$ f(x) = (x_1 + 2x_2 - 3)^2 + (x_1 - 2)^2$$"
   ]
  },
  {
   "cell_type": "code",
   "execution_count": 22,
   "metadata": {},
   "outputs": [
    {
     "name": "stdout",
     "output_type": "stream",
     "text": [
      "Running the PSO algorithm with 20 particles, for at most 200 iterations.\n",
      "\n",
      "After 73 iterations,\n",
      "Found minimum at [2.00003456 0.49999639] with value 1.9417247618014607e-09.\n"
     ]
    },
    {
     "data": {
      "text/plain": [
       "array([2.00003456, 0.49999639])"
      ]
     },
     "execution_count": 22,
     "metadata": {},
     "output_type": "execute_result"
    }
   ],
   "source": [
    "# import test function\n",
    "from functions import quad_function\n",
    "\n",
    "# import PSO solvers\n",
    "from PSO import PSO, PSO_synchron, PSO_asynchron\n",
    "\n",
    "# Basic PSO\n",
    "solver_basic = PSO(num_particles = 20, function = quad_function, n_iter = 200, ndim = 2,\n",
    "             lower = -10, upper = 10, epsilon = 10e-10)\n",
    "solver_basic.run()"
   ]
  },
  {
   "cell_type": "code",
   "execution_count": null,
   "metadata": {},
   "outputs": [],
   "source": [
    "# Synchronous Parallel PSO\n",
    "solver_synchron = PSO_synchron(num_particles = 20, function = quad_function, n_iter = 200, ndim = 2,\n",
    "                     lower = -10, upper = 10, epsilon = 10e-10)\n",
    "solver_synchron.run()"
   ]
  },
  {
   "cell_type": "code",
   "execution_count": null,
   "metadata": {},
   "outputs": [],
   "source": [
    "# Asynchronous Parallel PSO\n",
    "solver_asynchron = PSO_asynchron(num_particles = 20, function = quad_function, n_iter = 200, ndim = 2,\n",
    "                     lower = -10, upper = 10, epsilon = None)\n",
    "solver_asynchron.run()"
   ]
  },
  {
   "cell_type": "code",
   "execution_count": null,
   "metadata": {},
   "outputs": [],
   "source": [
    "%timeit -o solver_basic.run(verbose = False)"
   ]
  },
  {
   "cell_type": "code",
   "execution_count": null,
   "metadata": {},
   "outputs": [],
   "source": [
    "%timeit -o solver_synchron.run(verbose = False)"
   ]
  },
  {
   "cell_type": "code",
   "execution_count": null,
   "metadata": {},
   "outputs": [],
   "source": [
    "%timeit -o solver_asynchron.run(verbose = False)"
   ]
  },
  {
   "cell_type": "markdown",
   "metadata": {},
   "source": [
    "### Sphere (de Jong F1)\n",
    "\n",
    "$$ f(x) = \\sum_{i=1}^n x_i^2 $$"
   ]
  },
  {
   "cell_type": "code",
   "execution_count": 10,
   "metadata": {},
   "outputs": [
    {
     "name": "stdout",
     "output_type": "stream",
     "text": [
      "Running the PSO algorithm asynchronously with 50 particles, for at most 50000 function evaluations.\n",
      "\n",
      "After 49976 function evaluations,\n",
      "Found minimum at [-0.5306404180708032, -0.43082062269578614, -0.2673437692547685, 0.18068893011965986, -0.9528243629056203, 0.4767115296312803, -0.5302185939109425, -0.3303235743204824, 0.5377520138947604, -0.687176547385411, -0.14117551713693646, -0.22604771261304274, 0.7147609357020245, -0.900254102529424, 0.12803602247675833, -0.5892893369001102, 0.7377180119631132, 0.6610413584841781, -0.3187788829069014, -0.985595459976603, -1.0739687325286134, -1.5175035817803761, -0.8510708648689189, 0.39279683046207015, 0.2634916028214702, 0.18424268763277812, 0.32794239589136276, 1.0513046727987867, -0.66110678698792, -0.10148478734621633] with value 12.766674258041284.\n"
     ]
    },
    {
     "data": {
      "text/plain": [
       "[-0.5306404180708032,\n",
       " -0.43082062269578614,\n",
       " -0.2673437692547685,\n",
       " 0.18068893011965986,\n",
       " -0.9528243629056203,\n",
       " 0.4767115296312803,\n",
       " -0.5302185939109425,\n",
       " -0.3303235743204824,\n",
       " 0.5377520138947604,\n",
       " -0.687176547385411,\n",
       " -0.14117551713693646,\n",
       " -0.22604771261304274,\n",
       " 0.7147609357020245,\n",
       " -0.900254102529424,\n",
       " 0.12803602247675833,\n",
       " -0.5892893369001102,\n",
       " 0.7377180119631132,\n",
       " 0.6610413584841781,\n",
       " -0.3187788829069014,\n",
       " -0.985595459976603,\n",
       " -1.0739687325286134,\n",
       " -1.5175035817803761,\n",
       " -0.8510708648689189,\n",
       " 0.39279683046207015,\n",
       " 0.2634916028214702,\n",
       " 0.18424268763277812,\n",
       " 0.32794239589136276,\n",
       " 1.0513046727987867,\n",
       " -0.66110678698792,\n",
       " -0.10148478734621633]"
      ]
     },
     "execution_count": 10,
     "metadata": {},
     "output_type": "execute_result"
    }
   ],
   "source": [
    "from functions import sphere\n",
    "# import PSO solvers\n",
    "from PSO import PSO, PSO_synchron, PSO_asynchron\n",
    "\n",
    "solver = PSO_asynchron(num_particles = 50, function = sphere, n_iter = 1000, ndim = 30,\n",
    "                     lower = -10, upper = 10, epsilon = None)\n",
    "solver.run() # better defaults are needed..."
   ]
  },
  {
   "cell_type": "markdown",
   "metadata": {},
   "source": [
    "### High dimensional Rosenbrock\n",
    "\n",
    "$${\\displaystyle f(\\mathbf {x} )=\\sum _{i=1}^{N-1}[100(x_{i+1}-x_{i}^{2})^{2}+(1-x_{i})^{2}]\\quad {\\mbox{where}}\\quad \\mathbf {x} =[x_{1},\\ldots ,x_{N}]\\in \\mathbb {R} ^{N}.}$$"
   ]
  },
  {
   "cell_type": "code",
   "execution_count": null,
   "metadata": {},
   "outputs": [],
   "source": [
    "from functions import high_dim_rosenbrock"
   ]
  },
  {
   "cell_type": "code",
   "execution_count": null,
   "metadata": {},
   "outputs": [],
   "source": [
    "# Basic PSO\n",
    "solver_basic = PSO(num_particles = 20, function = high_dim_rosenbrock, n_iter = 500, ndim = 5,\n",
    "             lower = -10, upper = 10, epsilon = 10e-9)\n",
    "solver_basic.run()"
   ]
  },
  {
   "cell_type": "code",
   "execution_count": null,
   "metadata": {},
   "outputs": [],
   "source": [
    "solver_asynch = PSO_asynchron(num_particles = 20, function = high_dim_rosenbrock, n_iter = 200, ndim = 5,\n",
    "             lower = -10, upper = 10, epsilon = 0)\n",
    "solver_asynch.run()"
   ]
  },
  {
   "cell_type": "markdown",
   "metadata": {},
   "source": [
    "### Griewank function\n",
    "\n",
    "$$f(x) = 1+{\\frac  {1}{4000}}\\sum _{{i=1}}^{n}x_{i}^{2}-\\prod _{{i=1}}^{n}\\cos \\left({\\frac  {x_{i}}{{\\sqrt  {i}}}}\\right)$$"
   ]
  },
  {
   "cell_type": "code",
   "execution_count": 20,
   "metadata": {},
   "outputs": [
    {
     "name": "stdout",
     "output_type": "stream",
     "text": [
      "Running the PSO algorithm with 60 particles, for at most 1000 iterations.\n",
      "\n",
      "After 322 iterations,\n",
      "Found minimum at [ 11.63935187 -15.99684868  27.87351533  41.08177833  14.83776401\n",
      "  -1.3140037   49.62706183 -12.26666088 -25.92513437   2.49731305\n",
      " -20.18845091  -2.87037733 -15.37583594  -5.58312413  28.99800855\n",
      "  -6.0515218    1.99557808   6.75901508 -35.30347245  -0.6931723\n",
      "  -1.63116998  -8.48730621  20.45939537  25.1801998   25.38517956\n",
      " -34.67005912  -2.23603551  -4.97218165  15.93305792  24.21454006] with value 4.267657919246946.\n"
     ]
    },
    {
     "data": {
      "text/plain": [
       "array([ 11.63935187, -15.99684868,  27.87351533,  41.08177833,\n",
       "        14.83776401,  -1.3140037 ,  49.62706183, -12.26666088,\n",
       "       -25.92513437,   2.49731305, -20.18845091,  -2.87037733,\n",
       "       -15.37583594,  -5.58312413,  28.99800855,  -6.0515218 ,\n",
       "         1.99557808,   6.75901508, -35.30347245,  -0.6931723 ,\n",
       "        -1.63116998,  -8.48730621,  20.45939537,  25.1801998 ,\n",
       "        25.38517956, -34.67005912,  -2.23603551,  -4.97218165,\n",
       "        15.93305792,  24.21454006])"
      ]
     },
     "execution_count": 20,
     "metadata": {},
     "output_type": "execute_result"
    }
   ],
   "source": [
    "from functions import griewank\n",
    "# PSO\n",
    "solver = PSO(num_particles = 60, function = griewank, n_iter = 1000, ndim = 30,\n",
    "                     lower = -600, upper = 600, epsilon = 10e-07)\n",
    "solver.run() # acceptable error < 0.1"
   ]
  },
  {
   "cell_type": "markdown",
   "metadata": {},
   "source": [
    "### Schaffer's F6\n",
    "\n",
    "$$f(x)=0.5+\\frac{sin^2(\\sqrt{x_1^2 + x_2^2})-0.5}{[1+0.001 \\cdot (x_1^2 + x_2^2)]^2}$$"
   ]
  },
  {
   "cell_type": "code",
   "execution_count": 17,
   "metadata": {},
   "outputs": [
    {
     "name": "stdout",
     "output_type": "stream",
     "text": [
      "Running the PSO algorithm with 30 particles, for at most 300 iterations.\n",
      "\n",
      "After 300 iterations,\n",
      "Found minimum at [-1.02733485e-08  5.81501008e-09] with value 1.6653345369377348e-16.\n"
     ]
    },
    {
     "data": {
      "text/plain": [
       "array([-1.02733485e-08,  5.81501008e-09])"
      ]
     },
     "execution_count": 17,
     "metadata": {},
     "output_type": "execute_result"
    }
   ],
   "source": [
    "from functions import schaffer_f6\n",
    "# PSO\n",
    "solver = PSO(num_particles = 30, function = schaffer_f6, n_iter = 300, ndim = 2,\n",
    "                     lower = -100, upper = 100, epsilon = 0)\n",
    "solver.run() # acceptable error < 10e-06"
   ]
  },
  {
   "cell_type": "markdown",
   "metadata": {},
   "source": [
    "### Rastrigin function\n",
    "\n",
    "$$f(\\mathbf {x} )=An+\\sum _{i=1}^{n}\\left[x_{i}^{2}-A\\cos(2\\pi x_{i})\\right]$$\n",
    "\n",
    "where $ A=10 $ and $x_{i}\\in [-5.12,5.12]$."
   ]
  },
  {
   "cell_type": "code",
   "execution_count": 1,
   "metadata": {},
   "outputs": [],
   "source": [
    "from functions import rastrigin\n",
    "from PSO import *"
   ]
  },
  {
   "cell_type": "code",
   "execution_count": 4,
   "metadata": {},
   "outputs": [
    {
     "name": "stdout",
     "output_type": "stream",
     "text": [
      "Running the PSO algorithm with 100 particles, for at most 100 iterations.\n",
      "\n",
      "After 100 iterations,\n",
      "Found minimum at [ 0.10593863 -1.1231597  -1.1663086  -0.07309527  0.03789078 -1.8531333\n",
      "  0.99218854  0.03576832  1.9235162   0.9588938   1.06489284 -0.10299505\n",
      "  0.05010256  0.28961823  0.95867166  0.03751632 -0.8938456  -0.91818726\n",
      "  0.98728514 -0.94073901 -1.02009408 -0.03923028 -1.04327189  0.95104872\n",
      "  0.09291446 -0.09469168 -1.0053642  -1.11470809 -0.79762147  0.09197701] with value 76.57878418417403.\n"
     ]
    },
    {
     "data": {
      "text/plain": [
       "array([ 0.10593863, -1.1231597 , -1.1663086 , -0.07309527,  0.03789078,\n",
       "       -1.8531333 ,  0.99218854,  0.03576832,  1.9235162 ,  0.9588938 ,\n",
       "        1.06489284, -0.10299505,  0.05010256,  0.28961823,  0.95867166,\n",
       "        0.03751632, -0.8938456 , -0.91818726,  0.98728514, -0.94073901,\n",
       "       -1.02009408, -0.03923028, -1.04327189,  0.95104872,  0.09291446,\n",
       "       -0.09469168, -1.0053642 , -1.11470809, -0.79762147,  0.09197701])"
      ]
     },
     "execution_count": 4,
     "metadata": {},
     "output_type": "execute_result"
    }
   ],
   "source": [
    "# PSO\n",
    "solver = PSO(num_particles = 100, function = rastrigin, n_iter = 100, ndim = 30,\n",
    "                     lower = -5.12, upper = 5.12, epsilon = 10e-7)\n",
    "solver.run() # acceptable error < 100"
   ]
  },
  {
   "cell_type": "code",
   "execution_count": 3,
   "metadata": {},
   "outputs": [
    {
     "name": "stdout",
     "output_type": "stream",
     "text": [
      "Running the PSO algorithm asynchronously with 100 particles, for at most 10000 function evaluations.\n",
      "\n",
      "After 9966 function evaluations,\n",
      "Found minimum at [0.9704031047384334, -0.03761366904443862, 0.9153085598446505, -0.953877709752012, 1.1274456723552326, -1.091456799546956, 1.027088699568046, 1.0010686371186168, 0.05104480681618678, -0.9882869087121368, 1.047955278507095, 0.9832952205656306, 0.01977774412056338, -0.9438722685622215, 0.9596834505087471, -1.0457647770540077, -0.8602503195879257, 1.0805912676001497, 1.0347940704650267, 0.30241387987003354, 0.8788415131008569, -1.0396549368004357, -1.901472440003549, 0.9839622885748641, 0.056169452395142275, 1.064447468898306, -0.12856940471142148, 1.9365591565362517, -0.04559306988272856, -0.871664473851559] with value 69.93733211528749.\n"
     ]
    },
    {
     "data": {
      "text/plain": [
       "[0.9704031047384334,\n",
       " -0.03761366904443862,\n",
       " 0.9153085598446505,\n",
       " -0.953877709752012,\n",
       " 1.1274456723552326,\n",
       " -1.091456799546956,\n",
       " 1.027088699568046,\n",
       " 1.0010686371186168,\n",
       " 0.05104480681618678,\n",
       " -0.9882869087121368,\n",
       " 1.047955278507095,\n",
       " 0.9832952205656306,\n",
       " 0.01977774412056338,\n",
       " -0.9438722685622215,\n",
       " 0.9596834505087471,\n",
       " -1.0457647770540077,\n",
       " -0.8602503195879257,\n",
       " 1.0805912676001497,\n",
       " 1.0347940704650267,\n",
       " 0.30241387987003354,\n",
       " 0.8788415131008569,\n",
       " -1.0396549368004357,\n",
       " -1.901472440003549,\n",
       " 0.9839622885748641,\n",
       " 0.056169452395142275,\n",
       " 1.064447468898306,\n",
       " -0.12856940471142148,\n",
       " 1.9365591565362517,\n",
       " -0.04559306988272856,\n",
       " -0.871664473851559]"
      ]
     },
     "execution_count": 3,
     "metadata": {},
     "output_type": "execute_result"
    }
   ],
   "source": [
    "# Asynchronous Parallel PSO\n",
    "solver_asynchron = PSO_asynchron(num_particles = 100, function = rastrigin, n_iter = 100, ndim = 30,\n",
    "                     lower = -5.12, upper = 5.12, epsilon = None)\n",
    "solver_asynchron.run() # acceptable error < 100"
   ]
  },
  {
   "cell_type": "code",
   "execution_count": null,
   "metadata": {},
   "outputs": [],
   "source": []
  }
 ],
 "metadata": {
  "kernelspec": {
   "display_name": "Python 3",
   "language": "python",
   "name": "python3"
  },
  "language_info": {
   "codemirror_mode": {
    "name": "ipython",
    "version": 3
   },
   "file_extension": ".py",
   "mimetype": "text/x-python",
   "name": "python",
   "nbconvert_exporter": "python",
   "pygments_lexer": "ipython3",
   "version": "3.7.1"
  }
 },
 "nbformat": 4,
 "nbformat_minor": 2
}
