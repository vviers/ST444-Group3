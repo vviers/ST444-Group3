{
 "cells": [
  {
   "cell_type": "markdown",
   "metadata": {},
   "source": [
    "## Tests and Benchmarks\n",
    "\n",
    "For each function in the `functions` module, run the Particle Swarm Optimisation (PSO) Algorithm:\n",
    "\n",
    "- Using the simple algorithm (`PSO()`)\n",
    "\n",
    "Then do a timing benchmark for `PSO`, `PSO_asynchron`, and `PSO_synchron`.\n",
    "\n",
    "\n",
    "Default:\n",
    "- 30 Particles\n",
    "- At most 500 iterations\n",
    "- $\\epsilon = 10^{-10}$ \n",
    "- Search space the same as in the paper."
   ]
  },
  {
   "cell_type": "markdown",
   "metadata": {},
   "source": [
    "### A simple quadratic function\n",
    "\n",
    "$$ f(x) = (x_1 + 2x_2 - 3)^2 + (x_1 - 2)^2$$"
   ]
  },
  {
   "cell_type": "code",
   "execution_count": 21,
   "metadata": {},
   "outputs": [],
   "source": [
    "from random import seed\n",
    "seed(1)"
   ]
  },
  {
   "cell_type": "code",
   "execution_count": 1,
   "metadata": {},
   "outputs": [
    {
     "name": "stdout",
     "output_type": "stream",
     "text": [
      "Running the PSO algorithm with 30 particles, for at most 500 iterations.\n",
      "\n",
      "After 72 iterations,\n",
      "Found minimum at [2.00001122 0.49997214] with value 2.105374063334379e-09.\n"
     ]
    },
    {
     "data": {
      "text/plain": [
       "array([2.00001122, 0.49997214])"
      ]
     },
     "execution_count": 1,
     "metadata": {},
     "output_type": "execute_result"
    }
   ],
   "source": [
    "# import test function\n",
    "from functions import quad_function\n",
    "\n",
    "# import PSO solvers\n",
    "from PSO import PSO, PSO_synchron, PSO_asynchron\n",
    "\n",
    "# Basic PSO\n",
    "solver_basic = PSO(num_particles = 30, function = quad_function, n_iter = 500, ndim = 2,\n",
    "             lower = -10, upper = 10, epsilon = 10e-10)\n",
    "\n",
    "solver_basic.run()"
   ]
  },
  {
   "cell_type": "code",
   "execution_count": 23,
   "metadata": {},
   "outputs": [
    {
     "name": "stdout",
     "output_type": "stream",
     "text": [
      "Running the PSO algorithm with 30 particles, for at most 500 iterations.\n",
      "\n",
      "After 98 iterations,\n",
      "Found minimum at [1.99999743 0.50000528] with value 7.053406317167849e-11.\n"
     ]
    },
    {
     "data": {
      "text/plain": [
       "array([1.99999743, 0.50000528])"
      ]
     },
     "execution_count": 23,
     "metadata": {},
     "output_type": "execute_result"
    }
   ],
   "source": [
    "# Synchronous Parallel PSO\n",
    "solver_synchron = PSO_synchron(num_particles = 30, function = quad_function, n_iter = 500, ndim = 2,\n",
    "                     lower = -10, upper = 10, epsilon = 10e-10)\n",
    "solver_synchron.run()"
   ]
  },
  {
   "cell_type": "code",
   "execution_count": 24,
   "metadata": {},
   "outputs": [
    {
     "name": "stdout",
     "output_type": "stream",
     "text": [
      "Running the PSO algorithm asynchronously with 30 particles, for at most 15000 function evaluations.\n",
      "\n",
      "After 2480 function evaluations,\n",
      "Found minimum at [2.000017881357486, 0.4999867170037465] with value 3.9516583098960784e-10.\n"
     ]
    },
    {
     "data": {
      "text/plain": [
       "[2.000017881357486, 0.4999867170037465]"
      ]
     },
     "execution_count": 24,
     "metadata": {},
     "output_type": "execute_result"
    }
   ],
   "source": [
    "# Asynchronous Parallel PSO\n",
    "solver_asynchron = PSO_asynchron(num_particles = 30, function = quad_function, n_iter = 500, ndim = 2,\n",
    "                     lower = -10, upper = 10, epsilon = 10e-10)\n",
    "solver_asynchron.run()"
   ]
  },
  {
   "cell_type": "code",
   "execution_count": 25,
   "metadata": {},
   "outputs": [
    {
     "name": "stdout",
     "output_type": "stream",
     "text": [
      "823 µs ± 81 µs per loop (mean ± std. dev. of 7 runs, 10 loops each)\n"
     ]
    }
   ],
   "source": [
    "%timeit -n 10 solver_basic.run(verbose = False)"
   ]
  },
  {
   "cell_type": "code",
   "execution_count": 26,
   "metadata": {},
   "outputs": [
    {
     "name": "stdout",
     "output_type": "stream",
     "text": [
      "2.89 ms ± 300 µs per loop (mean ± std. dev. of 7 runs, 10 loops each)\n"
     ]
    }
   ],
   "source": [
    "%timeit -n 10 solver_synchron.run(verbose = False)"
   ]
  },
  {
   "cell_type": "code",
   "execution_count": 27,
   "metadata": {},
   "outputs": [
    {
     "name": "stdout",
     "output_type": "stream",
     "text": [
      "20.3 ms ± 1.12 ms per loop (mean ± std. dev. of 7 runs, 10 loops each)\n"
     ]
    }
   ],
   "source": [
    "%timeit -n 10 solver_asynchron.run(verbose = False)"
   ]
  },
  {
   "cell_type": "markdown",
   "metadata": {},
   "source": [
    "### Sphere (de Jong F1)\n",
    "\n",
    "$$ f(x) = \\sum_{i=1}^n x_i^2 $$"
   ]
  },
  {
   "cell_type": "code",
   "execution_count": 32,
   "metadata": {},
   "outputs": [
    {
     "name": "stdout",
     "output_type": "stream",
     "text": [
      "Running the PSO algorithm with 30 particles, for at most 500 iterations.\n",
      "\n",
      "After 500 iterations,\n",
      "Found minimum at [-5.84225082e-04  1.64402893e-04 -2.01409219e-04  1.83538405e-03\n",
      "  3.28197454e-04 -9.28034361e-04 -2.60340331e-05 -7.22516645e-04\n",
      "  7.16021212e-04 -9.86222975e-04 -5.76872131e-04 -4.60404883e-05\n",
      " -1.96787574e-04 -1.56654770e-04 -5.03744672e-04 -3.97601909e-04\n",
      "  4.01322414e-04  2.87290487e-04  7.00963570e-05  7.32176770e-05\n",
      "  5.12438676e-04 -2.37492952e-04 -1.41671297e-03 -1.32522905e-03\n",
      " -2.74786030e-04 -1.78829318e-03 -1.46532563e-04  1.02593762e-03\n",
      " -4.74268918e-04  9.86782565e-04] with value 1.744691657039889e-05.\n",
      "Running the PSO algorithm with 30 particles, for at most 500 iterations.\n",
      "\n",
      "After 500 iterations,\n",
      "Found minimum at [ 0.00119159 -0.00013686 -0.00010047  0.00039365  0.00183527  0.00233277\n",
      "  0.00743776  0.01038024  0.00200297 -0.00533124  0.00148084 -0.00233423\n",
      " -0.00151968 -0.0011107   0.00097095  0.0001555   0.00273366  0.00095513\n",
      "  0.00028559 -0.00435142 -0.00427929  0.00046491  0.00149164  0.0010136\n",
      "  0.00013058 -0.00230111  0.00014718 -0.00611744  0.00066451 -0.00289618] with value 0.00031883777794509813.\n",
      "Running the PSO algorithm asynchronously with 30 particles, for at most 15000 function evaluations.\n",
      "\n",
      "After 14998 function evaluations,\n",
      "Found minimum at [-0.003585834528523366, 0.0038254859939985965, 0.0038943341585532185, -0.004266332936761735, -0.002595411402103077, -0.006285343246076804, -0.0010202668018167338, 0.0020317523147369097, -0.0035020548680115824, 0.0025486812816788926, 0.004798966314501233, 0.0030956872649454065, -0.00164677931978258, 0.0015051499683972633, 0.0068760578973182124, 6.682715668248143e-05, 0.003139953089807491, -0.002428893185972534, 0.0017432722126357026, 0.00518264145219939, -0.003397954828873304, 0.0008026552072486168, 0.0052571449912408846, -0.00244385782813499, -0.004117067777594124, -0.0014676440796330594, -0.0018812578423476182, -0.0007028710466846833, -0.0018332339667081728, -0.0015575899083916241] with value 0.00033628835103545425.\n"
     ]
    },
    {
     "data": {
      "text/plain": [
       "[-0.003585834528523366,\n",
       " 0.0038254859939985965,\n",
       " 0.0038943341585532185,\n",
       " -0.004266332936761735,\n",
       " -0.002595411402103077,\n",
       " -0.006285343246076804,\n",
       " -0.0010202668018167338,\n",
       " 0.0020317523147369097,\n",
       " -0.0035020548680115824,\n",
       " 0.0025486812816788926,\n",
       " 0.004798966314501233,\n",
       " 0.0030956872649454065,\n",
       " -0.00164677931978258,\n",
       " 0.0015051499683972633,\n",
       " 0.0068760578973182124,\n",
       " 6.682715668248143e-05,\n",
       " 0.003139953089807491,\n",
       " -0.002428893185972534,\n",
       " 0.0017432722126357026,\n",
       " 0.00518264145219939,\n",
       " -0.003397954828873304,\n",
       " 0.0008026552072486168,\n",
       " 0.0052571449912408846,\n",
       " -0.00244385782813499,\n",
       " -0.004117067777594124,\n",
       " -0.0014676440796330594,\n",
       " -0.0018812578423476182,\n",
       " -0.0007028710466846833,\n",
       " -0.0018332339667081728,\n",
       " -0.0015575899083916241]"
      ]
     },
     "execution_count": 32,
     "metadata": {},
     "output_type": "execute_result"
    },
    {
     "name": "stderr",
     "output_type": "stream",
     "text": [
      "Process ForkPoolWorker-857:\n",
      "Process ForkPoolWorker-858:\n",
      "Process ForkPoolWorker-856:\n",
      "Traceback (most recent call last):\n",
      "Traceback (most recent call last):\n",
      "Traceback (most recent call last):\n",
      "  File \"/home/vincent/anaconda3/lib/python3.7/multiprocessing/process.py\", line 297, in _bootstrap\n",
      "    self.run()\n",
      "  File \"/home/vincent/anaconda3/lib/python3.7/multiprocessing/process.py\", line 297, in _bootstrap\n",
      "    self.run()\n",
      "  File \"/home/vincent/anaconda3/lib/python3.7/multiprocessing/process.py\", line 99, in run\n",
      "    self._target(*self._args, **self._kwargs)\n",
      "  File \"/home/vincent/anaconda3/lib/python3.7/multiprocessing/process.py\", line 99, in run\n",
      "    self._target(*self._args, **self._kwargs)\n",
      "  File \"/home/vincent/anaconda3/lib/python3.7/multiprocessing/pool.py\", line 110, in worker\n",
      "    task = get()\n",
      "  File \"/home/vincent/anaconda3/lib/python3.7/multiprocessing/process.py\", line 297, in _bootstrap\n",
      "    self.run()\n",
      "  File \"/home/vincent/anaconda3/lib/python3.7/multiprocessing/queues.py\", line 351, in get\n",
      "    with self._rlock:\n",
      "  File \"/home/vincent/anaconda3/lib/python3.7/multiprocessing/pool.py\", line 110, in worker\n",
      "    task = get()\n",
      "  File \"/home/vincent/anaconda3/lib/python3.7/multiprocessing/queues.py\", line 352, in get\n",
      "    res = self._reader.recv_bytes()\n",
      "  File \"/home/vincent/anaconda3/lib/python3.7/multiprocessing/connection.py\", line 216, in recv_bytes\n",
      "    buf = self._recv_bytes(maxlength)\n",
      "  File \"/home/vincent/anaconda3/lib/python3.7/multiprocessing/process.py\", line 99, in run\n",
      "    self._target(*self._args, **self._kwargs)\n",
      "  File \"/home/vincent/anaconda3/lib/python3.7/multiprocessing/connection.py\", line 407, in _recv_bytes\n",
      "    buf = self._recv(4)\n",
      "KeyboardInterrupt\n",
      "  File \"/home/vincent/anaconda3/lib/python3.7/multiprocessing/synchronize.py\", line 95, in __enter__\n",
      "    return self._semlock.__enter__()\n",
      "  File \"/home/vincent/anaconda3/lib/python3.7/multiprocessing/synchronize.py\", line 95, in __enter__\n",
      "    return self._semlock.__enter__()\n",
      "  File \"/home/vincent/anaconda3/lib/python3.7/multiprocessing/pool.py\", line 110, in worker\n",
      "    task = get()\n",
      "  File \"/home/vincent/anaconda3/lib/python3.7/multiprocessing/connection.py\", line 379, in _recv\n",
      "    chunk = read(handle, remaining)\n",
      "  File \"/home/vincent/anaconda3/lib/python3.7/multiprocessing/queues.py\", line 351, in get\n",
      "    with self._rlock:\n",
      "KeyboardInterrupt\n",
      "KeyboardInterrupt\n"
     ]
    }
   ],
   "source": [
    "from functions import sphere\n",
    "\n",
    "from PSO import PSO, PSO_synchron, PSO_asynchron\n",
    "\n",
    "solver_basic = PSO(num_particles = 30, function = sphere, n_iter = 500, ndim = 30,\n",
    "                     lower = -100, upper = 100, epsilon = 10e-10)\n",
    "solver_synchron = PSO_synchron(num_particles = 30, function = sphere, n_iter = 500, ndim = 30,\n",
    "                     lower = -100, upper = 100, epsilon = 10e-10)\n",
    "solver_asynchron = PSO_asynchron(num_particles = 30, function = sphere, n_iter = 500, ndim = 30,\n",
    "                     lower = -100, upper = 100, epsilon = 10e-10)\n",
    "\n",
    "\n",
    "solver_basic.run()\n",
    "solver_synchron.run()\n",
    "solver_asynchron.run()"
   ]
  },
  {
   "cell_type": "code",
   "execution_count": 33,
   "metadata": {},
   "outputs": [
    {
     "name": "stdout",
     "output_type": "stream",
     "text": [
      "The slowest run took 16.56 times longer than the fastest. This could mean that an intermediate result is being cached.\n",
      "5.8 ms ± 9.22 ms per loop (mean ± std. dev. of 7 runs, 10 loops each)\n"
     ]
    }
   ],
   "source": [
    "%timeit -n 10 solver_basic.run(verbose = False)"
   ]
  },
  {
   "cell_type": "code",
   "execution_count": 34,
   "metadata": {},
   "outputs": [
    {
     "name": "stdout",
     "output_type": "stream",
     "text": [
      "The slowest run took 11.86 times longer than the fastest. This could mean that an intermediate result is being cached.\n",
      "7.97 ms ± 10.9 ms per loop (mean ± std. dev. of 7 runs, 10 loops each)\n"
     ]
    }
   ],
   "source": [
    "%timeit -n 10 solver_synchron.run(verbose = False)"
   ]
  },
  {
   "cell_type": "code",
   "execution_count": 35,
   "metadata": {},
   "outputs": [
    {
     "name": "stdout",
     "output_type": "stream",
     "text": [
      "22.3 ms ± 1.72 ms per loop (mean ± std. dev. of 7 runs, 10 loops each)\n"
     ]
    }
   ],
   "source": [
    "%timeit -n 10 solver_asynchron.run(verbose = False)"
   ]
  },
  {
   "cell_type": "markdown",
   "metadata": {},
   "source": [
    "### High dimensional Rosenbrock\n",
    "\n",
    "$${\\displaystyle f(\\mathbf {x} )=\\sum _{i=1}^{N-1}[100(x_{i+1}-x_{i}^{2})^{2}+(1-x_{i})^{2}]\\quad {\\mbox{where}}\\quad \\mathbf {x} =[x_{1},\\ldots ,x_{N}]\\in \\mathbb {R} ^{N}.}$$"
   ]
  },
  {
   "cell_type": "code",
   "execution_count": 3,
   "metadata": {},
   "outputs": [],
   "source": [
    "from functions import high_dim_rosenbrock"
   ]
  },
  {
   "cell_type": "code",
   "execution_count": 4,
   "metadata": {},
   "outputs": [
    {
     "name": "stdout",
     "output_type": "stream",
     "text": [
      "Running the PSO algorithm with 30 particles, for at most 10000 iterations.\n",
      "\n",
      "After 9064 iterations,\n",
      "Found minimum at [1.0000096  0.99997279 0.9999881  1.00004525 1.00004111 0.99999569\n",
      " 1.00001096 0.99998051 1.00001519 0.99997904 1.00001987 0.99997982\n",
      " 0.9999643  0.99995458 0.99993717 0.99991354 0.99999507 1.00004393\n",
      " 1.00006177 1.0000646  1.00011528 1.00018393 1.00034907 1.00057355\n",
      " 1.00113049 1.00218317 1.00426516 1.0085029  1.01699403 1.03437309] with value 0.0003985085508299553.\n"
     ]
    },
    {
     "data": {
      "text/plain": [
       "array([1.0000096 , 0.99997279, 0.9999881 , 1.00004525, 1.00004111,\n",
       "       0.99999569, 1.00001096, 0.99998051, 1.00001519, 0.99997904,\n",
       "       1.00001987, 0.99997982, 0.9999643 , 0.99995458, 0.99993717,\n",
       "       0.99991354, 0.99999507, 1.00004393, 1.00006177, 1.0000646 ,\n",
       "       1.00011528, 1.00018393, 1.00034907, 1.00057355, 1.00113049,\n",
       "       1.00218317, 1.00426516, 1.0085029 , 1.01699403, 1.03437309])"
      ]
     },
     "execution_count": 4,
     "metadata": {},
     "output_type": "execute_result"
    }
   ],
   "source": [
    "# Basic PSO\n",
    "solver_basic = PSO(num_particles = 30, function = high_dim_rosenbrock, n_iter = 10000, ndim = 30,\n",
    "             lower = -10, upper = 10, epsilon = 10e-10)\n",
    "solver_basic.run()"
   ]
  },
  {
   "cell_type": "code",
   "execution_count": 39,
   "metadata": {},
   "outputs": [
    {
     "name": "stdout",
     "output_type": "stream",
     "text": [
      "Running the PSO algorithm asynchronously with 30 particles, for at most 15000 function evaluations.\n",
      "\n",
      "After 15000 function evaluations,\n",
      "Found minimum at [0.983928441914591, 0.9694572929261135, 0.9411349937965982, 0.8887048529644176, 0.7947752236428268, 0.6403768722975015, 0.41577832091364336, 0.1781925770272121, 0.022534383339179922, -0.405840737333415, 0.6784882279818124, 0.834740749915203, 0.9168051020378933, 0.9598351141623386, 0.9809702265701783, 0.9889105711887275, 0.9957916614143766, 0.9964444516169165, 0.9967296843062895, 0.997285215284685, 0.9983013167198996, 1.0033923645851204, 1.0133105556387523, 1.0257343074355614, 1.055889395019386, 1.1185013310448317, 1.2550221431749002, 1.5761056403499352, 2.48760675492909, 6.194106149592121] with value 70.60426552719768.\n"
     ]
    },
    {
     "data": {
      "text/plain": [
       "[0.983928441914591,\n",
       " 0.9694572929261135,\n",
       " 0.9411349937965982,\n",
       " 0.8887048529644176,\n",
       " 0.7947752236428268,\n",
       " 0.6403768722975015,\n",
       " 0.41577832091364336,\n",
       " 0.1781925770272121,\n",
       " 0.022534383339179922,\n",
       " -0.405840737333415,\n",
       " 0.6784882279818124,\n",
       " 0.834740749915203,\n",
       " 0.9168051020378933,\n",
       " 0.9598351141623386,\n",
       " 0.9809702265701783,\n",
       " 0.9889105711887275,\n",
       " 0.9957916614143766,\n",
       " 0.9964444516169165,\n",
       " 0.9967296843062895,\n",
       " 0.997285215284685,\n",
       " 0.9983013167198996,\n",
       " 1.0033923645851204,\n",
       " 1.0133105556387523,\n",
       " 1.0257343074355614,\n",
       " 1.055889395019386,\n",
       " 1.1185013310448317,\n",
       " 1.2550221431749002,\n",
       " 1.5761056403499352,\n",
       " 2.48760675492909,\n",
       " 6.194106149592121]"
      ]
     },
     "execution_count": 39,
     "metadata": {},
     "output_type": "execute_result"
    }
   ],
   "source": [
    "solver_asynch = PSO_asynchron(num_particles = 30, function = high_dim_rosenbrock, n_iter = 500, ndim = 30,\n",
    "             lower = -10, upper = 10, epsilon = 10e-10)\n",
    "solver_asynch.run()"
   ]
  },
  {
   "cell_type": "code",
   "execution_count": 44,
   "metadata": {},
   "outputs": [
    {
     "ename": "KeyboardInterrupt",
     "evalue": "",
     "output_type": "error",
     "traceback": [
      "\u001b[0;31m---------------------------------------------------------------------------\u001b[0m",
      "\u001b[0;31mKeyboardInterrupt\u001b[0m                         Traceback (most recent call last)",
      "\u001b[0;32m<ipython-input-44-36facf9d7c00>\u001b[0m in \u001b[0;36m<module>\u001b[0;34m\u001b[0m\n\u001b[0;32m----> 1\u001b[0;31m \u001b[0mget_ipython\u001b[0m\u001b[0;34m(\u001b[0m\u001b[0;34m)\u001b[0m\u001b[0;34m.\u001b[0m\u001b[0mrun_line_magic\u001b[0m\u001b[0;34m(\u001b[0m\u001b[0;34m'timeit'\u001b[0m\u001b[0;34m,\u001b[0m \u001b[0;34m'-n 10 solver_basic.run(verbose = False)'\u001b[0m\u001b[0;34m)\u001b[0m\u001b[0;34m\u001b[0m\u001b[0;34m\u001b[0m\u001b[0m\n\u001b[0m",
      "\u001b[0;32m~/anaconda3/lib/python3.7/site-packages/IPython/core/interactiveshell.py\u001b[0m in \u001b[0;36mrun_line_magic\u001b[0;34m(self, magic_name, line, _stack_depth)\u001b[0m\n\u001b[1;32m   2285\u001b[0m                 \u001b[0mkwargs\u001b[0m\u001b[0;34m[\u001b[0m\u001b[0;34m'local_ns'\u001b[0m\u001b[0;34m]\u001b[0m \u001b[0;34m=\u001b[0m \u001b[0msys\u001b[0m\u001b[0;34m.\u001b[0m\u001b[0m_getframe\u001b[0m\u001b[0;34m(\u001b[0m\u001b[0mstack_depth\u001b[0m\u001b[0;34m)\u001b[0m\u001b[0;34m.\u001b[0m\u001b[0mf_locals\u001b[0m\u001b[0;34m\u001b[0m\u001b[0;34m\u001b[0m\u001b[0m\n\u001b[1;32m   2286\u001b[0m             \u001b[0;32mwith\u001b[0m \u001b[0mself\u001b[0m\u001b[0;34m.\u001b[0m\u001b[0mbuiltin_trap\u001b[0m\u001b[0;34m:\u001b[0m\u001b[0;34m\u001b[0m\u001b[0;34m\u001b[0m\u001b[0m\n\u001b[0;32m-> 2287\u001b[0;31m                 \u001b[0mresult\u001b[0m \u001b[0;34m=\u001b[0m \u001b[0mfn\u001b[0m\u001b[0;34m(\u001b[0m\u001b[0;34m*\u001b[0m\u001b[0margs\u001b[0m\u001b[0;34m,\u001b[0m\u001b[0;34m**\u001b[0m\u001b[0mkwargs\u001b[0m\u001b[0;34m)\u001b[0m\u001b[0;34m\u001b[0m\u001b[0;34m\u001b[0m\u001b[0m\n\u001b[0m\u001b[1;32m   2288\u001b[0m             \u001b[0;32mreturn\u001b[0m \u001b[0mresult\u001b[0m\u001b[0;34m\u001b[0m\u001b[0;34m\u001b[0m\u001b[0m\n\u001b[1;32m   2289\u001b[0m \u001b[0;34m\u001b[0m\u001b[0m\n",
      "\u001b[0;32m<decorator-gen-61>\u001b[0m in \u001b[0;36mtimeit\u001b[0;34m(self, line, cell, local_ns)\u001b[0m\n",
      "\u001b[0;32m~/anaconda3/lib/python3.7/site-packages/IPython/core/magic.py\u001b[0m in \u001b[0;36m<lambda>\u001b[0;34m(f, *a, **k)\u001b[0m\n\u001b[1;32m    185\u001b[0m     \u001b[0;31m# but it's overkill for just that one bit of state.\u001b[0m\u001b[0;34m\u001b[0m\u001b[0;34m\u001b[0m\u001b[0;34m\u001b[0m\u001b[0m\n\u001b[1;32m    186\u001b[0m     \u001b[0;32mdef\u001b[0m \u001b[0mmagic_deco\u001b[0m\u001b[0;34m(\u001b[0m\u001b[0marg\u001b[0m\u001b[0;34m)\u001b[0m\u001b[0;34m:\u001b[0m\u001b[0;34m\u001b[0m\u001b[0;34m\u001b[0m\u001b[0m\n\u001b[0;32m--> 187\u001b[0;31m         \u001b[0mcall\u001b[0m \u001b[0;34m=\u001b[0m \u001b[0;32mlambda\u001b[0m \u001b[0mf\u001b[0m\u001b[0;34m,\u001b[0m \u001b[0;34m*\u001b[0m\u001b[0ma\u001b[0m\u001b[0;34m,\u001b[0m \u001b[0;34m**\u001b[0m\u001b[0mk\u001b[0m\u001b[0;34m:\u001b[0m \u001b[0mf\u001b[0m\u001b[0;34m(\u001b[0m\u001b[0;34m*\u001b[0m\u001b[0ma\u001b[0m\u001b[0;34m,\u001b[0m \u001b[0;34m**\u001b[0m\u001b[0mk\u001b[0m\u001b[0;34m)\u001b[0m\u001b[0;34m\u001b[0m\u001b[0;34m\u001b[0m\u001b[0m\n\u001b[0m\u001b[1;32m    188\u001b[0m \u001b[0;34m\u001b[0m\u001b[0m\n\u001b[1;32m    189\u001b[0m         \u001b[0;32mif\u001b[0m \u001b[0mcallable\u001b[0m\u001b[0;34m(\u001b[0m\u001b[0marg\u001b[0m\u001b[0;34m)\u001b[0m\u001b[0;34m:\u001b[0m\u001b[0;34m\u001b[0m\u001b[0;34m\u001b[0m\u001b[0m\n",
      "\u001b[0;32m~/anaconda3/lib/python3.7/site-packages/IPython/core/magics/execution.py\u001b[0m in \u001b[0;36mtimeit\u001b[0;34m(self, line, cell, local_ns)\u001b[0m\n\u001b[1;32m   1133\u001b[0m                     \u001b[0;32mbreak\u001b[0m\u001b[0;34m\u001b[0m\u001b[0;34m\u001b[0m\u001b[0m\n\u001b[1;32m   1134\u001b[0m \u001b[0;34m\u001b[0m\u001b[0m\n\u001b[0;32m-> 1135\u001b[0;31m         \u001b[0mall_runs\u001b[0m \u001b[0;34m=\u001b[0m \u001b[0mtimer\u001b[0m\u001b[0;34m.\u001b[0m\u001b[0mrepeat\u001b[0m\u001b[0;34m(\u001b[0m\u001b[0mrepeat\u001b[0m\u001b[0;34m,\u001b[0m \u001b[0mnumber\u001b[0m\u001b[0;34m)\u001b[0m\u001b[0;34m\u001b[0m\u001b[0;34m\u001b[0m\u001b[0m\n\u001b[0m\u001b[1;32m   1136\u001b[0m         \u001b[0mbest\u001b[0m \u001b[0;34m=\u001b[0m \u001b[0mmin\u001b[0m\u001b[0;34m(\u001b[0m\u001b[0mall_runs\u001b[0m\u001b[0;34m)\u001b[0m \u001b[0;34m/\u001b[0m \u001b[0mnumber\u001b[0m\u001b[0;34m\u001b[0m\u001b[0;34m\u001b[0m\u001b[0m\n\u001b[1;32m   1137\u001b[0m         \u001b[0mworst\u001b[0m \u001b[0;34m=\u001b[0m \u001b[0mmax\u001b[0m\u001b[0;34m(\u001b[0m\u001b[0mall_runs\u001b[0m\u001b[0;34m)\u001b[0m \u001b[0;34m/\u001b[0m \u001b[0mnumber\u001b[0m\u001b[0;34m\u001b[0m\u001b[0;34m\u001b[0m\u001b[0m\n",
      "\u001b[0;32m~/anaconda3/lib/python3.7/timeit.py\u001b[0m in \u001b[0;36mrepeat\u001b[0;34m(self, repeat, number)\u001b[0m\n\u001b[1;32m    202\u001b[0m         \u001b[0mr\u001b[0m \u001b[0;34m=\u001b[0m \u001b[0;34m[\u001b[0m\u001b[0;34m]\u001b[0m\u001b[0;34m\u001b[0m\u001b[0;34m\u001b[0m\u001b[0m\n\u001b[1;32m    203\u001b[0m         \u001b[0;32mfor\u001b[0m \u001b[0mi\u001b[0m \u001b[0;32min\u001b[0m \u001b[0mrange\u001b[0m\u001b[0;34m(\u001b[0m\u001b[0mrepeat\u001b[0m\u001b[0;34m)\u001b[0m\u001b[0;34m:\u001b[0m\u001b[0;34m\u001b[0m\u001b[0;34m\u001b[0m\u001b[0m\n\u001b[0;32m--> 204\u001b[0;31m             \u001b[0mt\u001b[0m \u001b[0;34m=\u001b[0m \u001b[0mself\u001b[0m\u001b[0;34m.\u001b[0m\u001b[0mtimeit\u001b[0m\u001b[0;34m(\u001b[0m\u001b[0mnumber\u001b[0m\u001b[0;34m)\u001b[0m\u001b[0;34m\u001b[0m\u001b[0;34m\u001b[0m\u001b[0m\n\u001b[0m\u001b[1;32m    205\u001b[0m             \u001b[0mr\u001b[0m\u001b[0;34m.\u001b[0m\u001b[0mappend\u001b[0m\u001b[0;34m(\u001b[0m\u001b[0mt\u001b[0m\u001b[0;34m)\u001b[0m\u001b[0;34m\u001b[0m\u001b[0;34m\u001b[0m\u001b[0m\n\u001b[1;32m    206\u001b[0m         \u001b[0;32mreturn\u001b[0m \u001b[0mr\u001b[0m\u001b[0;34m\u001b[0m\u001b[0;34m\u001b[0m\u001b[0m\n",
      "\u001b[0;32m~/anaconda3/lib/python3.7/site-packages/IPython/core/magics/execution.py\u001b[0m in \u001b[0;36mtimeit\u001b[0;34m(self, number)\u001b[0m\n\u001b[1;32m    158\u001b[0m         \u001b[0mgc\u001b[0m\u001b[0;34m.\u001b[0m\u001b[0mdisable\u001b[0m\u001b[0;34m(\u001b[0m\u001b[0;34m)\u001b[0m\u001b[0;34m\u001b[0m\u001b[0;34m\u001b[0m\u001b[0m\n\u001b[1;32m    159\u001b[0m         \u001b[0;32mtry\u001b[0m\u001b[0;34m:\u001b[0m\u001b[0;34m\u001b[0m\u001b[0;34m\u001b[0m\u001b[0m\n\u001b[0;32m--> 160\u001b[0;31m             \u001b[0mtiming\u001b[0m \u001b[0;34m=\u001b[0m \u001b[0mself\u001b[0m\u001b[0;34m.\u001b[0m\u001b[0minner\u001b[0m\u001b[0;34m(\u001b[0m\u001b[0mit\u001b[0m\u001b[0;34m,\u001b[0m \u001b[0mself\u001b[0m\u001b[0;34m.\u001b[0m\u001b[0mtimer\u001b[0m\u001b[0;34m)\u001b[0m\u001b[0;34m\u001b[0m\u001b[0;34m\u001b[0m\u001b[0m\n\u001b[0m\u001b[1;32m    161\u001b[0m         \u001b[0;32mfinally\u001b[0m\u001b[0;34m:\u001b[0m\u001b[0;34m\u001b[0m\u001b[0;34m\u001b[0m\u001b[0m\n\u001b[1;32m    162\u001b[0m             \u001b[0;32mif\u001b[0m \u001b[0mgcold\u001b[0m\u001b[0;34m:\u001b[0m\u001b[0;34m\u001b[0m\u001b[0;34m\u001b[0m\u001b[0m\n",
      "\u001b[0;32m<magic-timeit>\u001b[0m in \u001b[0;36minner\u001b[0;34m(_it, _timer)\u001b[0m\n",
      "\u001b[0;32m~/GIT/ST444-Group3/code/PSO.py\u001b[0m in \u001b[0;36mrun\u001b[0;34m(self, verbose)\u001b[0m\n\u001b[1;32m    146\u001b[0m         \u001b[0;32mfor\u001b[0m \u001b[0miteration\u001b[0m \u001b[0;32min\u001b[0m \u001b[0mrange\u001b[0m\u001b[0;34m(\u001b[0m\u001b[0mself\u001b[0m\u001b[0;34m.\u001b[0m\u001b[0mn_iter\u001b[0m\u001b[0;34m)\u001b[0m\u001b[0;34m:\u001b[0m\u001b[0;34m\u001b[0m\u001b[0;34m\u001b[0m\u001b[0m\n\u001b[1;32m    147\u001b[0m             \u001b[0;31m# this could happen in parallel\u001b[0m\u001b[0;34m\u001b[0m\u001b[0;34m\u001b[0m\u001b[0;34m\u001b[0m\u001b[0m\n\u001b[0;32m--> 148\u001b[0;31m             \u001b[0mself\u001b[0m\u001b[0;34m.\u001b[0m\u001b[0mget_fitnesses\u001b[0m\u001b[0;34m(\u001b[0m\u001b[0;34m)\u001b[0m\u001b[0;34m\u001b[0m\u001b[0;34m\u001b[0m\u001b[0m\n\u001b[0m\u001b[1;32m    149\u001b[0m             \u001b[0;31m# this doesn't\u001b[0m\u001b[0;34m\u001b[0m\u001b[0;34m\u001b[0m\u001b[0;34m\u001b[0m\u001b[0m\n\u001b[1;32m    150\u001b[0m             \u001b[0mself\u001b[0m\u001b[0;34m.\u001b[0m\u001b[0mupdate_particles\u001b[0m\u001b[0;34m(\u001b[0m\u001b[0;34m)\u001b[0m\u001b[0;34m\u001b[0m\u001b[0;34m\u001b[0m\u001b[0m\n",
      "\u001b[0;32m~/GIT/ST444-Group3/code/PSO.py\u001b[0m in \u001b[0;36mget_fitnesses\u001b[0;34m(self)\u001b[0m\n\u001b[1;32m    108\u001b[0m     \u001b[0;32mdef\u001b[0m \u001b[0mget_fitnesses\u001b[0m\u001b[0;34m(\u001b[0m\u001b[0mself\u001b[0m\u001b[0;34m)\u001b[0m\u001b[0;34m:\u001b[0m\u001b[0;34m\u001b[0m\u001b[0;34m\u001b[0m\u001b[0m\n\u001b[1;32m    109\u001b[0m         \u001b[0;34m\"\"\"Evaluate all fitnesses\"\"\"\u001b[0m\u001b[0;34m\u001b[0m\u001b[0;34m\u001b[0m\u001b[0m\n\u001b[0;32m--> 110\u001b[0;31m         \u001b[0mfitnesses\u001b[0m \u001b[0;34m=\u001b[0m \u001b[0;34m[\u001b[0m\u001b[0mself\u001b[0m\u001b[0;34m.\u001b[0m\u001b[0mfunction\u001b[0m\u001b[0;34m(\u001b[0m\u001b[0mpart\u001b[0m\u001b[0;34m.\u001b[0m\u001b[0mposition\u001b[0m\u001b[0;34m)\u001b[0m \u001b[0;32mfor\u001b[0m \u001b[0mpart\u001b[0m \u001b[0;32min\u001b[0m \u001b[0mself\u001b[0m\u001b[0;34m.\u001b[0m\u001b[0mparticles\u001b[0m\u001b[0;34m]\u001b[0m\u001b[0;34m\u001b[0m\u001b[0;34m\u001b[0m\u001b[0m\n\u001b[0m\u001b[1;32m    111\u001b[0m         \u001b[0mself\u001b[0m\u001b[0;34m.\u001b[0m\u001b[0mfitnesses\u001b[0m \u001b[0;34m=\u001b[0m \u001b[0mnp\u001b[0m\u001b[0;34m.\u001b[0m\u001b[0marray\u001b[0m\u001b[0;34m(\u001b[0m\u001b[0mfitnesses\u001b[0m\u001b[0;34m)\u001b[0m\u001b[0;34m\u001b[0m\u001b[0;34m\u001b[0m\u001b[0m\n\u001b[1;32m    112\u001b[0m \u001b[0;34m\u001b[0m\u001b[0m\n",
      "\u001b[0;32m~/GIT/ST444-Group3/code/PSO.py\u001b[0m in \u001b[0;36m<listcomp>\u001b[0;34m(.0)\u001b[0m\n\u001b[1;32m    108\u001b[0m     \u001b[0;32mdef\u001b[0m \u001b[0mget_fitnesses\u001b[0m\u001b[0;34m(\u001b[0m\u001b[0mself\u001b[0m\u001b[0;34m)\u001b[0m\u001b[0;34m:\u001b[0m\u001b[0;34m\u001b[0m\u001b[0;34m\u001b[0m\u001b[0m\n\u001b[1;32m    109\u001b[0m         \u001b[0;34m\"\"\"Evaluate all fitnesses\"\"\"\u001b[0m\u001b[0;34m\u001b[0m\u001b[0;34m\u001b[0m\u001b[0m\n\u001b[0;32m--> 110\u001b[0;31m         \u001b[0mfitnesses\u001b[0m \u001b[0;34m=\u001b[0m \u001b[0;34m[\u001b[0m\u001b[0mself\u001b[0m\u001b[0;34m.\u001b[0m\u001b[0mfunction\u001b[0m\u001b[0;34m(\u001b[0m\u001b[0mpart\u001b[0m\u001b[0;34m.\u001b[0m\u001b[0mposition\u001b[0m\u001b[0;34m)\u001b[0m \u001b[0;32mfor\u001b[0m \u001b[0mpart\u001b[0m \u001b[0;32min\u001b[0m \u001b[0mself\u001b[0m\u001b[0;34m.\u001b[0m\u001b[0mparticles\u001b[0m\u001b[0;34m]\u001b[0m\u001b[0;34m\u001b[0m\u001b[0;34m\u001b[0m\u001b[0m\n\u001b[0m\u001b[1;32m    111\u001b[0m         \u001b[0mself\u001b[0m\u001b[0;34m.\u001b[0m\u001b[0mfitnesses\u001b[0m \u001b[0;34m=\u001b[0m \u001b[0mnp\u001b[0m\u001b[0;34m.\u001b[0m\u001b[0marray\u001b[0m\u001b[0;34m(\u001b[0m\u001b[0mfitnesses\u001b[0m\u001b[0;34m)\u001b[0m\u001b[0;34m\u001b[0m\u001b[0;34m\u001b[0m\u001b[0m\n\u001b[1;32m    112\u001b[0m \u001b[0;34m\u001b[0m\u001b[0m\n",
      "\u001b[0;32m~/GIT/ST444-Group3/code/functions.py\u001b[0m in \u001b[0;36mhigh_dim_rosenbrock\u001b[0;34m(x)\u001b[0m\n\u001b[1;32m     10\u001b[0m \u001b[0;34m\u001b[0m\u001b[0m\n\u001b[1;32m     11\u001b[0m \u001b[0;32mdef\u001b[0m \u001b[0mhigh_dim_rosenbrock\u001b[0m\u001b[0;34m(\u001b[0m\u001b[0mx\u001b[0m\u001b[0;34m)\u001b[0m\u001b[0;34m:\u001b[0m\u001b[0;34m\u001b[0m\u001b[0;34m\u001b[0m\u001b[0m\n\u001b[0;32m---> 12\u001b[0;31m     \u001b[0;32mreturn\u001b[0m \u001b[0msum\u001b[0m\u001b[0;34m(\u001b[0m\u001b[0;34m[\u001b[0m\u001b[0;34m(\u001b[0m\u001b[0;36m1\u001b[0m\u001b[0;34m-\u001b[0m\u001b[0mx\u001b[0m\u001b[0;34m[\u001b[0m\u001b[0mi\u001b[0m\u001b[0;34m]\u001b[0m\u001b[0;34m)\u001b[0m\u001b[0;34m**\u001b[0m\u001b[0;36m2\u001b[0m \u001b[0;34m+\u001b[0m \u001b[0;36m100\u001b[0m\u001b[0;34m*\u001b[0m\u001b[0;34m(\u001b[0m\u001b[0mx\u001b[0m\u001b[0;34m[\u001b[0m\u001b[0mi\u001b[0m\u001b[0;34m+\u001b[0m\u001b[0;36m1\u001b[0m\u001b[0;34m]\u001b[0m \u001b[0;34m-\u001b[0m \u001b[0mx\u001b[0m\u001b[0;34m[\u001b[0m\u001b[0mi\u001b[0m\u001b[0;34m]\u001b[0m\u001b[0;34m**\u001b[0m\u001b[0;36m2\u001b[0m\u001b[0;34m)\u001b[0m\u001b[0;34m**\u001b[0m\u001b[0;36m2\u001b[0m \u001b[0;32mfor\u001b[0m \u001b[0mi\u001b[0m \u001b[0;32min\u001b[0m \u001b[0mrange\u001b[0m\u001b[0;34m(\u001b[0m\u001b[0mlen\u001b[0m\u001b[0;34m(\u001b[0m\u001b[0mx\u001b[0m\u001b[0;34m)\u001b[0m \u001b[0;34m-\u001b[0m \u001b[0;36m1\u001b[0m\u001b[0;34m)\u001b[0m\u001b[0;34m]\u001b[0m\u001b[0;34m)\u001b[0m\u001b[0;34m\u001b[0m\u001b[0;34m\u001b[0m\u001b[0m\n\u001b[0m\u001b[1;32m     13\u001b[0m \u001b[0;34m\u001b[0m\u001b[0m\n\u001b[1;32m     14\u001b[0m \u001b[0;32mdef\u001b[0m \u001b[0mgriewank\u001b[0m\u001b[0;34m(\u001b[0m\u001b[0mx\u001b[0m\u001b[0;34m)\u001b[0m\u001b[0;34m:\u001b[0m\u001b[0;34m\u001b[0m\u001b[0;34m\u001b[0m\u001b[0m\n",
      "\u001b[0;32m~/GIT/ST444-Group3/code/functions.py\u001b[0m in \u001b[0;36m<listcomp>\u001b[0;34m(.0)\u001b[0m\n\u001b[1;32m     10\u001b[0m \u001b[0;34m\u001b[0m\u001b[0m\n\u001b[1;32m     11\u001b[0m \u001b[0;32mdef\u001b[0m \u001b[0mhigh_dim_rosenbrock\u001b[0m\u001b[0;34m(\u001b[0m\u001b[0mx\u001b[0m\u001b[0;34m)\u001b[0m\u001b[0;34m:\u001b[0m\u001b[0;34m\u001b[0m\u001b[0;34m\u001b[0m\u001b[0m\n\u001b[0;32m---> 12\u001b[0;31m     \u001b[0;32mreturn\u001b[0m \u001b[0msum\u001b[0m\u001b[0;34m(\u001b[0m\u001b[0;34m[\u001b[0m\u001b[0;34m(\u001b[0m\u001b[0;36m1\u001b[0m\u001b[0;34m-\u001b[0m\u001b[0mx\u001b[0m\u001b[0;34m[\u001b[0m\u001b[0mi\u001b[0m\u001b[0;34m]\u001b[0m\u001b[0;34m)\u001b[0m\u001b[0;34m**\u001b[0m\u001b[0;36m2\u001b[0m \u001b[0;34m+\u001b[0m \u001b[0;36m100\u001b[0m\u001b[0;34m*\u001b[0m\u001b[0;34m(\u001b[0m\u001b[0mx\u001b[0m\u001b[0;34m[\u001b[0m\u001b[0mi\u001b[0m\u001b[0;34m+\u001b[0m\u001b[0;36m1\u001b[0m\u001b[0;34m]\u001b[0m \u001b[0;34m-\u001b[0m \u001b[0mx\u001b[0m\u001b[0;34m[\u001b[0m\u001b[0mi\u001b[0m\u001b[0;34m]\u001b[0m\u001b[0;34m**\u001b[0m\u001b[0;36m2\u001b[0m\u001b[0;34m)\u001b[0m\u001b[0;34m**\u001b[0m\u001b[0;36m2\u001b[0m \u001b[0;32mfor\u001b[0m \u001b[0mi\u001b[0m \u001b[0;32min\u001b[0m \u001b[0mrange\u001b[0m\u001b[0;34m(\u001b[0m\u001b[0mlen\u001b[0m\u001b[0;34m(\u001b[0m\u001b[0mx\u001b[0m\u001b[0;34m)\u001b[0m \u001b[0;34m-\u001b[0m \u001b[0;36m1\u001b[0m\u001b[0;34m)\u001b[0m\u001b[0;34m]\u001b[0m\u001b[0;34m)\u001b[0m\u001b[0;34m\u001b[0m\u001b[0;34m\u001b[0m\u001b[0m\n\u001b[0m\u001b[1;32m     13\u001b[0m \u001b[0;34m\u001b[0m\u001b[0m\n\u001b[1;32m     14\u001b[0m \u001b[0;32mdef\u001b[0m \u001b[0mgriewank\u001b[0m\u001b[0;34m(\u001b[0m\u001b[0mx\u001b[0m\u001b[0;34m)\u001b[0m\u001b[0;34m:\u001b[0m\u001b[0;34m\u001b[0m\u001b[0;34m\u001b[0m\u001b[0m\n",
      "\u001b[0;31mKeyboardInterrupt\u001b[0m: "
     ]
    }
   ],
   "source": [
    "%timeit -n 10 solver_basic.run(verbose = False)"
   ]
  },
  {
   "cell_type": "code",
   "execution_count": 18,
   "metadata": {},
   "outputs": [
    {
     "name": "stdout",
     "output_type": "stream",
     "text": [
      "3.12 ms ± 844 µs per loop (mean ± std. dev. of 7 runs, 10 loops each)\n"
     ]
    }
   ],
   "source": [
    "%timeit -n 10 solver_synchron.run(verbose = False)"
   ]
  },
  {
   "cell_type": "code",
   "execution_count": 42,
   "metadata": {},
   "outputs": [
    {
     "name": "stdout",
     "output_type": "stream",
     "text": [
      "23.5 ms ± 2.01 ms per loop (mean ± std. dev. of 7 runs, 10 loops each)\n"
     ]
    }
   ],
   "source": [
    "%timeit -n 10 solver_asynch.run(verbose = False)"
   ]
  },
  {
   "cell_type": "markdown",
   "metadata": {},
   "source": [
    "### Griewank function\n",
    "\n",
    "$$f(x) = 1+{\\frac  {1}{4000}}\\sum _{{i=1}}^{n}x_{i}^{2}-\\prod _{{i=1}}^{n}\\cos \\left({\\frac  {x_{i}}{{\\sqrt  {i}}}}\\right)$$"
   ]
  },
  {
   "cell_type": "code",
   "execution_count": null,
   "metadata": {},
   "outputs": [],
   "source": [
    "from functions import griewank\n",
    "# PSO\n",
    "solver = PSO(num_particles = 60, function = griewank, n_iter = 1000, ndim = 30,\n",
    "                     lower = -600, upper = 600, epsilon = 10e-07)\n",
    "solver.run() # acceptable error < 0.1"
   ]
  },
  {
   "cell_type": "markdown",
   "metadata": {},
   "source": [
    "### Schaffer's F6\n",
    "\n",
    "$$f(x)=0.5+\\frac{sin^2(\\sqrt{x_1^2 + x_2^2})-0.5}{[1+0.001 \\cdot (x_1^2 + x_2^2)]^2}$$"
   ]
  },
  {
   "cell_type": "code",
   "execution_count": 13,
   "metadata": {},
   "outputs": [
    {
     "name": "stdout",
     "output_type": "stream",
     "text": [
      "Running the PSO algorithm with 30 particles, for at most 500 iterations.\n",
      "\n",
      "After 500 iterations,\n",
      "Found minimum at [ 2.06203342e-09 -5.34428782e-10] with value 0.0.\n"
     ]
    },
    {
     "data": {
      "text/plain": [
       "array([ 2.06203342e-09, -5.34428782e-10])"
      ]
     },
     "execution_count": 13,
     "metadata": {},
     "output_type": "execute_result"
    }
   ],
   "source": [
    "from functions import schaffer_f6\n",
    "# PSO\n",
    "solver = PSO(num_particles = 30, function = schaffer_f6, n_iter = 500, ndim = 2,\n",
    "                     lower = -100, upper = 100, epsilon = 0)\n",
    "solver.run() # acceptable error < 10e-06"
   ]
  },
  {
   "cell_type": "markdown",
   "metadata": {},
   "source": [
    "### Rastrigin function\n",
    "\n",
    "$$f(\\mathbf {x} )=An+\\sum _{i=1}^{n}\\left[x_{i}^{2}-A\\cos(2\\pi x_{i})\\right]$$\n",
    "\n",
    "where $ A=10 $ and $x_{i}\\in [-5.12,5.12]$."
   ]
  },
  {
   "cell_type": "code",
   "execution_count": 15,
   "metadata": {},
   "outputs": [],
   "source": [
    "from functions import rastrigin\n",
    "from PSO import *"
   ]
  },
  {
   "cell_type": "code",
   "execution_count": 22,
   "metadata": {},
   "outputs": [
    {
     "name": "stdout",
     "output_type": "stream",
     "text": [
      "Running the PSO algorithm with 100 particles, for at most 200 iterations.\n",
      "\n",
      "After 200 iterations,\n",
      "Found minimum at [-3.37912075e-03 -9.99806333e-01 -7.79087945e-04 -3.98782356e-03\n",
      "  3.97690808e+00 -1.98021112e+00  9.92264219e-01 -9.91646932e-01\n",
      "  3.00307949e+00 -1.00766522e+00  4.37998632e-03 -2.84200162e-03\n",
      " -9.96185333e-01 -5.19562497e-03  1.98806938e+00  1.31949995e-02\n",
      "  1.98504280e+00 -9.93752794e-01  5.50782026e-03 -1.01028071e+00\n",
      "  1.98558980e+00 -9.95610633e-01  9.85252905e-01  9.93786347e-01\n",
      " -1.00547710e+00  9.63235475e-03 -9.94820310e-01 -7.66437141e-03\n",
      "  9.87950984e-01  1.00638266e+00] with value 55.06857957681086.\n"
     ]
    },
    {
     "data": {
      "text/plain": [
       "array([-3.37912075e-03, -9.99806333e-01, -7.79087945e-04, -3.98782356e-03,\n",
       "        3.97690808e+00, -1.98021112e+00,  9.92264219e-01, -9.91646932e-01,\n",
       "        3.00307949e+00, -1.00766522e+00,  4.37998632e-03, -2.84200162e-03,\n",
       "       -9.96185333e-01, -5.19562497e-03,  1.98806938e+00,  1.31949995e-02,\n",
       "        1.98504280e+00, -9.93752794e-01,  5.50782026e-03, -1.01028071e+00,\n",
       "        1.98558980e+00, -9.95610633e-01,  9.85252905e-01,  9.93786347e-01,\n",
       "       -1.00547710e+00,  9.63235475e-03, -9.94820310e-01, -7.66437141e-03,\n",
       "        9.87950984e-01,  1.00638266e+00])"
      ]
     },
     "execution_count": 22,
     "metadata": {},
     "output_type": "execute_result"
    }
   ],
   "source": [
    "# PSO\n",
    "solver = PSO(num_particles = 100, function = rastrigin, n_iter = 200, ndim = 30,\n",
    "                     lower = -5.12, upper = 5.12, epsilon = 10e-7)\n",
    "solver.run() # acceptable error < 100"
   ]
  },
  {
   "cell_type": "code",
   "execution_count": 24,
   "metadata": {},
   "outputs": [
    {
     "name": "stdout",
     "output_type": "stream",
     "text": [
      "Running the PSO algorithm asynchronously with 100 particles, for at most 20000 function evaluations.\n",
      "\n",
      "After 19956 function evaluations,\n",
      "Found minimum at [-1.9851162236310642, -0.9767254839377012, 0.9681459721312682, 1.097397219395972, -1.9323300862347008, -2.0192960890025926, -1.0122491045245257, -1.993480616989867, -0.032249567001426206, 0.9765540468373101, 1.9371882977701196, -0.02016073179963001, -0.9557577115537138, 1.006519611884433, -0.027312071363085007, -0.11712356588798922, 0.02290108085190998, -0.022177058554074407, -1.1000014542898198, 0.942627788822151, 1.9841674335212967, 0.014242713803483874, 0.04048718244064234, -0.09653822356070726, -0.08976622876535562, 1.9618000336711567, 2.011926755240875, -1.9631256176461458, 0.003920862652325295, 1.0464331949366552] with value 60.35604329125468.\n"
     ]
    },
    {
     "data": {
      "text/plain": [
       "[-1.9851162236310642,\n",
       " -0.9767254839377012,\n",
       " 0.9681459721312682,\n",
       " 1.097397219395972,\n",
       " -1.9323300862347008,\n",
       " -2.0192960890025926,\n",
       " -1.0122491045245257,\n",
       " -1.993480616989867,\n",
       " -0.032249567001426206,\n",
       " 0.9765540468373101,\n",
       " 1.9371882977701196,\n",
       " -0.02016073179963001,\n",
       " -0.9557577115537138,\n",
       " 1.006519611884433,\n",
       " -0.027312071363085007,\n",
       " -0.11712356588798922,\n",
       " 0.02290108085190998,\n",
       " -0.022177058554074407,\n",
       " -1.1000014542898198,\n",
       " 0.942627788822151,\n",
       " 1.9841674335212967,\n",
       " 0.014242713803483874,\n",
       " 0.04048718244064234,\n",
       " -0.09653822356070726,\n",
       " -0.08976622876535562,\n",
       " 1.9618000336711567,\n",
       " 2.011926755240875,\n",
       " -1.9631256176461458,\n",
       " 0.003920862652325295,\n",
       " 1.0464331949366552]"
      ]
     },
     "execution_count": 24,
     "metadata": {},
     "output_type": "execute_result"
    }
   ],
   "source": [
    "# Asynchronous Parallel PSO\n",
    "solver_asynchron = PSO_asynchron(num_particles = 100, function = rastrigin, n_iter = 200, ndim = 30,\n",
    "                     lower = -5.12, upper = 5.12, epsilon = 10e-16)\n",
    "solver_asynchron.run() # acceptable error < 100"
   ]
  },
  {
   "cell_type": "code",
   "execution_count": null,
   "metadata": {},
   "outputs": [],
   "source": [
    "import numpy as np\n",
    "np.array([1, 2]) * np.array([1, 1])"
   ]
  },
  {
   "cell_type": "code",
   "execution_count": null,
   "metadata": {},
   "outputs": [],
   "source": []
  },
  {
   "cell_type": "code",
   "execution_count": null,
   "metadata": {},
   "outputs": [],
   "source": []
  },
  {
   "cell_type": "code",
   "execution_count": null,
   "metadata": {},
   "outputs": [],
   "source": []
  },
  {
   "cell_type": "code",
   "execution_count": null,
   "metadata": {},
   "outputs": [],
   "source": []
  }
 ],
 "metadata": {
  "kernelspec": {
   "display_name": "Python 3",
   "language": "python",
   "name": "python3"
  },
  "language_info": {
   "codemirror_mode": {
    "name": "ipython",
    "version": 3
   },
   "file_extension": ".py",
   "mimetype": "text/x-python",
   "name": "python",
   "nbconvert_exporter": "python",
   "pygments_lexer": "ipython3",
   "version": "3.7.2"
  }
 },
 "nbformat": 4,
 "nbformat_minor": 2
}
