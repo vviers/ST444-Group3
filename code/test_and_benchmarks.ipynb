{
 "cells": [
  {
   "cell_type": "markdown",
   "metadata": {},
   "source": [
    "## Tests and Benchmarks\n",
    "\n",
    "For each function in the `functions` module, run the Particle Swarm Optimisation (PSO) Algorithm:\n",
    "\n",
    "- Using the simple algorithm (`PSO()`)\n",
    "\n",
    "Then do a timing benchmark for `PSO`, `PSO_asynchron`, and `PSO_synchron`.\n",
    "\n",
    "\n",
    "Default:\n",
    "- 30 Particles\n",
    "- At most 500 iterations\n",
    "- $\\epsilon = 10^{-10}$ \n",
    "- Search space the same as in the paper."
   ]
  },
  {
   "cell_type": "markdown",
   "metadata": {},
   "source": [
    "### A simple quadratic function\n",
    "\n",
    "$$ f(x) = (x_1 + 2x_2 - 3)^2 + (x_1 - 2)^2$$"
   ]
  },
  {
   "cell_type": "code",
   "execution_count": 1,
   "metadata": {},
   "outputs": [],
   "source": [
    "from random import seed\n",
    "seed(1)"
   ]
  },
  {
   "cell_type": "code",
   "execution_count": 2,
   "metadata": {},
   "outputs": [
    {
     "name": "stdout",
     "output_type": "stream",
     "text": [
      "Running the PSO algorithm with 30 particles, for at most 500 iterations.\n",
      "\n",
      "After 74 iterations,\n",
      "Found minimum at [2.00001669 0.49998629] with value 3.9374855406857843e-10.\n"
     ]
    },
    {
     "data": {
      "text/plain": [
       "array([2.00001669, 0.49998629])"
      ]
     },
     "execution_count": 2,
     "metadata": {},
     "output_type": "execute_result"
    }
   ],
   "source": [
    "# import test function\n",
    "from functions import quad_function\n",
    "\n",
    "# import PSO solvers\n",
    "from PSO import PSO, PSO_synchron, PSO_asynchron\n",
    "\n",
    "# Basic PSO\n",
    "solver_basic = PSO(num_particles = 30, function = quad_function, n_iter = 500, ndim = 2,\n",
    "             lower = -10, upper = 10, epsilon = 10e-10)\n",
    "\n",
    "solver_basic.run()"
   ]
  },
  {
   "cell_type": "code",
   "execution_count": 3,
   "metadata": {},
   "outputs": [
    {
     "name": "stdout",
     "output_type": "stream",
     "text": [
      "Running the PSO algorithm with 30 particles, for at most 500 iterations.\n",
      "\n",
      "After 98 iterations,\n",
      "Found minimum at [1.99999743 0.50000528] with value 7.053406317167849e-11.\n"
     ]
    },
    {
     "data": {
      "text/plain": [
       "array([1.99999743, 0.50000528])"
      ]
     },
     "execution_count": 3,
     "metadata": {},
     "output_type": "execute_result"
    }
   ],
   "source": [
    "# Synchronous Parallel PSO\n",
    "solver_synchron = PSO_synchron(num_particles = 30, function = quad_function, n_iter = 500, ndim = 2,\n",
    "                     lower = -10, upper = 10, epsilon = 10e-10)\n",
    "solver_synchron.run()"
   ]
  },
  {
   "cell_type": "code",
   "execution_count": 4,
   "metadata": {},
   "outputs": [
    {
     "name": "stdout",
     "output_type": "stream",
     "text": [
      "Running the PSO algorithm asynchronously with 30 particles, for at most 15000 function evaluations.\n",
      "\n",
      "After 2637 function evaluations,\n",
      "Found minimum at [1.9999873195677023, 0.5000106661332548] with value 2.356475984847657e-10.\n"
     ]
    },
    {
     "data": {
      "text/plain": [
       "[1.9999873195677023, 0.5000106661332548]"
      ]
     },
     "execution_count": 4,
     "metadata": {},
     "output_type": "execute_result"
    }
   ],
   "source": [
    "# Asynchronous Parallel PSO\n",
    "solver_asynchron = PSO_asynchron(num_particles = 30, function = quad_function, n_iter = 500, ndim = 2,\n",
    "                     lower = -10, upper = 10, epsilon = 10e-10)\n",
    "solver_asynchron.run()"
   ]
  },
  {
   "cell_type": "code",
   "execution_count": 5,
   "metadata": {},
   "outputs": [
    {
     "name": "stdout",
     "output_type": "stream",
     "text": [
      "399 µs ± 79.2 µs per loop (mean ± std. dev. of 7 runs, 100 loops each)\n"
     ]
    }
   ],
   "source": [
    "basic_time = %timeit -o -n 100 solver_basic.run(verbose = False)"
   ]
  },
  {
   "cell_type": "code",
   "execution_count": 6,
   "metadata": {},
   "outputs": [
    {
     "name": "stdout",
     "output_type": "stream",
     "text": [
      "399 µs ± 79.2 µs per loop (mean ± std. dev. of 7 runs, 100 loops each)\n"
     ]
    }
   ],
   "source": [
    "print (basic_time)"
   ]
  },
  {
   "cell_type": "code",
   "execution_count": 7,
   "metadata": {},
   "outputs": [
    {
     "name": "stdout",
     "output_type": "stream",
     "text": [
      "1.08 ms ± 127 µs per loop (mean ± std. dev. of 7 runs, 100 loops each)\n"
     ]
    }
   ],
   "source": [
    "%timeit -n 100 solver_synchron.run(verbose = False)"
   ]
  },
  {
   "cell_type": "code",
   "execution_count": 8,
   "metadata": {},
   "outputs": [
    {
     "name": "stdout",
     "output_type": "stream",
     "text": [
      "19.4 ms ± 1.62 ms per loop (mean ± std. dev. of 7 runs, 100 loops each)\n"
     ]
    }
   ],
   "source": [
    "%timeit -n 100 solver_asynchron.run(verbose = False)"
   ]
  },
  {
   "cell_type": "markdown",
   "metadata": {},
   "source": [
    "### Sphere (de Jong F1)\n",
    "\n",
    "$$ f(x) = \\sum_{i=1}^n x_i^2 $$"
   ]
  },
  {
   "cell_type": "code",
   "execution_count": 9,
   "metadata": {},
   "outputs": [
    {
     "name": "stdout",
     "output_type": "stream",
     "text": [
      "Running the PSO algorithm with 30 particles, for at most 500 iterations.\n",
      "\n",
      "After 500 iterations,\n",
      "Found minimum at [-3.21309335e-03 -7.09758288e-04  2.52385225e-03  1.59199748e-03\n",
      " -1.26078426e-03 -9.42496246e-04  2.18900839e-04  7.01661529e-03\n",
      "  1.14805413e-04  1.99920825e-03  6.85639797e-04 -3.93936403e-03\n",
      " -1.85857248e-03  1.79312068e-03 -2.84917924e-03  4.14894704e-04\n",
      " -1.58928884e-03 -2.94970526e-03  4.14875880e-03  3.61365159e-03\n",
      " -6.60594823e-05  1.61724121e-03  9.66838760e-04  3.76038507e-03\n",
      " -2.80623450e-03 -2.00192822e-04  1.01317424e-02 -6.40595370e-04\n",
      " -2.75534095e-05  1.34276698e-03] with value 0.00027842269521429717.\n",
      "Running the PSO algorithm with 30 particles, for at most 500 iterations.\n",
      "\n",
      "After 500 iterations,\n",
      "Found minimum at [ 3.89482735e-04  3.32065659e-04  7.96491543e-05 -2.03747022e-03\n",
      " -2.29343905e-04  5.71710388e-05 -1.83994369e-04  3.11618204e-04\n",
      "  3.06930340e-06 -2.96802182e-04 -2.12670061e-04 -3.76958230e-04\n",
      "  7.35524912e-05  8.34712180e-04 -1.63661030e-04  1.33478706e-04\n",
      " -6.11299706e-05  7.20177941e-05  4.83751519e-04  2.35595909e-05\n",
      " -4.84716983e-05  6.48350069e-05 -1.94590085e-04 -6.25446155e-04\n",
      "  1.68784936e-03  1.73351086e-04 -5.93321946e-04  3.50068467e-03\n",
      "  5.56393785e-04  4.48600658e-04] with value 2.2304225214516546e-05.\n",
      "Running the PSO algorithm asynchronously with 30 particles, for at most 15000 function evaluations.\n",
      "\n",
      "After 14995 function evaluations,\n",
      "Found minimum at [0.0001901709916653743, 0.0004142624851559406, 0.01118790067412461, -0.004440099752646833, 0.0007438344526161969, -0.001524669206374077, -0.0035605480427963855, -0.000489490113548343, 0.0016387942583675783, 0.00035437658407347654, -0.00212795040535936, -0.002129697974743444, -0.0010378151784891463, 0.0022550921830540895, -0.005504332674570915, 0.0048089619143236095, 0.01072802390766956, -0.002749415221447007, 0.0012049960618370093, -0.00010114460255767526, -0.003723652643951302, 0.005944821687156146, -0.011145231954230677, -0.00263646449830979, 0.0021067657382036705, -0.0033419217114463206, -0.00030066003294426137, 0.004187538454797405, -0.005821926942705087, -0.004551961361637491] with value 0.0006246813282621513.\n"
     ]
    },
    {
     "data": {
      "text/plain": [
       "[0.0001901709916653743,\n",
       " 0.0004142624851559406,\n",
       " 0.01118790067412461,\n",
       " -0.004440099752646833,\n",
       " 0.0007438344526161969,\n",
       " -0.001524669206374077,\n",
       " -0.0035605480427963855,\n",
       " -0.000489490113548343,\n",
       " 0.0016387942583675783,\n",
       " 0.00035437658407347654,\n",
       " -0.00212795040535936,\n",
       " -0.002129697974743444,\n",
       " -0.0010378151784891463,\n",
       " 0.0022550921830540895,\n",
       " -0.005504332674570915,\n",
       " 0.0048089619143236095,\n",
       " 0.01072802390766956,\n",
       " -0.002749415221447007,\n",
       " 0.0012049960618370093,\n",
       " -0.00010114460255767526,\n",
       " -0.003723652643951302,\n",
       " 0.005944821687156146,\n",
       " -0.011145231954230677,\n",
       " -0.00263646449830979,\n",
       " 0.0021067657382036705,\n",
       " -0.0033419217114463206,\n",
       " -0.00030066003294426137,\n",
       " 0.004187538454797405,\n",
       " -0.005821926942705087,\n",
       " -0.004551961361637491]"
      ]
     },
     "execution_count": 9,
     "metadata": {},
     "output_type": "execute_result"
    }
   ],
   "source": [
    "from functions import sphere\n",
    "\n",
    "from PSO import PSO, PSO_synchron, PSO_asynchron\n",
    "\n",
    "solver_basic = PSO(num_particles = 30, function = sphere, n_iter = 500, ndim = 30,\n",
    "                     lower = -100, upper = 100, epsilon = 10e-10)\n",
    "solver_synchron = PSO_synchron(num_particles = 30, function = sphere, n_iter = 500, ndim = 30,\n",
    "                     lower = -100, upper = 100, epsilon = 10e-10)\n",
    "solver_asynchron = PSO_asynchron(num_particles = 30, function = sphere, n_iter = 500, ndim = 30,\n",
    "                     lower = -100, upper = 100, epsilon = 10e-10)\n",
    "\n",
    "\n",
    "solver_basic.run()\n",
    "solver_synchron.run()\n",
    "solver_asynchron.run()"
   ]
  },
  {
   "cell_type": "code",
   "execution_count": 10,
   "metadata": {},
   "outputs": [
    {
     "name": "stdout",
     "output_type": "stream",
     "text": [
      "1.06 ms ± 597 µs per loop (mean ± std. dev. of 7 runs, 100 loops each)\n"
     ]
    }
   ],
   "source": [
    "%timeit -n 100 solver_basic.run(verbose = False)"
   ]
  },
  {
   "cell_type": "code",
   "execution_count": 11,
   "metadata": {},
   "outputs": [
    {
     "name": "stdout",
     "output_type": "stream",
     "text": [
      "1.73 ms ± 683 µs per loop (mean ± std. dev. of 7 runs, 100 loops each)\n"
     ]
    }
   ],
   "source": [
    "%timeit -n 100 solver_synchron.run(verbose = False)"
   ]
  },
  {
   "cell_type": "code",
   "execution_count": 12,
   "metadata": {},
   "outputs": [
    {
     "name": "stdout",
     "output_type": "stream",
     "text": [
      "17.7 ms ± 895 µs per loop (mean ± std. dev. of 7 runs, 100 loops each)\n"
     ]
    }
   ],
   "source": [
    "%timeit -n 100 solver_asynchron.run(verbose = False)"
   ]
  },
  {
   "cell_type": "markdown",
   "metadata": {},
   "source": [
    "### High dimensional Rosenbrock\n",
    "\n",
    "$${\\displaystyle f(\\mathbf {x} )=\\sum _{i=1}^{N-1}[100(x_{i+1}-x_{i}^{2})^{2}+(1-x_{i})^{2}]\\quad {\\mbox{where}}\\quad \\mathbf {x} =[x_{1},\\ldots ,x_{N}]\\in \\mathbb {R} ^{N}.}$$"
   ]
  },
  {
   "cell_type": "code",
   "execution_count": 13,
   "metadata": {},
   "outputs": [],
   "source": [
    "from functions import high_dim_rosenbrock"
   ]
  },
  {
   "cell_type": "code",
   "execution_count": 14,
   "metadata": {},
   "outputs": [
    {
     "name": "stdout",
     "output_type": "stream",
     "text": [
      "Running the PSO algorithm with 30 particles, for at most 500 iterations.\n",
      "\n",
      "After 500 iterations,\n",
      "Found minimum at [ 5.75664321e-01  3.20353987e-01  9.72039829e-02  2.96027146e-02\n",
      "  1.03075448e-02  3.98900862e-03  1.49261217e-02  1.27079403e-02\n",
      " -2.05224335e-03  1.25403231e-02  1.30154315e-02  1.64852785e-02\n",
      "  1.22673087e-02  1.04754426e-02  3.98046571e-04 -4.42188352e-03\n",
      " -4.42553443e-01  7.06565606e-01  8.41619977e-01  9.02342170e-01\n",
      "  9.28796804e-01  9.28254776e-01  8.97720394e-01  8.26095561e-01\n",
      "  7.03412420e-01  5.05708878e-01  2.49626863e-01  6.97767870e-02\n",
      "  3.25814945e-02 -2.21066115e-03] with value 82.55204076730705.\n"
     ]
    },
    {
     "data": {
      "text/plain": [
       "array([ 5.75664321e-01,  3.20353987e-01,  9.72039829e-02,  2.96027146e-02,\n",
       "        1.03075448e-02,  3.98900862e-03,  1.49261217e-02,  1.27079403e-02,\n",
       "       -2.05224335e-03,  1.25403231e-02,  1.30154315e-02,  1.64852785e-02,\n",
       "        1.22673087e-02,  1.04754426e-02,  3.98046571e-04, -4.42188352e-03,\n",
       "       -4.42553443e-01,  7.06565606e-01,  8.41619977e-01,  9.02342170e-01,\n",
       "        9.28796804e-01,  9.28254776e-01,  8.97720394e-01,  8.26095561e-01,\n",
       "        7.03412420e-01,  5.05708878e-01,  2.49626863e-01,  6.97767870e-02,\n",
       "        3.25814945e-02, -2.21066115e-03])"
      ]
     },
     "execution_count": 14,
     "metadata": {},
     "output_type": "execute_result"
    }
   ],
   "source": [
    "# Basic PSO\n",
    "solver_basic = PSO(num_particles = 30, function = high_dim_rosenbrock, n_iter = 500, ndim = 30,\n",
    "             lower = -30, upper = 30, epsilon = 10e-10)\n",
    "solver_basic.run()"
   ]
  },
  {
   "cell_type": "code",
   "execution_count": 15,
   "metadata": {},
   "outputs": [
    {
     "name": "stdout",
     "output_type": "stream",
     "text": [
      "Running the PSO algorithm with 30 particles, for at most 500 iterations.\n",
      "\n",
      "After 500 iterations,\n",
      "Found minimum at [-9.01761599e-01  8.67436874e-01  8.12832358e-01  6.72462976e-01\n",
      "  4.84369348e-01  2.23516423e-01  5.78344560e-02 -7.03879641e-04\n",
      " -1.84669108e-02  4.07399589e-03  3.38390909e-02  3.19325007e-02\n",
      "  1.93834655e-02  2.07897059e-02  1.42371661e-02 -4.53179005e-03\n",
      "  3.66129439e-02  7.98469615e-03  1.36251399e-03  2.10520419e-02\n",
      "  2.05716138e-02  7.83865469e-02  9.16055885e-03 -2.36196180e-02\n",
      "  1.41414895e-02 -9.30617914e-04  1.26588096e-02  2.56499877e-02\n",
      "  1.10370608e-02  2.21095897e-03] with value 29.054498315139913.\n"
     ]
    },
    {
     "data": {
      "text/plain": [
       "array([-9.01761599e-01,  8.67436874e-01,  8.12832358e-01,  6.72462976e-01,\n",
       "        4.84369348e-01,  2.23516423e-01,  5.78344560e-02, -7.03879641e-04,\n",
       "       -1.84669108e-02,  4.07399589e-03,  3.38390909e-02,  3.19325007e-02,\n",
       "        1.93834655e-02,  2.07897059e-02,  1.42371661e-02, -4.53179005e-03,\n",
       "        3.66129439e-02,  7.98469615e-03,  1.36251399e-03,  2.10520419e-02,\n",
       "        2.05716138e-02,  7.83865469e-02,  9.16055885e-03, -2.36196180e-02,\n",
       "        1.41414895e-02, -9.30617914e-04,  1.26588096e-02,  2.56499877e-02,\n",
       "        1.10370608e-02,  2.21095897e-03])"
      ]
     },
     "execution_count": 15,
     "metadata": {},
     "output_type": "execute_result"
    }
   ],
   "source": [
    "solver_synchron = PSO_synchron(num_particles = 30, function = high_dim_rosenbrock, n_iter = 500, ndim = 30,\n",
    "                     lower = -30, upper = 30, epsilon = 10e-10)\n",
    "solver_synchron.run()"
   ]
  },
  {
   "cell_type": "code",
   "execution_count": 16,
   "metadata": {},
   "outputs": [
    {
     "name": "stdout",
     "output_type": "stream",
     "text": [
      "Running the PSO algorithm asynchronously with 30 particles, for at most 15000 function evaluations.\n",
      "\n",
      "After 14998 function evaluations,\n",
      "Found minimum at [-0.927361223751561, 0.8150684315610134, 0.33501920793971285, -0.3224582904341307, 0.43800601129474326, 0.43974565255702375, -0.016884114159446018, 0.08920600573838572, 0.10586237792093348, 0.11880929580233043, -0.3198384672063025, 0.1902794263944771, -0.2769771199755027, 0.08114549438149513, -0.2985158450314397, 0.1302787405566872, 0.2270710977947078, 0.3699216372619689, 0.4199932133025904, 0.1902634740858651, -0.011250416954377302, -0.3981414139496936, 0.4927403139425271, 0.35370357771246264, 0.4086635506170446, 0.21638712714723787, -0.019192399131358312, -0.00874508856329178, 0.031462744529401857, -0.3426646713267997] with value 184.42068980483472.\n"
     ]
    },
    {
     "data": {
      "text/plain": [
       "[-0.927361223751561,\n",
       " 0.8150684315610134,\n",
       " 0.33501920793971285,\n",
       " -0.3224582904341307,\n",
       " 0.43800601129474326,\n",
       " 0.43974565255702375,\n",
       " -0.016884114159446018,\n",
       " 0.08920600573838572,\n",
       " 0.10586237792093348,\n",
       " 0.11880929580233043,\n",
       " -0.3198384672063025,\n",
       " 0.1902794263944771,\n",
       " -0.2769771199755027,\n",
       " 0.08114549438149513,\n",
       " -0.2985158450314397,\n",
       " 0.1302787405566872,\n",
       " 0.2270710977947078,\n",
       " 0.3699216372619689,\n",
       " 0.4199932133025904,\n",
       " 0.1902634740858651,\n",
       " -0.011250416954377302,\n",
       " -0.3981414139496936,\n",
       " 0.4927403139425271,\n",
       " 0.35370357771246264,\n",
       " 0.4086635506170446,\n",
       " 0.21638712714723787,\n",
       " -0.019192399131358312,\n",
       " -0.00874508856329178,\n",
       " 0.031462744529401857,\n",
       " -0.3426646713267997]"
      ]
     },
     "execution_count": 16,
     "metadata": {},
     "output_type": "execute_result"
    }
   ],
   "source": [
    "solver_asynch = PSO_asynchron(num_particles = 30, function = high_dim_rosenbrock, n_iter = 500, ndim = 30,\n",
    "             lower = -30, upper = 30, epsilon = 10e-10)\n",
    "solver_asynch.run()"
   ]
  },
  {
   "cell_type": "code",
   "execution_count": 18,
   "metadata": {},
   "outputs": [
    {
     "name": "stdout",
     "output_type": "stream",
     "text": [
      "1.83 ms ± 97.5 µs per loop (mean ± std. dev. of 7 runs, 100 loops each)\n"
     ]
    }
   ],
   "source": [
    "%timeit -n 100 solver_basic.run(verbose = False)"
   ]
  },
  {
   "cell_type": "code",
   "execution_count": 20,
   "metadata": {},
   "outputs": [
    {
     "name": "stdout",
     "output_type": "stream",
     "text": [
      "2.04 ms ± 112 µs per loop (mean ± std. dev. of 7 runs, 100 loops each)\n"
     ]
    }
   ],
   "source": [
    "%timeit -n 100 solver_synchron.run(verbose = False)"
   ]
  },
  {
   "cell_type": "code",
   "execution_count": 21,
   "metadata": {},
   "outputs": [
    {
     "name": "stdout",
     "output_type": "stream",
     "text": [
      "17.6 ms ± 254 µs per loop (mean ± std. dev. of 7 runs, 100 loops each)\n"
     ]
    }
   ],
   "source": [
    "%timeit -n 100 solver_asynch.run(verbose = False)"
   ]
  },
  {
   "cell_type": "markdown",
   "metadata": {},
   "source": [
    "### Griewank function\n",
    "\n",
    "$$f(x) = 1+{\\frac  {1}{4000}}\\sum _{{i=1}}^{n}x_{i}^{2}-\\prod _{{i=1}}^{n}\\cos \\left({\\frac  {x_{i}}{{\\sqrt  {i}}}}\\right)$$"
   ]
  },
  {
   "cell_type": "code",
   "execution_count": 22,
   "metadata": {},
   "outputs": [
    {
     "name": "stdout",
     "output_type": "stream",
     "text": [
      "Running the PSO algorithm with 30 particles, for at most 500 iterations.\n",
      "\n",
      "After 500 iterations,\n",
      "Found minimum at [ 9.19524464e-03  4.43032882e+00  5.42395146e+00 -1.37475047e-03\n",
      " -1.02922237e-02 -2.24500393e-02  8.27704229e+00 -4.79067911e-03\n",
      " -4.51568903e-03  1.39983389e-02 -1.03636160e+01 -3.42909259e-02\n",
      "  2.00069978e-02  3.54277253e-03 -1.89505531e-02 -7.97968018e-03\n",
      "  4.84982085e-02 -2.22396703e-02  6.23596319e-03 -4.04896577e-03\n",
      "  8.48364875e-03 -3.05886205e-02 -7.60609911e-03  2.34459490e-02\n",
      "  1.92221871e-02 -4.59201742e-05  1.03000208e-02  5.07344170e-02\n",
      "  2.16711463e-02  6.60811497e-03] with value 0.05693190649822699.\n"
     ]
    },
    {
     "data": {
      "text/plain": [
       "array([ 9.19524464e-03,  4.43032882e+00,  5.42395146e+00, -1.37475047e-03,\n",
       "       -1.02922237e-02, -2.24500393e-02,  8.27704229e+00, -4.79067911e-03,\n",
       "       -4.51568903e-03,  1.39983389e-02, -1.03636160e+01, -3.42909259e-02,\n",
       "        2.00069978e-02,  3.54277253e-03, -1.89505531e-02, -7.97968018e-03,\n",
       "        4.84982085e-02, -2.22396703e-02,  6.23596319e-03, -4.04896577e-03,\n",
       "        8.48364875e-03, -3.05886205e-02, -7.60609911e-03,  2.34459490e-02,\n",
       "        1.92221871e-02, -4.59201742e-05,  1.03000208e-02,  5.07344170e-02,\n",
       "        2.16711463e-02,  6.60811497e-03])"
      ]
     },
     "execution_count": 22,
     "metadata": {},
     "output_type": "execute_result"
    }
   ],
   "source": [
    "from functions import griewank\n",
    "# PSO\n",
    "solver_basic = PSO(num_particles = 30, function = griewank, n_iter = 500, ndim = 30,\n",
    "                     lower = -600, upper = 600, epsilon = 10e-10)\n",
    "solver_basic.run() # acceptable error < 0.1"
   ]
  },
  {
   "cell_type": "code",
   "execution_count": 23,
   "metadata": {},
   "outputs": [
    {
     "name": "stdout",
     "output_type": "stream",
     "text": [
      "Running the PSO algorithm with 30 particles, for at most 500 iterations.\n",
      "\n",
      "After 500 iterations,\n",
      "Found minimum at [-3.13858955e+00  1.97175355e-03  3.99492792e-03 -2.30703544e-03\n",
      " -6.99634259e+00  5.98252501e-03  2.67942928e-03  4.28692677e-03\n",
      "  3.69395190e-03 -1.79671618e-04  5.12519610e-03  9.98620607e-04\n",
      " -7.09237768e-02 -4.02137879e-04 -1.72007399e-02 -1.75489449e-04\n",
      " -2.76086726e-03  2.21530888e-02  8.35491080e-03 -1.34104868e-02\n",
      "  7.05453641e-03 -2.74862955e-03 -6.60521536e-03 -8.34010872e-03\n",
      "  1.39695362e-02 -2.00934072e-02 -4.99296037e-03  5.87518323e-03\n",
      "  2.43326124e-02  7.41166875e-04] with value 0.015048504711531518.\n",
      "Running the PSO algorithm asynchronously with 30 particles, for at most 15000 function evaluations.\n",
      "\n",
      "After 14998 function evaluations,\n",
      "Found minimum at [3.1417072632676244, -0.0008732046484298092, 0.004792918912230611, 0.01428701907343022, -0.011758345952604736, -0.009760665512211837, -0.019157120852839105, 8.832284283452593, 0.015699170276636407, -0.016206827522059854, 0.008975729924447416, -0.046262044784958385, 0.014280215984710602, 0.02755778960338985, 0.01868057203019661, -0.005305005286212389, 0.0011510751126557958, 0.0011104797401238348, 0.017790515985239008, -0.0016667760208620135, -0.02579857352228493, 0.0066484102568902, -0.06854500282287389, -0.0472543507406881, 0.004893715135496496, -0.04316604755956411, 0.009450032834911911, 0.02735811100767785, -0.023094159128083075, 0.022850763815447914] with value 0.022640488376177492.\n"
     ]
    },
    {
     "data": {
      "text/plain": [
       "[3.1417072632676244,\n",
       " -0.0008732046484298092,\n",
       " 0.004792918912230611,\n",
       " 0.01428701907343022,\n",
       " -0.011758345952604736,\n",
       " -0.009760665512211837,\n",
       " -0.019157120852839105,\n",
       " 8.832284283452593,\n",
       " 0.015699170276636407,\n",
       " -0.016206827522059854,\n",
       " 0.008975729924447416,\n",
       " -0.046262044784958385,\n",
       " 0.014280215984710602,\n",
       " 0.02755778960338985,\n",
       " 0.01868057203019661,\n",
       " -0.005305005286212389,\n",
       " 0.0011510751126557958,\n",
       " 0.0011104797401238348,\n",
       " 0.017790515985239008,\n",
       " -0.0016667760208620135,\n",
       " -0.02579857352228493,\n",
       " 0.0066484102568902,\n",
       " -0.06854500282287389,\n",
       " -0.0472543507406881,\n",
       " 0.004893715135496496,\n",
       " -0.04316604755956411,\n",
       " 0.009450032834911911,\n",
       " 0.02735811100767785,\n",
       " -0.023094159128083075,\n",
       " 0.022850763815447914]"
      ]
     },
     "execution_count": 23,
     "metadata": {},
     "output_type": "execute_result"
    }
   ],
   "source": [
    "solver_synchron = PSO_synchron(num_particles = 30, function = griewank, n_iter = 500, ndim = 30,\n",
    "                     lower = -600, upper = 600, epsilon = 10e-10)\n",
    "solver_asynchron = PSO_asynchron(num_particles = 30, function = griewank, n_iter = 500, ndim = 30,\n",
    "                     lower = -600, upper = 600, epsilon = 10e-10)\n",
    "\n",
    "solver_synchron.run()\n",
    "solver_asynchron.run()"
   ]
  },
  {
   "cell_type": "code",
   "execution_count": 24,
   "metadata": {},
   "outputs": [
    {
     "name": "stdout",
     "output_type": "stream",
     "text": [
      "4.03 ms ± 1.84 ms per loop (mean ± std. dev. of 7 runs, 100 loops each)\n"
     ]
    }
   ],
   "source": [
    "%timeit -n 100 solver_basic.run(verbose = False)"
   ]
  },
  {
   "cell_type": "code",
   "execution_count": 25,
   "metadata": {},
   "outputs": [
    {
     "name": "stdout",
     "output_type": "stream",
     "text": [
      "3.76 ms ± 2.16 ms per loop (mean ± std. dev. of 7 runs, 100 loops each)\n"
     ]
    }
   ],
   "source": [
    "%timeit -n 100 solver_synchron.run(verbose = False)"
   ]
  },
  {
   "cell_type": "code",
   "execution_count": 26,
   "metadata": {},
   "outputs": [
    {
     "name": "stdout",
     "output_type": "stream",
     "text": [
      "21.3 ms ± 1.45 ms per loop (mean ± std. dev. of 7 runs, 100 loops each)\n"
     ]
    }
   ],
   "source": [
    "%timeit -n 100 solver_asynchron.run(verbose = False)"
   ]
  },
  {
   "cell_type": "markdown",
   "metadata": {},
   "source": [
    "### Schaffer's F6\n",
    "\n",
    "$$f(x)=0.5+\\frac{sin^2(\\sqrt{x_1^2 + x_2^2})-0.5}{[1+0.001 \\cdot (x_1^2 + x_2^2)]^2}$$"
   ]
  },
  {
   "cell_type": "code",
   "execution_count": 27,
   "metadata": {},
   "outputs": [
    {
     "name": "stdout",
     "output_type": "stream",
     "text": [
      "Running the PSO algorithm with 30 particles, for at most 500 iterations.\n",
      "\n",
      "After 175 iterations,\n",
      "Found minimum at [-1.72583504 -2.62136921] with value 0.009715909877881512.\n"
     ]
    },
    {
     "data": {
      "text/plain": [
       "array([-1.72583504, -2.62136921])"
      ]
     },
     "execution_count": 27,
     "metadata": {},
     "output_type": "execute_result"
    }
   ],
   "source": [
    "from functions import schaffer_f6\n",
    "# PSO\n",
    "solver_basic = PSO(num_particles = 30, function = schaffer_f6, n_iter = 500, ndim = 2,\n",
    "                     lower = -100, upper = 100, epsilon = 10e-10)\n",
    "solver_basic.run() # acceptable error < 10e-06"
   ]
  },
  {
   "cell_type": "code",
   "execution_count": 28,
   "metadata": {},
   "outputs": [
    {
     "name": "stdout",
     "output_type": "stream",
     "text": [
      "Running the PSO algorithm with 30 particles, for at most 500 iterations.\n",
      "\n",
      "After 169 iterations,\n",
      "Found minimum at [-5.35108225e-04 -4.15326058e-05] with value 2.8835380810887656e-07.\n",
      "Running the PSO algorithm asynchronously with 30 particles, for at most 15000 function evaluations.\n",
      "\n",
      "After 5596 function evaluations,\n",
      "Found minimum at [1.89191909891873e-05, -8.471105387228422e-05] with value 7.541432367474954e-09.\n"
     ]
    },
    {
     "data": {
      "text/plain": [
       "[1.89191909891873e-05, -8.471105387228422e-05]"
      ]
     },
     "execution_count": 28,
     "metadata": {},
     "output_type": "execute_result"
    }
   ],
   "source": [
    "solver_synchron = PSO_synchron(num_particles = 30, function = schaffer_f6, n_iter = 500, ndim = 2,\n",
    "                     lower = -100, upper = 100, epsilon = 10e-10)\n",
    "solver_asynchron = PSO_asynchron(num_particles = 30, function = schaffer_f6, n_iter = 500, ndim = 2,\n",
    "                     lower = -100, upper = 100, epsilon = 10e-10)\n",
    "\n",
    "solver_synchron.run()\n",
    "solver_asynchron.run()"
   ]
  },
  {
   "cell_type": "code",
   "execution_count": 29,
   "metadata": {},
   "outputs": [
    {
     "name": "stdout",
     "output_type": "stream",
     "text": [
      "529 µs ± 94.6 µs per loop (mean ± std. dev. of 7 runs, 100 loops each)\n"
     ]
    }
   ],
   "source": [
    "%timeit -n 100 solver_basic.run(verbose = False)"
   ]
  },
  {
   "cell_type": "code",
   "execution_count": 30,
   "metadata": {},
   "outputs": [
    {
     "name": "stdout",
     "output_type": "stream",
     "text": [
      "1.12 ms ± 184 µs per loop (mean ± std. dev. of 7 runs, 100 loops each)\n"
     ]
    }
   ],
   "source": [
    "%timeit -n 100 solver_synchron.run(verbose = False)"
   ]
  },
  {
   "cell_type": "code",
   "execution_count": 31,
   "metadata": {},
   "outputs": [
    {
     "name": "stdout",
     "output_type": "stream",
     "text": [
      "18.2 ms ± 1.03 ms per loop (mean ± std. dev. of 7 runs, 100 loops each)\n"
     ]
    }
   ],
   "source": [
    "%timeit -n 100 solver_asynchron.run(verbose = False)"
   ]
  },
  {
   "cell_type": "markdown",
   "metadata": {},
   "source": [
    "### Rastrigin function\n",
    "\n",
    "$$f(\\mathbf {x} )=An+\\sum _{i=1}^{n}\\left[x_{i}^{2}-A\\cos(2\\pi x_{i})\\right]$$\n",
    "\n",
    "where $ A=10 $ and $x_{i}\\in [-5.12,5.12]$."
   ]
  },
  {
   "cell_type": "code",
   "execution_count": 32,
   "metadata": {},
   "outputs": [],
   "source": [
    "from functions import rastrigin\n",
    "from PSO import *"
   ]
  },
  {
   "cell_type": "code",
   "execution_count": 33,
   "metadata": {},
   "outputs": [
    {
     "name": "stdout",
     "output_type": "stream",
     "text": [
      "Running the PSO algorithm with 30 particles, for at most 500 iterations.\n",
      "\n",
      "After 500 iterations,\n",
      "Found minimum at [ 1.45415264e-03  1.98742367e+00  1.98945485e+00  9.93875289e-01\n",
      "  2.00533686e+00  1.00217489e+00  3.97497556e+00 -9.52055476e-03\n",
      "  7.34939350e-03  9.85737737e-01  1.00199109e+00  9.98121646e-01\n",
      "  1.98085777e+00  9.98529410e-01  1.00127624e+00 -1.99372550e+00\n",
      " -1.00286766e+00 -2.72672053e-04  1.98721739e+00  1.13361274e-02\n",
      " -9.98225126e-01 -1.98729206e+00 -3.72115901e-03  1.11223246e-03\n",
      " -9.97850343e-01  1.00519914e+00 -9.91181749e-01 -1.00200199e+00\n",
      "  1.97957156e+00 -1.23811269e-02] with value 60.9756549343617.\n"
     ]
    },
    {
     "data": {
      "text/plain": [
       "array([ 1.45415264e-03,  1.98742367e+00,  1.98945485e+00,  9.93875289e-01,\n",
       "        2.00533686e+00,  1.00217489e+00,  3.97497556e+00, -9.52055476e-03,\n",
       "        7.34939350e-03,  9.85737737e-01,  1.00199109e+00,  9.98121646e-01,\n",
       "        1.98085777e+00,  9.98529410e-01,  1.00127624e+00, -1.99372550e+00,\n",
       "       -1.00286766e+00, -2.72672053e-04,  1.98721739e+00,  1.13361274e-02,\n",
       "       -9.98225126e-01, -1.98729206e+00, -3.72115901e-03,  1.11223246e-03,\n",
       "       -9.97850343e-01,  1.00519914e+00, -9.91181749e-01, -1.00200199e+00,\n",
       "        1.97957156e+00, -1.23811269e-02])"
      ]
     },
     "execution_count": 33,
     "metadata": {},
     "output_type": "execute_result"
    }
   ],
   "source": [
    "# PSO\n",
    "solver = PSO(num_particles = 30, function = rastrigin, n_iter = 500, ndim = 30,\n",
    "                     lower = -5.12, upper = 5.12, epsilon = 10e-7)\n",
    "solver.run() # acceptable error < 100"
   ]
  },
  {
   "cell_type": "code",
   "execution_count": 34,
   "metadata": {},
   "outputs": [
    {
     "name": "stdout",
     "output_type": "stream",
     "text": [
      "Running the PSO algorithm with 30 particles, for at most 500 iterations.\n",
      "\n",
      "After 500 iterations,\n",
      "Found minimum at [ 9.94997257e-01  9.95182617e-01 -1.99057980e+00  1.98930125e+00\n",
      "  9.94774592e-01 -3.58157448e-05  2.98494489e+00  2.98496262e+00\n",
      " -1.66969501e-04  2.97737368e-05 -3.97960124e+00  9.94970565e-01\n",
      "  2.98482482e+00  2.17431261e-04 -1.99011246e+00  2.98494986e+00\n",
      " -9.94765186e-01  9.94911738e-01 -9.94730172e-01  1.99024358e+00\n",
      "  1.98990439e+00 -9.94725778e-01  9.95096646e-01 -2.30580315e-04\n",
      "  2.28806070e-04 -4.67175697e-05  9.95041950e-01  9.94981418e-01\n",
      " -1.98993485e+00  2.98483440e+00] with value 95.51607904329623.\n"
     ]
    },
    {
     "data": {
      "text/plain": [
       "array([ 9.94997257e-01,  9.95182617e-01, -1.99057980e+00,  1.98930125e+00,\n",
       "        9.94774592e-01, -3.58157448e-05,  2.98494489e+00,  2.98496262e+00,\n",
       "       -1.66969501e-04,  2.97737368e-05, -3.97960124e+00,  9.94970565e-01,\n",
       "        2.98482482e+00,  2.17431261e-04, -1.99011246e+00,  2.98494986e+00,\n",
       "       -9.94765186e-01,  9.94911738e-01, -9.94730172e-01,  1.99024358e+00,\n",
       "        1.98990439e+00, -9.94725778e-01,  9.95096646e-01, -2.30580315e-04,\n",
       "        2.28806070e-04, -4.67175697e-05,  9.95041950e-01,  9.94981418e-01,\n",
       "       -1.98993485e+00,  2.98483440e+00])"
      ]
     },
     "execution_count": 34,
     "metadata": {},
     "output_type": "execute_result"
    }
   ],
   "source": [
    "solver_synchron = PSO_synchron(num_particles = 30, function = rastrigin, n_iter = 500, ndim = 30,\n",
    "                     lower = -5.12, upper = 5.12, epsilon = 10e-10)\n",
    "solver_synchron.run()"
   ]
  },
  {
   "cell_type": "code",
   "execution_count": 35,
   "metadata": {},
   "outputs": [
    {
     "name": "stdout",
     "output_type": "stream",
     "text": [
      "Running the PSO algorithm asynchronously with 30 particles, for at most 15000 function evaluations.\n",
      "\n",
      "After 14999 function evaluations,\n",
      "Found minimum at [2.932025685295565e-05, -0.00013300392296379174, 1.9898019055175753, -0.9949189322881834, 0.995094725981969, 0.9950134104803561, 4.261347775456996e-05, -0.9951265145388635, 0.9949930949179654, -1.9898666206913873, 1.734032043027884e-05, -1.9898083153113848, 0.9949583817818227, -1.916916725311501e-05, -0.994815823192567, 2.9848615946559964, 0.995079669053697, -1.9897347193201411, -0.9945908019237019, -0.9947514521068817, 0.9950253984490834, 1.989927783547214, -1.9899343317098113, 0.9949612529531404, -0.9949025605965715, 0.9948449177484362, 0.9949513378866212, 0.9948827151036931, -1.9897219252312024, -0.00011590628931822751] with value 52.73284776858628.\n"
     ]
    },
    {
     "data": {
      "text/plain": [
       "[2.932025685295565e-05,\n",
       " -0.00013300392296379174,\n",
       " 1.9898019055175753,\n",
       " -0.9949189322881834,\n",
       " 0.995094725981969,\n",
       " 0.9950134104803561,\n",
       " 4.261347775456996e-05,\n",
       " -0.9951265145388635,\n",
       " 0.9949930949179654,\n",
       " -1.9898666206913873,\n",
       " 1.734032043027884e-05,\n",
       " -1.9898083153113848,\n",
       " 0.9949583817818227,\n",
       " -1.916916725311501e-05,\n",
       " -0.994815823192567,\n",
       " 2.9848615946559964,\n",
       " 0.995079669053697,\n",
       " -1.9897347193201411,\n",
       " -0.9945908019237019,\n",
       " -0.9947514521068817,\n",
       " 0.9950253984490834,\n",
       " 1.989927783547214,\n",
       " -1.9899343317098113,\n",
       " 0.9949612529531404,\n",
       " -0.9949025605965715,\n",
       " 0.9948449177484362,\n",
       " 0.9949513378866212,\n",
       " 0.9948827151036931,\n",
       " -1.9897219252312024,\n",
       " -0.00011590628931822751]"
      ]
     },
     "execution_count": 35,
     "metadata": {},
     "output_type": "execute_result"
    }
   ],
   "source": [
    "# Asynchronous Parallel PSO\n",
    "solver_asynchron = PSO_asynchron(num_particles = 30, function = rastrigin, n_iter = 500, ndim = 30,\n",
    "                     lower = -5.12, upper = 5.12, epsilon = 10e-10)\n",
    "solver_asynchron.run() # acceptable error < 100"
   ]
  },
  {
   "cell_type": "code",
   "execution_count": 36,
   "metadata": {},
   "outputs": [
    {
     "name": "stdout",
     "output_type": "stream",
     "text": [
      "488 µs ± 71.6 µs per loop (mean ± std. dev. of 7 runs, 100 loops each)\n"
     ]
    }
   ],
   "source": [
    "%timeit -n 100 solver_basic.run(verbose = False)"
   ]
  },
  {
   "cell_type": "code",
   "execution_count": 37,
   "metadata": {},
   "outputs": [
    {
     "name": "stdout",
     "output_type": "stream",
     "text": [
      "2.84 ms ± 1.33 ms per loop (mean ± std. dev. of 7 runs, 100 loops each)\n"
     ]
    }
   ],
   "source": [
    "%timeit -n 100 solver_synchron.run(verbose = False)"
   ]
  },
  {
   "cell_type": "code",
   "execution_count": 38,
   "metadata": {},
   "outputs": [
    {
     "name": "stdout",
     "output_type": "stream",
     "text": [
      "18.9 ms ± 213 µs per loop (mean ± std. dev. of 7 runs, 100 loops each)\n"
     ]
    }
   ],
   "source": [
    "%timeit -n 100 solver_asynchron.run(verbose = False)"
   ]
  },
  {
   "cell_type": "code",
   "execution_count": null,
   "metadata": {},
   "outputs": [],
   "source": [
    "import numpy as np\n",
    "np.array([1, 2]) * np.array([1, 1])"
   ]
  },
  {
   "cell_type": "code",
   "execution_count": null,
   "metadata": {},
   "outputs": [],
   "source": []
  },
  {
   "cell_type": "code",
   "execution_count": null,
   "metadata": {},
   "outputs": [],
   "source": []
  },
  {
   "cell_type": "code",
   "execution_count": null,
   "metadata": {},
   "outputs": [],
   "source": []
  },
  {
   "cell_type": "code",
   "execution_count": null,
   "metadata": {},
   "outputs": [],
   "source": []
  }
 ],
 "metadata": {
  "kernelspec": {
   "display_name": "Python 3",
   "language": "python",
   "name": "python3"
  },
  "language_info": {
   "codemirror_mode": {
    "name": "ipython",
    "version": 3
   },
   "file_extension": ".py",
   "mimetype": "text/x-python",
   "name": "python",
   "nbconvert_exporter": "python",
   "pygments_lexer": "ipython3",
   "version": "3.7.0"
  }
 },
 "nbformat": 4,
 "nbformat_minor": 2
}
