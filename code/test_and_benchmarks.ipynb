{
 "cells": [
  {
   "cell_type": "markdown",
   "metadata": {},
   "source": [
    "## Tests and Benchmarks\n",
    "\n",
    "For each function in the `functions` module, run the Particle Swarm Optimisation (PSO) Algorithm:\n",
    "\n",
    "- Using the simple algorithm (`PSO()`)\n",
    "- Synchronous parallel (`PSO_synchron()`)\n",
    "- Asynchronous parallel (`PSO_asynchron()`)\n",
    "    "
   ]
  },
  {
   "cell_type": "markdown",
   "metadata": {},
   "source": [
    "### A simple quadratic function\n",
    "\n",
    "$$ f(x) = (x_1 + 2x_2 - 3)^2 + (x_1 - 2)^2$$"
   ]
  },
  {
   "cell_type": "code",
   "execution_count": 15,
   "metadata": {},
   "outputs": [
    {
     "name": "stdout",
     "output_type": "stream",
     "text": [
      "Running the PSO algorithm with 20 particles, for at most 200 iterations.\n",
      "\n",
      "After 200 iterations,\n",
      "Found minimum at [2.  0.5] with value 1.684771319605328e-19.\n"
     ]
    },
    {
     "data": {
      "text/plain": [
       "array([2. , 0.5])"
      ]
     },
     "execution_count": 15,
     "metadata": {},
     "output_type": "execute_result"
    }
   ],
   "source": [
    "# import test function\n",
    "from functions import quad_function\n",
    "\n",
    "# import PSO solvers\n",
    "from PSO import PSO, PSO_synchron, PSO_asynchron\n",
    "\n",
    "# Basic PSO\n",
    "solver_basic = PSO(num_particles = 20, function = quad_function, n_iter = 200, ndim = 2,\n",
    "             lower = -10, upper = 10, epsilon = 0)\n",
    "solver_basic.run()"
   ]
  },
  {
   "cell_type": "code",
   "execution_count": 16,
   "metadata": {},
   "outputs": [
    {
     "name": "stdout",
     "output_type": "stream",
     "text": [
      "Running the PSO algorithm with 20 particles, for at most 200 iterations.\n",
      "\n",
      "After 200 iterations,\n",
      "Found minimum at [2.  0.5] with value 2.7774011446104434e-19.\n"
     ]
    },
    {
     "data": {
      "text/plain": [
       "array([2. , 0.5])"
      ]
     },
     "execution_count": 16,
     "metadata": {},
     "output_type": "execute_result"
    }
   ],
   "source": [
    "# Synchronous Parallel PSO\n",
    "solver_synchron = PSO_synchron(num_particles = 20, function = quad_function, n_iter = 200, ndim = 2,\n",
    "                     lower = -10, upper = 10, epsilon = 0)\n",
    "solver_synchron.run()"
   ]
  },
  {
   "cell_type": "code",
   "execution_count": 17,
   "metadata": {},
   "outputs": [
    {
     "name": "stdout",
     "output_type": "stream",
     "text": [
      "Running the PSO algorithm asynchronously with 20 particles, for at most 4000 function evaluations.\n",
      "\n",
      "After 3999 function evaluations,\n",
      "Found minimum at [2.0000000001552145, 0.5000000001889435] with value 3.0828881982672467e-19.\n"
     ]
    },
    {
     "data": {
      "text/plain": [
       "[2.0000000001552145, 0.5000000001889435]"
      ]
     },
     "execution_count": 17,
     "metadata": {},
     "output_type": "execute_result"
    }
   ],
   "source": [
    "# Asynchronous Parallel PSO\n",
    "solver_asynchron = PSO_asynchron(num_particles = 20, function = quad_function, n_iter = 200, ndim = 2,\n",
    "                     lower = -10, upper = 10, epsilon = 0)\n",
    "solver_asynchron.run()"
   ]
  },
  {
   "cell_type": "code",
   "execution_count": 18,
   "metadata": {},
   "outputs": [
    {
     "name": "stdout",
     "output_type": "stream",
     "text": [
      "63 ms ± 733 µs per loop (mean ± std. dev. of 7 runs, 10 loops each)\n"
     ]
    },
    {
     "data": {
      "text/plain": [
       "<TimeitResult : 63 ms ± 733 µs per loop (mean ± std. dev. of 7 runs, 10 loops each)>"
      ]
     },
     "execution_count": 18,
     "metadata": {},
     "output_type": "execute_result"
    }
   ],
   "source": [
    "%timeit -o solver_basic.run(verbose = False)"
   ]
  },
  {
   "cell_type": "code",
   "execution_count": 19,
   "metadata": {},
   "outputs": [
    {
     "name": "stdout",
     "output_type": "stream",
     "text": [
      "441 ms ± 9.46 ms per loop (mean ± std. dev. of 7 runs, 1 loop each)\n"
     ]
    },
    {
     "data": {
      "text/plain": [
       "<TimeitResult : 441 ms ± 9.46 ms per loop (mean ± std. dev. of 7 runs, 1 loop each)>"
      ]
     },
     "execution_count": 19,
     "metadata": {},
     "output_type": "execute_result"
    }
   ],
   "source": [
    "%timeit -o solver_synchron.run(verbose = False)"
   ]
  },
  {
   "cell_type": "code",
   "execution_count": 20,
   "metadata": {},
   "outputs": [
    {
     "name": "stdout",
     "output_type": "stream",
     "text": [
      "22.5 ms ± 1.3 ms per loop (mean ± std. dev. of 7 runs, 10 loops each)\n"
     ]
    },
    {
     "data": {
      "text/plain": [
       "<TimeitResult : 22.5 ms ± 1.3 ms per loop (mean ± std. dev. of 7 runs, 10 loops each)>"
      ]
     },
     "execution_count": 20,
     "metadata": {},
     "output_type": "execute_result"
    }
   ],
   "source": [
    "%timeit -o solver_asynchron.run(verbose = False)"
   ]
  },
  {
   "cell_type": "markdown",
   "metadata": {},
   "source": [
    "### High dimensional Rosenbrock\n",
    "\n",
    "$${\\displaystyle f(\\mathbf {x} )=\\sum _{i=1}^{N-1}[100(x_{i+1}-x_{i}^{2})^{2}+(1-x_{i})^{2}]\\quad {\\mbox{where}}\\quad \\mathbf {x} =[x_{1},\\ldots ,x_{N}]\\in \\mathbb {R} ^{N}.}$$"
   ]
  },
  {
   "cell_type": "code",
   "execution_count": 22,
   "metadata": {},
   "outputs": [],
   "source": [
    "from functions import high_dim_rosenbrock"
   ]
  },
  {
   "cell_type": "code",
   "execution_count": 25,
   "metadata": {},
   "outputs": [
    {
     "name": "stdout",
     "output_type": "stream",
     "text": [
      "Running the PSO algorithm with 20 particles, for at most 500 iterations.\n",
      "\n",
      "After 263 iterations,\n",
      "Found minimum at [1.0000002  0.99999369 0.99999246 1.00000676 1.000005  ] with value 6.216626579242939e-08.\n"
     ]
    },
    {
     "data": {
      "text/plain": [
       "array([1.0000002 , 0.99999369, 0.99999246, 1.00000676, 1.000005  ])"
      ]
     },
     "execution_count": 25,
     "metadata": {},
     "output_type": "execute_result"
    }
   ],
   "source": [
    "# Basic PSO\n",
    "solver_basic = PSO(num_particles = 20, function = high_dim_rosenbrock, n_iter = 500, ndim = 5,\n",
    "             lower = -10, upper = 10, epsilon = 10e-9)\n",
    "solver_basic.run()"
   ]
  },
  {
   "cell_type": "code",
   "execution_count": 26,
   "metadata": {},
   "outputs": [
    {
     "name": "stdout",
     "output_type": "stream",
     "text": [
      "Running the PSO algorithm asynchronously with 20 particles, for at most 4000 function evaluations.\n",
      "\n",
      "After 3999 function evaluations,\n",
      "Found minimum at [0.9999393721747077, 0.9999330505772035, 0.9999526977563572, 0.999884220442436, 0.9997317875731251] with value 1.2477892499225233e-06.\n"
     ]
    },
    {
     "data": {
      "text/plain": [
       "[0.9999393721747077,\n",
       " 0.9999330505772035,\n",
       " 0.9999526977563572,\n",
       " 0.999884220442436,\n",
       " 0.9997317875731251]"
      ]
     },
     "execution_count": 26,
     "metadata": {},
     "output_type": "execute_result"
    }
   ],
   "source": [
    "solver_asynch = PSO_asynchron(num_particles = 20, function = high_dim_rosenbrock, n_iter = 200, ndim = 5,\n",
    "             lower = -10, upper = 10, epsilon = 0)\n",
    "solver_asynch.run()"
   ]
  },
  {
   "cell_type": "markdown",
   "metadata": {},
   "source": [
    "### Griewank function\n",
    "\n",
    "$$f(x) = 1+{\\frac  {1}{4000}}\\sum _{{i=1}}^{n}x_{i}^{2}-\\prod _{{i=1}}^{n}\\cos \\left({\\frac  {x_{i}}{{\\sqrt  {i}}}}\\right)$$"
   ]
  },
  {
   "cell_type": "code",
   "execution_count": null,
   "metadata": {},
   "outputs": [],
   "source": []
  },
  {
   "cell_type": "markdown",
   "metadata": {},
   "source": [
    "### Schaffer's F6\n",
    "\n",
    "$$f(x)=0.5+\\frac{sin^2(\\sqrt{x_1^2 + x_2^2})-0.5}{[1+0.001 \\cdot (x_1^2 + x_2^2)]^2}$$"
   ]
  },
  {
   "cell_type": "code",
   "execution_count": null,
   "metadata": {},
   "outputs": [],
   "source": []
  },
  {
   "cell_type": "markdown",
   "metadata": {},
   "source": [
    "### Rastrigin function\n",
    "\n",
    "$$f(\\mathbf {x} )=An+\\sum _{i=1}^{n}\\left[x_{i}^{2}-A\\cos(2\\pi x_{i})\\right]$$\n",
    "\n",
    "where $ A=10 $ and $x_{i}\\in [-5.12,5.12]$."
   ]
  },
  {
   "cell_type": "code",
   "execution_count": null,
   "metadata": {},
   "outputs": [],
   "source": []
  }
 ],
 "metadata": {
  "kernelspec": {
   "display_name": "Python 3",
   "language": "python",
   "name": "python3"
  },
  "language_info": {
   "codemirror_mode": {
    "name": "ipython",
    "version": 3
   },
   "file_extension": ".py",
   "mimetype": "text/x-python",
   "name": "python",
   "nbconvert_exporter": "python",
   "pygments_lexer": "ipython3",
   "version": "3.7.1"
  }
 },
 "nbformat": 4,
 "nbformat_minor": 2
}
