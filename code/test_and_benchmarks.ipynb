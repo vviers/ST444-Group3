{
 "cells": [
  {
   "cell_type": "markdown",
   "metadata": {},
   "source": [
    "## Tests and Benchmarks\n",
    "\n",
    "For each function in the `functions` module, run the Particle Swarm Optimisation (PSO) Algorithm:\n",
    "\n",
    "- Using the simple algorithm (`PSO()`)\n",
    "- Synchronous parallel (`PSO_synchron()`)\n",
    "- Asynchronous parallel (`PSO_asynchron()`)\n",
    "    "
   ]
  },
  {
   "cell_type": "markdown",
   "metadata": {},
   "source": [
    "### A simple quadratic function\n",
    "\n",
    "$$ f(x) = (x_1 + 2x_2 - 3)^2 + (x_1 - 2)^2$$"
   ]
  },
  {
   "cell_type": "code",
   "execution_count": 1,
   "metadata": {},
   "outputs": [
    {
     "name": "stdout",
     "output_type": "stream",
     "text": [
      "Running the PSO algorithm with 20 particles, for at most 200 iterations.\n",
      "\n",
      "After 88 iterations,\n",
      "Found minimum at [1.99997289 0.50002268] with value 1.0678849816437163e-09.\n"
     ]
    },
    {
     "data": {
      "text/plain": [
       "array([1.99997289, 0.50002268])"
      ]
     },
     "execution_count": 1,
     "metadata": {},
     "output_type": "execute_result"
    }
   ],
   "source": [
    "# import test function\n",
    "from functions import quad_function\n",
    "\n",
    "# import PSO solvers\n",
    "from PSO import PSO, PSO_synchron, PSO_asynchron\n",
    "\n",
    "# Basic PSO\n",
    "solver_basic = PSO(num_particles = 20, function = quad_function, n_iter = 200, ndim = 2,\n",
    "             lower = -10, upper = 10, epsilon = 10e-10)\n",
    "solver_basic.run()"
   ]
  },
  {
   "cell_type": "code",
   "execution_count": 2,
   "metadata": {},
   "outputs": [
    {
     "name": "stdout",
     "output_type": "stream",
     "text": [
      "Running the PSO algorithm with 20 particles, for at most 200 iterations.\n",
      "\n",
      "After 81 iterations,\n",
      "Found minimum at [2.00001266 0.49999725] with value 2.117457513424202e-10.\n"
     ]
    },
    {
     "data": {
      "text/plain": [
       "array([2.00001266, 0.49999725])"
      ]
     },
     "execution_count": 2,
     "metadata": {},
     "output_type": "execute_result"
    },
    {
     "name": "stderr",
     "output_type": "stream",
     "text": [
      "Process ForkPoolWorker-3:\n",
      "Process ForkPoolWorker-2:\n",
      "Process ForkPoolWorker-1:\n",
      "Traceback (most recent call last):\n",
      "Traceback (most recent call last):\n",
      "  File \"/home/vincent/anaconda3/lib/python3.7/multiprocessing/process.py\", line 297, in _bootstrap\n",
      "    self.run()\n",
      "Traceback (most recent call last):\n",
      "  File \"/home/vincent/anaconda3/lib/python3.7/multiprocessing/process.py\", line 297, in _bootstrap\n",
      "    self.run()\n",
      "  File \"/home/vincent/anaconda3/lib/python3.7/multiprocessing/process.py\", line 297, in _bootstrap\n",
      "    self.run()\n",
      "  File \"/home/vincent/anaconda3/lib/python3.7/multiprocessing/process.py\", line 99, in run\n",
      "    self._target(*self._args, **self._kwargs)\n",
      "  File \"/home/vincent/anaconda3/lib/python3.7/multiprocessing/process.py\", line 99, in run\n",
      "    self._target(*self._args, **self._kwargs)\n",
      "  File \"/home/vincent/anaconda3/lib/python3.7/multiprocessing/pool.py\", line 110, in worker\n",
      "    task = get()\n",
      "  File \"/home/vincent/anaconda3/lib/python3.7/multiprocessing/pool.py\", line 110, in worker\n",
      "    task = get()\n",
      "  File \"/home/vincent/anaconda3/lib/python3.7/multiprocessing/queues.py\", line 351, in get\n",
      "    with self._rlock:\n",
      "  File \"/home/vincent/anaconda3/lib/python3.7/multiprocessing/synchronize.py\", line 95, in __enter__\n",
      "    return self._semlock.__enter__()\n",
      "  File \"/home/vincent/anaconda3/lib/python3.7/multiprocessing/queues.py\", line 351, in get\n",
      "    with self._rlock:\n",
      "KeyboardInterrupt\n",
      "  File \"/home/vincent/anaconda3/lib/python3.7/multiprocessing/process.py\", line 99, in run\n",
      "    self._target(*self._args, **self._kwargs)\n",
      "  File \"/home/vincent/anaconda3/lib/python3.7/multiprocessing/synchronize.py\", line 95, in __enter__\n",
      "    return self._semlock.__enter__()\n",
      "  File \"/home/vincent/anaconda3/lib/python3.7/multiprocessing/pool.py\", line 110, in worker\n",
      "    task = get()\n",
      "  File \"/home/vincent/anaconda3/lib/python3.7/multiprocessing/queues.py\", line 352, in get\n",
      "    res = self._reader.recv_bytes()\n",
      "KeyboardInterrupt\n",
      "  File \"/home/vincent/anaconda3/lib/python3.7/multiprocessing/connection.py\", line 216, in recv_bytes\n",
      "    buf = self._recv_bytes(maxlength)\n",
      "KeyboardInterrupt\n",
      "  File \"/home/vincent/anaconda3/lib/python3.7/multiprocessing/connection.py\", line 407, in _recv_bytes\n",
      "    buf = self._recv(4)\n",
      "  File \"/home/vincent/anaconda3/lib/python3.7/multiprocessing/connection.py\", line 379, in _recv\n",
      "    chunk = read(handle, remaining)\n"
     ]
    }
   ],
   "source": [
    "# Synchronous Parallel PSO\n",
    "solver_synchron = PSO_synchron(num_particles = 20, function = quad_function, n_iter = 200, ndim = 2,\n",
    "                     lower = -10, upper = 10, epsilon = 10e-10)\n",
    "solver_synchron.run()"
   ]
  },
  {
   "cell_type": "code",
   "execution_count": 3,
   "metadata": {},
   "outputs": [
    {
     "name": "stdout",
     "output_type": "stream",
     "text": [
      "Running the PSO algorithm asynchronously with 20 particles, for at most 4000 function evaluations.\n",
      "\n",
      "After 1526 function evaluations,\n",
      "Found minimum at [2.000072770216814, 0.4999611979074011] with value 5.3188717055179754e-09.\n"
     ]
    },
    {
     "data": {
      "text/plain": [
       "[2.000072770216814, 0.4999611979074011]"
      ]
     },
     "execution_count": 3,
     "metadata": {},
     "output_type": "execute_result"
    }
   ],
   "source": [
    "# Asynchronous Parallel PSO\n",
    "solver_asynchron = PSO_asynchron(num_particles = 20, function = quad_function, n_iter = 200, ndim = 2,\n",
    "                     lower = -10, upper = 10, epsilon = 10e-10)\n",
    "solver_asynchron.run()"
   ]
  },
  {
   "cell_type": "code",
   "execution_count": null,
   "metadata": {},
   "outputs": [],
   "source": [
    "%time solver_basic.run(verbose = False)"
   ]
  },
  {
   "cell_type": "code",
   "execution_count": null,
   "metadata": {},
   "outputs": [],
   "source": [
    "%time solver_synchron.run(verbose = False)"
   ]
  },
  {
   "cell_type": "code",
   "execution_count": null,
   "metadata": {},
   "outputs": [],
   "source": [
    "%time solver_asynchron.run(verbose = False)"
   ]
  },
  {
   "cell_type": "markdown",
   "metadata": {},
   "source": [
    "### Sphere (de Jong F1)\n",
    "\n",
    "$$ f(x) = \\sum_{i=1}^n x_i^2 $$"
   ]
  },
  {
   "cell_type": "code",
   "execution_count": 7,
   "metadata": {},
   "outputs": [
    {
     "name": "stdout",
     "output_type": "stream",
     "text": [
      "Running the PSO algorithm with 30 particles, for at most 500 iterations.\n",
      "\n",
      "After 362 iterations,\n",
      "Found minimum at [-1.27452896e-05  3.48098836e-04 -1.80727385e-03 -7.62988774e-04\n",
      " -4.12380260e-04 -6.27375582e-04  1.95585906e-03  1.11120040e-03\n",
      " -5.48996119e-04 -1.07758811e-03  1.63254568e-03 -1.78365638e-03\n",
      "  3.43013521e-03 -2.15728526e-03  7.45222014e-04 -8.82634269e-06\n",
      "  7.19772784e-04  1.32149703e-03 -1.91601945e-03 -4.83722481e-04\n",
      " -1.35832496e-03 -3.09537007e-04 -3.35637708e-04 -1.23980040e-04\n",
      " -8.36521257e-04  2.91237694e-04 -6.92423713e-04  6.38792483e-04\n",
      " -2.59414709e-03  3.86815699e-04] with value 5.066765176672013e-05.\n"
     ]
    },
    {
     "data": {
      "text/plain": [
       "array([-1.27452896e-05,  3.48098836e-04, -1.80727385e-03, -7.62988774e-04,\n",
       "       -4.12380260e-04, -6.27375582e-04,  1.95585906e-03,  1.11120040e-03,\n",
       "       -5.48996119e-04, -1.07758811e-03,  1.63254568e-03, -1.78365638e-03,\n",
       "        3.43013521e-03, -2.15728526e-03,  7.45222014e-04, -8.82634269e-06,\n",
       "        7.19772784e-04,  1.32149703e-03, -1.91601945e-03, -4.83722481e-04,\n",
       "       -1.35832496e-03, -3.09537007e-04, -3.35637708e-04, -1.23980040e-04,\n",
       "       -8.36521257e-04,  2.91237694e-04, -6.92423713e-04,  6.38792483e-04,\n",
       "       -2.59414709e-03,  3.86815699e-04])"
      ]
     },
     "execution_count": 7,
     "metadata": {},
     "output_type": "execute_result"
    }
   ],
   "source": [
    "from functions import sphere\n",
    "# import PSO solvers\n",
    "from PSO import PSO, PSO_synchron, PSO_asynchron\n",
    "\n",
    "solver = PSO(num_particles = 30, function = sphere, n_iter = 500, ndim = 30,\n",
    "                     lower = -10, upper = 10, epsilon = 10e-07)\n",
    "solver.run() # better defaults are needed..."
   ]
  },
  {
   "cell_type": "markdown",
   "metadata": {},
   "source": [
    "### High dimensional Rosenbrock\n",
    "\n",
    "$${\\displaystyle f(\\mathbf {x} )=\\sum _{i=1}^{N-1}[100(x_{i+1}-x_{i}^{2})^{2}+(1-x_{i})^{2}]\\quad {\\mbox{where}}\\quad \\mathbf {x} =[x_{1},\\ldots ,x_{N}]\\in \\mathbb {R} ^{N}.}$$"
   ]
  },
  {
   "cell_type": "code",
   "execution_count": 8,
   "metadata": {},
   "outputs": [],
   "source": [
    "from functions import high_dim_rosenbrock"
   ]
  },
  {
   "cell_type": "code",
   "execution_count": 9,
   "metadata": {},
   "outputs": [
    {
     "name": "stdout",
     "output_type": "stream",
     "text": [
      "Running the PSO algorithm with 20 particles, for at most 500 iterations.\n",
      "\n",
      "After 500 iterations,\n",
      "Found minimum at [ 0.9945954   0.97431422  0.96171955  0.93747333  0.88059006  0.76436351\n",
      "  0.57761664  0.38603644  0.18364365  0.05065528  0.00332958  0.02279276\n",
      "  0.03136523  0.05210733  0.03211644  0.00638433  0.01619091 -0.0060635\n",
      "  0.0053486   0.01328082  0.00480944  0.0221323   0.0126366  -0.0110851\n",
      "  0.02708078  0.00681679  0.02879423  0.00287449  0.02090426 -0.00278394] with value 21.948210881439845.\n"
     ]
    },
    {
     "data": {
      "text/plain": [
       "array([ 0.9945954 ,  0.97431422,  0.96171955,  0.93747333,  0.88059006,\n",
       "        0.76436351,  0.57761664,  0.38603644,  0.18364365,  0.05065528,\n",
       "        0.00332958,  0.02279276,  0.03136523,  0.05210733,  0.03211644,\n",
       "        0.00638433,  0.01619091, -0.0060635 ,  0.0053486 ,  0.01328082,\n",
       "        0.00480944,  0.0221323 ,  0.0126366 , -0.0110851 ,  0.02708078,\n",
       "        0.00681679,  0.02879423,  0.00287449,  0.02090426, -0.00278394])"
      ]
     },
     "execution_count": 9,
     "metadata": {},
     "output_type": "execute_result"
    }
   ],
   "source": [
    "# Basic PSO\n",
    "solver_basic = PSO(num_particles = 20, function = high_dim_rosenbrock, n_iter = 500, ndim = 30,\n",
    "             lower = -10, upper = 10, epsilon = 10e-7)\n",
    "solver_basic.run()"
   ]
  },
  {
   "cell_type": "code",
   "execution_count": 11,
   "metadata": {},
   "outputs": [
    {
     "name": "stdout",
     "output_type": "stream",
     "text": [
      "Running the PSO algorithm asynchronously with 30 particles, for at most 15000 function evaluations.\n",
      "\n",
      "After 14998 function evaluations,\n",
      "Found minimum at [0.7997719280605541, 0.634072686828475, 0.40461647746324353, 0.16442957512634582, 0.021692843912095756, 0.014002548740222581, 0.018103061949471366, 0.009582665589749757, 0.009662836334067946, 0.013037712113991564, 0.01133378647145314, 0.0132951453470765, 0.014182591025788914, 0.014795646171358715, 0.0841708593837759, 0.4391035573909605, 0.6792792126926804, 0.8215003037970681, 0.8882060848956767, 0.9158705281162081, 0.9109273651555485, 0.8669371760463659, 0.8034188814608104, 0.683931623255457, 0.4934894395464813, 0.2536871200195855, 0.07198743282420918, 0.011660819520653504, 0.011835562960356105, -0.002161787688488191] with value 79.54977017323763.\n"
     ]
    },
    {
     "data": {
      "text/plain": [
       "[0.7997719280605541,\n",
       " 0.634072686828475,\n",
       " 0.40461647746324353,\n",
       " 0.16442957512634582,\n",
       " 0.021692843912095756,\n",
       " 0.014002548740222581,\n",
       " 0.018103061949471366,\n",
       " 0.009582665589749757,\n",
       " 0.009662836334067946,\n",
       " 0.013037712113991564,\n",
       " 0.01133378647145314,\n",
       " 0.0132951453470765,\n",
       " 0.014182591025788914,\n",
       " 0.014795646171358715,\n",
       " 0.0841708593837759,\n",
       " 0.4391035573909605,\n",
       " 0.6792792126926804,\n",
       " 0.8215003037970681,\n",
       " 0.8882060848956767,\n",
       " 0.9158705281162081,\n",
       " 0.9109273651555485,\n",
       " 0.8669371760463659,\n",
       " 0.8034188814608104,\n",
       " 0.683931623255457,\n",
       " 0.4934894395464813,\n",
       " 0.2536871200195855,\n",
       " 0.07198743282420918,\n",
       " 0.011660819520653504,\n",
       " 0.011835562960356105,\n",
       " -0.002161787688488191]"
      ]
     },
     "execution_count": 11,
     "metadata": {},
     "output_type": "execute_result"
    }
   ],
   "source": [
    "solver_asynch = PSO_asynchron(num_particles = 30, function = high_dim_rosenbrock, n_iter = 500, ndim = 30,\n",
    "             lower = -10, upper = 10, epsilon = 0)\n",
    "solver_asynch.run()"
   ]
  },
  {
   "cell_type": "markdown",
   "metadata": {},
   "source": [
    "### Griewank function\n",
    "\n",
    "$$f(x) = 1+{\\frac  {1}{4000}}\\sum _{{i=1}}^{n}x_{i}^{2}-\\prod _{{i=1}}^{n}\\cos \\left({\\frac  {x_{i}}{{\\sqrt  {i}}}}\\right)$$"
   ]
  },
  {
   "cell_type": "code",
   "execution_count": null,
   "metadata": {},
   "outputs": [],
   "source": [
    "from functions import griewank\n",
    "# PSO\n",
    "solver = PSO(num_particles = 60, function = griewank, n_iter = 1000, ndim = 30,\n",
    "                     lower = -600, upper = 600, epsilon = 10e-07)\n",
    "solver.run() # acceptable error < 0.1"
   ]
  },
  {
   "cell_type": "markdown",
   "metadata": {},
   "source": [
    "### Schaffer's F6\n",
    "\n",
    "$$f(x)=0.5+\\frac{sin^2(\\sqrt{x_1^2 + x_2^2})-0.5}{[1+0.001 \\cdot (x_1^2 + x_2^2)]^2}$$"
   ]
  },
  {
   "cell_type": "code",
   "execution_count": 13,
   "metadata": {},
   "outputs": [
    {
     "name": "stdout",
     "output_type": "stream",
     "text": [
      "Running the PSO algorithm with 30 particles, for at most 500 iterations.\n",
      "\n",
      "After 500 iterations,\n",
      "Found minimum at [ 2.06203342e-09 -5.34428782e-10] with value 0.0.\n"
     ]
    },
    {
     "data": {
      "text/plain": [
       "array([ 2.06203342e-09, -5.34428782e-10])"
      ]
     },
     "execution_count": 13,
     "metadata": {},
     "output_type": "execute_result"
    }
   ],
   "source": [
    "from functions import schaffer_f6\n",
    "# PSO\n",
    "solver = PSO(num_particles = 30, function = schaffer_f6, n_iter = 500, ndim = 2,\n",
    "                     lower = -100, upper = 100, epsilon = 0)\n",
    "solver.run() # acceptable error < 10e-06"
   ]
  },
  {
   "cell_type": "markdown",
   "metadata": {},
   "source": [
    "### Rastrigin function\n",
    "\n",
    "$$f(\\mathbf {x} )=An+\\sum _{i=1}^{n}\\left[x_{i}^{2}-A\\cos(2\\pi x_{i})\\right]$$\n",
    "\n",
    "where $ A=10 $ and $x_{i}\\in [-5.12,5.12]$."
   ]
  },
  {
   "cell_type": "code",
   "execution_count": 15,
   "metadata": {},
   "outputs": [],
   "source": [
    "from functions import rastrigin\n",
    "from PSO import *"
   ]
  },
  {
   "cell_type": "code",
   "execution_count": 22,
   "metadata": {},
   "outputs": [
    {
     "name": "stdout",
     "output_type": "stream",
     "text": [
      "Running the PSO algorithm with 100 particles, for at most 200 iterations.\n",
      "\n",
      "After 200 iterations,\n",
      "Found minimum at [-3.37912075e-03 -9.99806333e-01 -7.79087945e-04 -3.98782356e-03\n",
      "  3.97690808e+00 -1.98021112e+00  9.92264219e-01 -9.91646932e-01\n",
      "  3.00307949e+00 -1.00766522e+00  4.37998632e-03 -2.84200162e-03\n",
      " -9.96185333e-01 -5.19562497e-03  1.98806938e+00  1.31949995e-02\n",
      "  1.98504280e+00 -9.93752794e-01  5.50782026e-03 -1.01028071e+00\n",
      "  1.98558980e+00 -9.95610633e-01  9.85252905e-01  9.93786347e-01\n",
      " -1.00547710e+00  9.63235475e-03 -9.94820310e-01 -7.66437141e-03\n",
      "  9.87950984e-01  1.00638266e+00] with value 55.06857957681086.\n"
     ]
    },
    {
     "data": {
      "text/plain": [
       "array([-3.37912075e-03, -9.99806333e-01, -7.79087945e-04, -3.98782356e-03,\n",
       "        3.97690808e+00, -1.98021112e+00,  9.92264219e-01, -9.91646932e-01,\n",
       "        3.00307949e+00, -1.00766522e+00,  4.37998632e-03, -2.84200162e-03,\n",
       "       -9.96185333e-01, -5.19562497e-03,  1.98806938e+00,  1.31949995e-02,\n",
       "        1.98504280e+00, -9.93752794e-01,  5.50782026e-03, -1.01028071e+00,\n",
       "        1.98558980e+00, -9.95610633e-01,  9.85252905e-01,  9.93786347e-01,\n",
       "       -1.00547710e+00,  9.63235475e-03, -9.94820310e-01, -7.66437141e-03,\n",
       "        9.87950984e-01,  1.00638266e+00])"
      ]
     },
     "execution_count": 22,
     "metadata": {},
     "output_type": "execute_result"
    }
   ],
   "source": [
    "# PSO\n",
    "solver = PSO(num_particles = 100, function = rastrigin, n_iter = 200, ndim = 30,\n",
    "                     lower = -5.12, upper = 5.12, epsilon = 10e-7)\n",
    "solver.run() # acceptable error < 100"
   ]
  },
  {
   "cell_type": "code",
   "execution_count": 24,
   "metadata": {},
   "outputs": [
    {
     "name": "stdout",
     "output_type": "stream",
     "text": [
      "Running the PSO algorithm asynchronously with 100 particles, for at most 20000 function evaluations.\n",
      "\n",
      "After 19956 function evaluations,\n",
      "Found minimum at [-1.9851162236310642, -0.9767254839377012, 0.9681459721312682, 1.097397219395972, -1.9323300862347008, -2.0192960890025926, -1.0122491045245257, -1.993480616989867, -0.032249567001426206, 0.9765540468373101, 1.9371882977701196, -0.02016073179963001, -0.9557577115537138, 1.006519611884433, -0.027312071363085007, -0.11712356588798922, 0.02290108085190998, -0.022177058554074407, -1.1000014542898198, 0.942627788822151, 1.9841674335212967, 0.014242713803483874, 0.04048718244064234, -0.09653822356070726, -0.08976622876535562, 1.9618000336711567, 2.011926755240875, -1.9631256176461458, 0.003920862652325295, 1.0464331949366552] with value 60.35604329125468.\n"
     ]
    },
    {
     "data": {
      "text/plain": [
       "[-1.9851162236310642,\n",
       " -0.9767254839377012,\n",
       " 0.9681459721312682,\n",
       " 1.097397219395972,\n",
       " -1.9323300862347008,\n",
       " -2.0192960890025926,\n",
       " -1.0122491045245257,\n",
       " -1.993480616989867,\n",
       " -0.032249567001426206,\n",
       " 0.9765540468373101,\n",
       " 1.9371882977701196,\n",
       " -0.02016073179963001,\n",
       " -0.9557577115537138,\n",
       " 1.006519611884433,\n",
       " -0.027312071363085007,\n",
       " -0.11712356588798922,\n",
       " 0.02290108085190998,\n",
       " -0.022177058554074407,\n",
       " -1.1000014542898198,\n",
       " 0.942627788822151,\n",
       " 1.9841674335212967,\n",
       " 0.014242713803483874,\n",
       " 0.04048718244064234,\n",
       " -0.09653822356070726,\n",
       " -0.08976622876535562,\n",
       " 1.9618000336711567,\n",
       " 2.011926755240875,\n",
       " -1.9631256176461458,\n",
       " 0.003920862652325295,\n",
       " 1.0464331949366552]"
      ]
     },
     "execution_count": 24,
     "metadata": {},
     "output_type": "execute_result"
    }
   ],
   "source": [
    "# Asynchronous Parallel PSO\n",
    "solver_asynchron = PSO_asynchron(num_particles = 100, function = rastrigin, n_iter = 200, ndim = 30,\n",
    "                     lower = -5.12, upper = 5.12, epsilon = 10e-16)\n",
    "solver_asynchron.run() # acceptable error < 100"
   ]
  },
  {
   "cell_type": "code",
   "execution_count": null,
   "metadata": {},
   "outputs": [],
   "source": [
    "import numpy as np\n",
    "np.array([1, 2]) * np.array([1, 1])"
   ]
  },
  {
   "cell_type": "code",
   "execution_count": null,
   "metadata": {},
   "outputs": [],
   "source": []
  }
 ],
 "metadata": {
  "kernelspec": {
   "display_name": "Python 3",
   "language": "python",
   "name": "python3"
  },
  "language_info": {
   "codemirror_mode": {
    "name": "ipython",
    "version": 3
   },
   "file_extension": ".py",
   "mimetype": "text/x-python",
   "name": "python",
   "nbconvert_exporter": "python",
   "pygments_lexer": "ipython3",
   "version": "3.7.1"
  }
 },
 "nbformat": 4,
 "nbformat_minor": 2
}
