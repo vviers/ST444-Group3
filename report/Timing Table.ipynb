{
 "cells": [
  {
   "cell_type": "markdown",
   "metadata": {},
   "source": [
    "Function | Formula | Dim | Range | Basic Time | Synchron Time | Asynchron Time\n",
    "--- | :---: | :---: | :---: | :---: | :---: | ---\n",
    "Simple Quadratic | $$ f(x) = (x_1 + 2x_2 - 3)^2 + (x_1 - 2)^2$$ | 2 | \\[-10,10\\] | 393 $\\mu$s | 1.09 ms | 21.7 ms\n",
    "Sphere (de Jong F1) | $$ f(x) = \\sum_{i=1}^n x_i^2 $$ | 30 | \\[-100,100\\] | 1.01 ms | 1.59 ms | 23.5 ms\n",
    "Rosenbrock | $$f(\\mathbf {x} )=\\sum _{i=1}^{N-1}[100(x_{i+1}-x_{i}^{2})^{2}+(1-x_{i})^{2}]$$ | 30 | \\[-30,30\\] | 1.83 ms | 2.04 ms | 17.6 ms\n",
    "Griewank | $$f(x) = 1+{\\frac  {1}{4000}}\\sum _{{i=1}}^{n}x_{i}^{2}-\\prod _{{i=1}}^{n}\\cos \\left({\\frac  {x_{i}}{{\\sqrt{i}}}}\\right)$$ | 30 | \\[-600,600\\] | 4.03 ms | 3.76 ms | 21.3 ms\n",
    "Schaffer's F6 | $$f(x)=0.5+\\frac{sin^2(\\sqrt{x_1^2 + x_2^2})-0.5}{[1+0.001 \\cdot (x_1^2 + x_2^2)]^2}$$ | 2 | \\[-100,100\\] | 529 $\\mu$s | 1.12 ms | 18.2 ms\n",
    "Rastrigin | $$f(\\mathbf {x} )=An+\\sum _{i=1}^{n}\\left[x_{i}^{2}-A\\cos(2\\pi x_{i})\\right]$$ | 30 | \\[-5.12,5.12\\] | 488 $\\mu$s | 2.84 ms | 18.9 ms  \n",
    "\n"
   ]
  },
  {
   "cell_type": "code",
   "execution_count": null,
   "metadata": {},
   "outputs": [],
   "source": []
  },
  {
   "cell_type": "code",
   "execution_count": null,
   "metadata": {},
   "outputs": [],
   "source": []
  }
 ],
 "metadata": {
  "kernelspec": {
   "display_name": "Python 3",
   "language": "python",
   "name": "python3"
  },
  "language_info": {
   "codemirror_mode": {
    "name": "ipython",
    "version": 3
   },
   "file_extension": ".py",
   "mimetype": "text/x-python",
   "name": "python",
   "nbconvert_exporter": "python",
   "pygments_lexer": "ipython3",
   "version": "3.7.0"
  }
 },
 "nbformat": 4,
 "nbformat_minor": 2
}
